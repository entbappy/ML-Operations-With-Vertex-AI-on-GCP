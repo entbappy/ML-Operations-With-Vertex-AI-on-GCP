{
 "cells": [
  {
   "cell_type": "markdown",
   "id": "cbb3c3e0-6c82-4aca-a2cc-7edf055495ea",
   "metadata": {
    "id": "cbb3c3e0-6c82-4aca-a2cc-7edf055495ea"
   },
   "source": [
    "![ga4](https://www.google-analytics.com/collect?v=2&tid=G-6VDTYWLKX6&cid=1&en=page_view&sid=1&dl=statmike%2Fvertex-ai-mlops%2Farchitectures%2Ftracking%2Fsetup%2Fga4&dt=GA4+Setup.ipynb)\n",
    "\n",
    "## GA4 Setup\n",
    "\n",
    "**Goal** \n",
    "\n",
    "Count how many times each document is viewed without tracking anything more than the view - no user information!\n",
    "\n",
    "**Constraints**\n",
    "\n",
    "This repository is primarily markdown documents (`.md`) and Jupyter Notebooks (`.ipynb`) which are both static when viewed. Viewers include: IDE like VSCode, JupyterLab, GitHub.com, Colab.  \n",
    "\n",
    "**Approach**\n",
    "\n",
    "Include a tracking pixel as an image at the top of each document.  As the files load in a viewer they load images `![](path/to/image)` as they render markdown.  \n",
    "\n",
    "The pixels path is a GA4 measurement protocol path that includes tracking information.  The only information passed to the tracking pixel will be the document name and path within the repository.  **Use dummy values for session and user.**\n",
    "\n",
    "**Storage**\n",
    "\n",
    "Google Analytics can automatically export to BigQuery daily or streaming."
   ]
  },
  {
   "cell_type": "markdown",
   "id": "490cd37e-db5c-4a5f-9571-4c163d51441a",
   "metadata": {
    "id": "490cd37e-db5c-4a5f-9571-4c163d51441a"
   },
   "source": [
    "---\n",
    "## Google Analytics Setup (GA4)\n",
    "\n",
    "First, create a Google Analytics Account and a Property:\n",
    "- Go to [Google Analytics](https://analytics.google.com) and login\n",
    "- Go to `Admin` (lower left corner)\n",
    "- `+ Create Account`\n",
    "    1. Account name = vertex-ai-mlops, click `Next`\n",
    "    2. Property name = github, click `Next`\n",
    "    3. optional fill out business info, click `Create`\n",
    "- Select the Account and Property, then on Property menu:\n",
    "    - Click `Data Streams`\n",
    "    - Click `Add stream` and select `Web`\n",
    "        - Website URL is https://www.github.com, but can be anything!\n",
    "        - Stream name = github\n",
    "        - Make sure `Enhanced measurement` is selected\n",
    "        - Click `Create stream`\n",
    "        - You may be prompted to Install your Google tag, dismiss this setup by clicking `X`\n",
    "    - Note the Measurment ID for this stream\n",
    "    - Retrieve the API secret for this Measurement ID\n",
    "        - Under `Web stream details` select `Measurment Protocol API secrets`\n",
    "            - Navigation if needed: Admin > Account > Property > Data Streams > github (name assigned above) > Measurement Protocol API secrets\n",
    "        - Select `Create` (upper right)\n",
    "        - Nickname = vertex-ai-mlops, Click `Create`\n",
    "        - Note the Secret value (but do not store in notebook!)"
   ]
  },
  {
   "cell_type": "markdown",
   "id": "8c87b422-be14-47b1-83de-a127f96043d8",
   "metadata": {
    "id": "8c87b422-be14-47b1-83de-a127f96043d8"
   },
   "source": [
    "---\n",
    "## Create Tracking Pixels\n",
    "\n",
    "Tracking pixels are URLs constructed of information and using the measurment ID create during Google Analytics Setup.\n",
    "\n",
    ">A seemingly not well documented version of the measurment protocol with `&v=2`, version 2, exists.  I discovered these blogs and tips oneline for it:\n",
    ">- https://www.optimizesmart.com/what-is-measurement-protocol-in-google-analytics-4-ga4/\n",
    ">- https://stackoverflow.com/questions/59264782/analytics-track-custom-events-in-new-webapp\n",
    "\n",
    "\n",
    "\n",
    "\n",
    "The main url is: https://www.google-analytics.com/collect\n",
    "Options are added to this url:\n",
    "- `?v=2` - specifies version 2 of the measurment protocol\n",
    "    - [Reference](https://developers.google.com/analytics/devguides/collection/protocol/v1/parameters#v)\n",
    "- `?tid=<value here>` measurement id - points information to the property we created above\n",
    "    - [Reference](https://developers.google.com/analytics/devguides/collection/protocol/v1/parameters#tid)\n",
    "- `?cid=1` - the users client id, required when not sending `uid` (user id), in this case is set to dummy value of 1 for all users/clients.\n",
    "    - [Reference](https://developers.google.com/analytics/devguides/collection/protocol/v1/parameters#cid)\n",
    "- `?en=page_view`\n",
    "    - [Reference](https://support.google.com/analytics/answer/9216061#)\n",
    "- `?sid=1` - session id, is required, but is set to a dummy value of 1 (no cookies)\n",
    "    - [Reference](https://developers.google.com/analytics/devguides/collection/protocol/v1/parameters)\n",
    "- `?dt=` - the name of the file, make sure it is url encoded (space is %20)\n",
    "    - [Reference](https://developers.google.com/analytics/devguides/collection/protocol/v1/parameters#dt)\n",
    "- `?dl=` - the path to the file, make sure it is url encoded\n",
    "    - [Reference](https://developers.google.com/analytics/devguides/collection/protocol/v1/parameters#dl)\n",
    "\n",
    "\n",
    "The tracking pixels are automatically added to all `.md` and `.ipynb` files in this repository using the notebook [tracking_ga4_add.ipynb](./tracking_ga4_add.ipynb).\n",
    "\n"
   ]
  },
  {
   "cell_type": "markdown",
   "id": "f6a6b7e3-9076-427e-a51a-c4d83562b51a",
   "metadata": {
    "id": "f6a6b7e3-9076-427e-a51a-c4d83562b51a"
   },
   "source": [
    "---\n",
    "## GA4 Export To BigQuery\n",
    "\n",
    "This is a process you setup that runs continously, not just one time.\n",
    "\n",
    "**References**\n",
    "- [GA4 BigQuery Export](https://support.google.com/analytics/answer/9358801?hl=en&utm_id=ad)\n",
    "- [GA4 Setup BigQuery Export](https://support.google.com/analytics/answer/9823238?hl=en&ref_topic=9359001#zippy=%2Cin-this-article)\n",
    "\n",
    "Setup Process:\n",
    "- Note: Use the same login for Google Analytics and GCP.  This login for GCP needs owner access to the BigQuery project that will be used and the editor role for the Google Analytics Property created above.\n",
    "- Go to [Google Analytics](https://analytics.google.com) and login\n",
    "- Go to `Admin` (lower left corner)\n",
    "- Select Account = vertex-ai-mlops (created above)\n",
    "- Select Property = github (created above)\n",
    "    - Select `BigQuery Links` under `Product Links`\n",
    "    - Click `Link`\n",
    "    - Click `Choose a BigQuery project`\n",
    "    - Select a project from the list, click `Confirm`\n",
    "    - Select a location form the list, US multi-regions, click `Next`\n",
    "    - Select `Configure data streams and events` and select the data stream named github (created above). No need to exclude any events.\n",
    "    - Click `Done`\n",
    "    - Select Frequency - both `Daily` and `Streaming`\n",
    "    - Click `Next`\n",
    "    - Click `Submit`\n"
   ]
  },
  {
   "cell_type": "markdown",
   "id": "44ac1eb8-7ec3-4b09-84a2-ec4b914a8ae3",
   "metadata": {
    "id": "44ac1eb8-7ec3-4b09-84a2-ec4b914a8ae3"
   },
   "source": [
    "---\n",
    "## Data in BigQuery\n",
    "\n",
    "**Dataset**\n",
    "\n",
    "The process above creates a dataset in choosen BigQuery project that is named `analytics_########` where the `########` is the property id.\n",
    "\n",
    "**Tables**\n",
    "\n",
    "The daily tables are named `events_YYYYMMDD`.  \n",
    "The streaming tables are named `events_intraday_YYYYMMDD`.\n",
    "\n",
    "These are sharded tables that can be read individually or using a wildcard.  The read can be filtered with a `WHERE` statement that uses `_TABLE_SUFFIX`. [Reference](https://cloud.google.com/bigquery/docs/querying-wildcard-tables)"
   ]
  },
  {
   "cell_type": "markdown",
   "id": "1faba6b8-093d-4c94-ad55-4ac470c65e41",
   "metadata": {
    "id": "1faba6b8-093d-4c94-ad55-4ac470c65e41"
   },
   "source": [
    "---\n",
    "## Review Data In BigQuery\n",
    "\n",
    "The following subsection setup a python session to interact with BigQuery and retrieve GA4 datasets and tables for review within this notebook."
   ]
  },
  {
   "cell_type": "markdown",
   "id": "ODcubLt6zM_V",
   "metadata": {
    "id": "ODcubLt6zM_V"
   },
   "source": [
    "---\n",
    "### Colab Setup\n",
    "\n",
    "To run this notebook in Colab click [![Open In Colab](https://colab.research.google.com/assets/colab-badge.svg)](https://colab.research.google.com/github/statmike/vertex-ai-mlops/blob/main/architectures/tracking/setup/ga4/GA4%20Setup.ipynb) and run the cells in this section.  Otherwise, skip this section.\n",
    "\n",
    "This cell will authenticate to GCP (follow prompts in the popup). "
   ]
  },
  {
   "cell_type": "code",
   "execution_count": 2,
   "id": "uD-RFlIJ0aPv",
   "metadata": {
    "executionInfo": {
     "elapsed": 145,
     "status": "ok",
     "timestamp": 1676762286261,
     "user": {
      "displayName": "Mike Henderson",
      "userId": "11664017018095232389"
     },
     "user_tz": 300
    },
    "id": "uD-RFlIJ0aPv"
   },
   "outputs": [],
   "source": [
    "PROJECT_ID = 'vertex-ai-mlops-369716' # replace with project ID"
   ]
  },
  {
   "cell_type": "code",
   "execution_count": 3,
   "id": "4ed494ca-aebd-449c-ad67-c7c023d61d11",
   "metadata": {
    "colab": {
     "base_uri": "https://localhost:8080/"
    },
    "executionInfo": {
     "elapsed": 2423,
     "status": "ok",
     "timestamp": 1676762289554,
     "user": {
      "displayName": "Mike Henderson",
      "userId": "11664017018095232389"
     },
     "user_tz": 300
    },
    "id": "4ed494ca-aebd-449c-ad67-c7c023d61d11",
    "outputId": "a942227e-5db6-4053-9b89-fef43c5375ae"
   },
   "outputs": [
    {
     "name": "stdout",
     "output_type": "stream",
     "text": [
      "Updated property [core/project].\n"
     ]
    }
   ],
   "source": [
    "try:\n",
    "    import google.colab\n",
    "    from google.colab import auth\n",
    "    auth.authenticate_user()\n",
    "    !gcloud config set project {PROJECT_ID}\n",
    "except Exception:\n",
    "    pass"
   ]
  },
  {
   "cell_type": "markdown",
   "id": "5dAzNsegzsjX",
   "metadata": {
    "id": "5dAzNsegzsjX"
   },
   "source": [
    "---\n",
    "### Setup"
   ]
  },
  {
   "cell_type": "code",
   "execution_count": 4,
   "id": "BCWeYkbbzhnR",
   "metadata": {
    "colab": {
     "base_uri": "https://localhost:8080/",
     "height": 35
    },
    "executionInfo": {
     "elapsed": 1016,
     "status": "ok",
     "timestamp": 1676762299617,
     "user": {
      "displayName": "Mike Henderson",
      "userId": "11664017018095232389"
     },
     "user_tz": 300
    },
    "id": "BCWeYkbbzhnR",
    "outputId": "9a7db4e8-32a6-45d5-858d-d9df0fe2d79d"
   },
   "outputs": [
    {
     "data": {
      "application/vnd.google.colaboratory.intrinsic+json": {
       "type": "string"
      },
      "text/plain": [
       "'vertex-ai-mlops-369716'"
      ]
     },
     "execution_count": 4,
     "metadata": {},
     "output_type": "execute_result"
    }
   ],
   "source": [
    "project = !gcloud config get-value project\n",
    "PROJECT_ID = project[0]\n",
    "PROJECT_ID"
   ]
  },
  {
   "cell_type": "code",
   "execution_count": 5,
   "id": "S8ucLvhvzhlH",
   "metadata": {
    "executionInfo": {
     "elapsed": 152,
     "status": "ok",
     "timestamp": 1676762302256,
     "user": {
      "displayName": "Mike Henderson",
      "userId": "11664017018095232389"
     },
     "user_tz": 300
    },
    "id": "S8ucLvhvzhlH"
   },
   "outputs": [],
   "source": [
    "BQ_PROJECT = PROJECT_ID"
   ]
  },
  {
   "cell_type": "code",
   "execution_count": 6,
   "id": "0s3eMfsjzhii",
   "metadata": {
    "executionInfo": {
     "elapsed": 1074,
     "status": "ok",
     "timestamp": 1676762305490,
     "user": {
      "displayName": "Mike Henderson",
      "userId": "11664017018095232389"
     },
     "user_tz": 300
    },
    "id": "0s3eMfsjzhii"
   },
   "outputs": [],
   "source": [
    "from google.cloud import bigquery"
   ]
  },
  {
   "cell_type": "code",
   "execution_count": 7,
   "id": "9cqqUKxhzheW",
   "metadata": {
    "executionInfo": {
     "elapsed": 149,
     "status": "ok",
     "timestamp": 1676762306438,
     "user": {
      "displayName": "Mike Henderson",
      "userId": "11664017018095232389"
     },
     "user_tz": 300
    },
    "id": "9cqqUKxhzheW"
   },
   "outputs": [],
   "source": [
    "bq = bigquery.Client(project = PROJECT_ID)"
   ]
  },
  {
   "cell_type": "markdown",
   "id": "N-o_gukL0Muk",
   "metadata": {
    "id": "N-o_gukL0Muk"
   },
   "source": [
    "### List BigQuery Datasets with GA4 Tables\n",
    "\n",
    "GA4 Exports create datasets that start with `analytics-` followed by the property id."
   ]
  },
  {
   "cell_type": "code",
   "execution_count": 31,
   "id": "uROCWuQRzhcg",
   "metadata": {
    "colab": {
     "base_uri": "https://localhost:8080/"
    },
    "executionInfo": {
     "elapsed": 297,
     "status": "ok",
     "timestamp": 1676763766966,
     "user": {
      "displayName": "Mike Henderson",
      "userId": "11664017018095232389"
     },
     "user_tz": 300
    },
    "id": "uROCWuQRzhcg",
    "outputId": "5c2eedd8-9133-4d9e-db0c-f0220e6aad43"
   },
   "outputs": [
    {
     "name": "stdout",
     "output_type": "stream",
     "text": [
      "analytics_343629755\n"
     ]
    }
   ],
   "source": [
    "for d in list(bq.list_datasets()):\n",
    "  if d.dataset_id.startswith('analytics_'):\n",
    "    dataset = d\n",
    "    print(dataset.dataset_id)\n",
    "    break"
   ]
  },
  {
   "cell_type": "code",
   "execution_count": 32,
   "id": "0S9qPcjAzhZ_",
   "metadata": {
    "colab": {
     "base_uri": "https://localhost:8080/",
     "height": 35
    },
    "executionInfo": {
     "elapsed": 133,
     "status": "ok",
     "timestamp": 1676763774556,
     "user": {
      "displayName": "Mike Henderson",
      "userId": "11664017018095232389"
     },
     "user_tz": 300
    },
    "id": "0S9qPcjAzhZ_",
    "outputId": "b8f48491-2d48-4eb7-a1f5-89446dda9582"
   },
   "outputs": [
    {
     "data": {
      "application/vnd.google.colaboratory.intrinsic+json": {
       "type": "string"
      },
      "text/plain": [
       "'analytics_343629755'"
      ]
     },
     "execution_count": 32,
     "metadata": {},
     "output_type": "execute_result"
    }
   ],
   "source": [
    "dataset.dataset_id"
   ]
  },
  {
   "cell_type": "code",
   "execution_count": 33,
   "id": "VZWPBloxzhXn",
   "metadata": {
    "colab": {
     "base_uri": "https://localhost:8080/",
     "height": 35
    },
    "executionInfo": {
     "elapsed": 149,
     "status": "ok",
     "timestamp": 1676763780487,
     "user": {
      "displayName": "Mike Henderson",
      "userId": "11664017018095232389"
     },
     "user_tz": 300
    },
    "id": "VZWPBloxzhXn",
    "outputId": "e388b353-b0d2-442e-a06e-7145a1c87879"
   },
   "outputs": [
    {
     "data": {
      "application/vnd.google.colaboratory.intrinsic+json": {
       "type": "string"
      },
      "text/plain": [
       "'vertex-ai-mlops-369716:analytics_343629755'"
      ]
     },
     "execution_count": 33,
     "metadata": {},
     "output_type": "execute_result"
    }
   ],
   "source": [
    "dataset.full_dataset_id"
   ]
  },
  {
   "cell_type": "markdown",
   "id": "Nz4HTzsw3Hi2",
   "metadata": {
    "id": "Nz4HTzsw3Hi2"
   },
   "source": [
    "### List BigQuery GA4 Tables in Dataset"
   ]
  },
  {
   "cell_type": "code",
   "execution_count": 34,
   "id": "JTmAV2pBzhV-",
   "metadata": {
    "colab": {
     "base_uri": "https://localhost:8080/"
    },
    "executionInfo": {
     "elapsed": 527,
     "status": "ok",
     "timestamp": 1676763790078,
     "user": {
      "displayName": "Mike Henderson",
      "userId": "11664017018095232389"
     },
     "user_tz": 300
    },
    "id": "JTmAV2pBzhV-",
    "outputId": "3161bfed-7419-419d-af69-62380b611591"
   },
   "outputs": [
    {
     "name": "stdout",
     "output_type": "stream",
     "text": [
      "vertex-ai-mlops-369716:analytics_343629755.events_20221124\n",
      "vertex-ai-mlops-369716:analytics_343629755.events_20221125\n",
      "vertex-ai-mlops-369716:analytics_343629755.events_intraday_20221127\n",
      "vertex-ai-mlops-369716:analytics_343629755.events_intraday_20221128\n",
      "vertex-ai-mlops-369716:analytics_343629755.events_intraday_20221129\n",
      "vertex-ai-mlops-369716:analytics_343629755.events_intraday_20221130\n",
      "vertex-ai-mlops-369716:analytics_343629755.events_intraday_20221201\n",
      "vertex-ai-mlops-369716:analytics_343629755.events_intraday_20221202\n",
      "vertex-ai-mlops-369716:analytics_343629755.events_intraday_20221203\n",
      "vertex-ai-mlops-369716:analytics_343629755.events_intraday_20221204\n",
      "vertex-ai-mlops-369716:analytics_343629755.events_intraday_20221205\n",
      "vertex-ai-mlops-369716:analytics_343629755.events_intraday_20221206\n",
      "vertex-ai-mlops-369716:analytics_343629755.events_intraday_20221207\n",
      "vertex-ai-mlops-369716:analytics_343629755.events_intraday_20221208\n",
      "vertex-ai-mlops-369716:analytics_343629755.events_intraday_20221209\n",
      "vertex-ai-mlops-369716:analytics_343629755.events_intraday_20221210\n",
      "vertex-ai-mlops-369716:analytics_343629755.events_intraday_20221211\n",
      "vertex-ai-mlops-369716:analytics_343629755.events_intraday_20221212\n",
      "vertex-ai-mlops-369716:analytics_343629755.events_intraday_20221213\n",
      "vertex-ai-mlops-369716:analytics_343629755.events_intraday_20221214\n",
      "vertex-ai-mlops-369716:analytics_343629755.events_intraday_20221215\n",
      "vertex-ai-mlops-369716:analytics_343629755.events_intraday_20221216\n",
      "vertex-ai-mlops-369716:analytics_343629755.events_intraday_20221217\n",
      "vertex-ai-mlops-369716:analytics_343629755.events_intraday_20221218\n",
      "vertex-ai-mlops-369716:analytics_343629755.events_intraday_20221219\n",
      "vertex-ai-mlops-369716:analytics_343629755.events_intraday_20221220\n",
      "vertex-ai-mlops-369716:analytics_343629755.events_intraday_20221221\n",
      "vertex-ai-mlops-369716:analytics_343629755.events_intraday_20221222\n",
      "vertex-ai-mlops-369716:analytics_343629755.events_intraday_20221223\n",
      "vertex-ai-mlops-369716:analytics_343629755.events_intraday_20221224\n",
      "vertex-ai-mlops-369716:analytics_343629755.events_intraday_20221225\n",
      "vertex-ai-mlops-369716:analytics_343629755.events_intraday_20221226\n",
      "vertex-ai-mlops-369716:analytics_343629755.events_intraday_20221227\n",
      "vertex-ai-mlops-369716:analytics_343629755.events_intraday_20221228\n",
      "vertex-ai-mlops-369716:analytics_343629755.events_intraday_20221229\n",
      "vertex-ai-mlops-369716:analytics_343629755.events_intraday_20221230\n",
      "vertex-ai-mlops-369716:analytics_343629755.events_intraday_20221231\n",
      "vertex-ai-mlops-369716:analytics_343629755.events_intraday_20230101\n",
      "vertex-ai-mlops-369716:analytics_343629755.events_intraday_20230102\n",
      "vertex-ai-mlops-369716:analytics_343629755.events_intraday_20230103\n",
      "vertex-ai-mlops-369716:analytics_343629755.events_intraday_20230104\n",
      "vertex-ai-mlops-369716:analytics_343629755.events_intraday_20230105\n",
      "vertex-ai-mlops-369716:analytics_343629755.events_intraday_20230106\n",
      "vertex-ai-mlops-369716:analytics_343629755.events_intraday_20230107\n",
      "vertex-ai-mlops-369716:analytics_343629755.events_intraday_20230108\n",
      "vertex-ai-mlops-369716:analytics_343629755.events_intraday_20230109\n",
      "vertex-ai-mlops-369716:analytics_343629755.events_intraday_20230110\n",
      "vertex-ai-mlops-369716:analytics_343629755.events_intraday_20230111\n",
      "vertex-ai-mlops-369716:analytics_343629755.events_intraday_20230112\n",
      "vertex-ai-mlops-369716:analytics_343629755.events_intraday_20230113\n",
      "vertex-ai-mlops-369716:analytics_343629755.events_intraday_20230114\n",
      "vertex-ai-mlops-369716:analytics_343629755.events_intraday_20230115\n",
      "vertex-ai-mlops-369716:analytics_343629755.events_intraday_20230116\n",
      "vertex-ai-mlops-369716:analytics_343629755.events_intraday_20230117\n",
      "vertex-ai-mlops-369716:analytics_343629755.events_intraday_20230118\n",
      "vertex-ai-mlops-369716:analytics_343629755.events_intraday_20230119\n",
      "vertex-ai-mlops-369716:analytics_343629755.events_intraday_20230120\n",
      "vertex-ai-mlops-369716:analytics_343629755.events_intraday_20230121\n",
      "vertex-ai-mlops-369716:analytics_343629755.events_intraday_20230122\n",
      "vertex-ai-mlops-369716:analytics_343629755.events_intraday_20230123\n",
      "vertex-ai-mlops-369716:analytics_343629755.events_intraday_20230124\n",
      "vertex-ai-mlops-369716:analytics_343629755.events_intraday_20230125\n",
      "vertex-ai-mlops-369716:analytics_343629755.events_intraday_20230126\n",
      "vertex-ai-mlops-369716:analytics_343629755.events_intraday_20230127\n",
      "vertex-ai-mlops-369716:analytics_343629755.events_intraday_20230128\n",
      "vertex-ai-mlops-369716:analytics_343629755.events_intraday_20230129\n",
      "vertex-ai-mlops-369716:analytics_343629755.events_intraday_20230130\n",
      "vertex-ai-mlops-369716:analytics_343629755.events_intraday_20230131\n",
      "vertex-ai-mlops-369716:analytics_343629755.events_intraday_20230201\n",
      "vertex-ai-mlops-369716:analytics_343629755.events_intraday_20230202\n",
      "vertex-ai-mlops-369716:analytics_343629755.events_intraday_20230203\n",
      "vertex-ai-mlops-369716:analytics_343629755.events_intraday_20230204\n",
      "vertex-ai-mlops-369716:analytics_343629755.events_intraday_20230205\n",
      "vertex-ai-mlops-369716:analytics_343629755.events_intraday_20230206\n",
      "vertex-ai-mlops-369716:analytics_343629755.events_intraday_20230207\n",
      "vertex-ai-mlops-369716:analytics_343629755.events_intraday_20230208\n",
      "vertex-ai-mlops-369716:analytics_343629755.events_intraday_20230209\n",
      "vertex-ai-mlops-369716:analytics_343629755.events_intraday_20230210\n",
      "vertex-ai-mlops-369716:analytics_343629755.events_intraday_20230211\n",
      "vertex-ai-mlops-369716:analytics_343629755.events_intraday_20230212\n",
      "vertex-ai-mlops-369716:analytics_343629755.events_intraday_20230213\n",
      "vertex-ai-mlops-369716:analytics_343629755.events_intraday_20230214\n",
      "vertex-ai-mlops-369716:analytics_343629755.events_intraday_20230215\n",
      "vertex-ai-mlops-369716:analytics_343629755.events_intraday_20230216\n",
      "vertex-ai-mlops-369716:analytics_343629755.events_intraday_20230217\n",
      "vertex-ai-mlops-369716:analytics_343629755.events_intraday_20230218\n"
     ]
    }
   ],
   "source": [
    "for t in list(bq.list_tables(dataset)):\n",
    "  print(t.full_table_id)"
   ]
  },
  {
   "cell_type": "code",
   "execution_count": 35,
   "id": "qoX7-BcrzhSw",
   "metadata": {
    "colab": {
     "base_uri": "https://localhost:8080/",
     "height": 35
    },
    "executionInfo": {
     "elapsed": 535,
     "status": "ok",
     "timestamp": 1676763802346,
     "user": {
      "displayName": "Mike Henderson",
      "userId": "11664017018095232389"
     },
     "user_tz": 300
    },
    "id": "qoX7-BcrzhSw",
    "outputId": "04aaca72-4f3f-42d7-f4f0-b4930ff62745"
   },
   "outputs": [
    {
     "data": {
      "application/vnd.google.colaboratory.intrinsic+json": {
       "type": "string"
      },
      "text/plain": [
       "'vertex-ai-mlops-369716:analytics_343629755.events_intraday_20230218'"
      ]
     },
     "execution_count": 35,
     "metadata": {},
     "output_type": "execute_result"
    }
   ],
   "source": [
    "table = list(bq.list_tables(dataset))[-1]\n",
    "table.full_table_id"
   ]
  },
  {
   "cell_type": "code",
   "execution_count": 36,
   "id": "OzIxff5FzhP5",
   "metadata": {
    "colab": {
     "base_uri": "https://localhost:8080/",
     "height": 977
    },
    "executionInfo": {
     "elapsed": 2463,
     "status": "ok",
     "timestamp": 1676763808348,
     "user": {
      "displayName": "Mike Henderson",
      "userId": "11664017018095232389"
     },
     "user_tz": 300
    },
    "id": "OzIxff5FzhP5",
    "outputId": "a7b6dd3d-53e6-4420-f9f2-4ad5902d8aa7"
   },
   "outputs": [
    {
     "data": {
      "text/html": [
       "\n",
       "  <div id=\"df-18d39842-8923-4831-9b68-60338cae0609\">\n",
       "    <div class=\"colab-df-container\">\n",
       "      <div>\n",
       "<style scoped>\n",
       "    .dataframe tbody tr th:only-of-type {\n",
       "        vertical-align: middle;\n",
       "    }\n",
       "\n",
       "    .dataframe tbody tr th {\n",
       "        vertical-align: top;\n",
       "    }\n",
       "\n",
       "    .dataframe thead th {\n",
       "        text-align: right;\n",
       "    }\n",
       "</style>\n",
       "<table border=\"1\" class=\"dataframe\">\n",
       "  <thead>\n",
       "    <tr style=\"text-align: right;\">\n",
       "      <th></th>\n",
       "      <th>event_date</th>\n",
       "      <th>event_timestamp</th>\n",
       "      <th>event_name</th>\n",
       "      <th>event_params</th>\n",
       "      <th>event_previous_timestamp</th>\n",
       "      <th>event_value_in_usd</th>\n",
       "      <th>event_bundle_sequence_id</th>\n",
       "      <th>event_server_timestamp_offset</th>\n",
       "      <th>user_id</th>\n",
       "      <th>user_pseudo_id</th>\n",
       "      <th>...</th>\n",
       "      <th>user_ltv</th>\n",
       "      <th>device</th>\n",
       "      <th>geo</th>\n",
       "      <th>app_info</th>\n",
       "      <th>traffic_source</th>\n",
       "      <th>stream_id</th>\n",
       "      <th>platform</th>\n",
       "      <th>event_dimensions</th>\n",
       "      <th>ecommerce</th>\n",
       "      <th>items</th>\n",
       "    </tr>\n",
       "  </thead>\n",
       "  <tbody>\n",
       "    <tr>\n",
       "      <th>0</th>\n",
       "      <td>20230218</td>\n",
       "      <td>1676761164969530</td>\n",
       "      <td>page_view</td>\n",
       "      <td>[{'key': 'page_title', 'value': {'string_value...</td>\n",
       "      <td>&lt;NA&gt;</td>\n",
       "      <td>NaN</td>\n",
       "      <td>1637643834</td>\n",
       "      <td>&lt;NA&gt;</td>\n",
       "      <td>None</td>\n",
       "      <td>1</td>\n",
       "      <td>...</td>\n",
       "      <td>{'revenue': 0.0, 'currency': 'USD'}</td>\n",
       "      <td>{'category': 'desktop', 'mobile_brand_name': '...</td>\n",
       "      <td>{'continent': '(not set)', 'country': '', 'reg...</td>\n",
       "      <td>None</td>\n",
       "      <td>None</td>\n",
       "      <td>4308611918</td>\n",
       "      <td>WEB</td>\n",
       "      <td>None</td>\n",
       "      <td>None</td>\n",
       "      <td>[]</td>\n",
       "    </tr>\n",
       "    <tr>\n",
       "      <th>1</th>\n",
       "      <td>20230218</td>\n",
       "      <td>1676761166453183</td>\n",
       "      <td>page_view</td>\n",
       "      <td>[{'key': 'page_title', 'value': {'string_value...</td>\n",
       "      <td>&lt;NA&gt;</td>\n",
       "      <td>NaN</td>\n",
       "      <td>1639127487</td>\n",
       "      <td>&lt;NA&gt;</td>\n",
       "      <td>None</td>\n",
       "      <td>1</td>\n",
       "      <td>...</td>\n",
       "      <td>{'revenue': 0.0, 'currency': 'USD'}</td>\n",
       "      <td>{'category': 'desktop', 'mobile_brand_name': '...</td>\n",
       "      <td>{'continent': '(not set)', 'country': '', 'reg...</td>\n",
       "      <td>None</td>\n",
       "      <td>None</td>\n",
       "      <td>4308611918</td>\n",
       "      <td>WEB</td>\n",
       "      <td>None</td>\n",
       "      <td>None</td>\n",
       "      <td>[]</td>\n",
       "    </tr>\n",
       "    <tr>\n",
       "      <th>2</th>\n",
       "      <td>20230218</td>\n",
       "      <td>1676761530360230</td>\n",
       "      <td>page_view</td>\n",
       "      <td>[{'key': 'page_title', 'value': {'string_value...</td>\n",
       "      <td>&lt;NA&gt;</td>\n",
       "      <td>NaN</td>\n",
       "      <td>2003034534</td>\n",
       "      <td>&lt;NA&gt;</td>\n",
       "      <td>None</td>\n",
       "      <td>1</td>\n",
       "      <td>...</td>\n",
       "      <td>{'revenue': 0.0, 'currency': 'USD'}</td>\n",
       "      <td>{'category': 'desktop', 'mobile_brand_name': '...</td>\n",
       "      <td>{'continent': '(not set)', 'country': '', 'reg...</td>\n",
       "      <td>None</td>\n",
       "      <td>None</td>\n",
       "      <td>4308611918</td>\n",
       "      <td>WEB</td>\n",
       "      <td>None</td>\n",
       "      <td>None</td>\n",
       "      <td>[]</td>\n",
       "    </tr>\n",
       "    <tr>\n",
       "      <th>3</th>\n",
       "      <td>20230218</td>\n",
       "      <td>1676761536396303</td>\n",
       "      <td>page_view</td>\n",
       "      <td>[{'key': 'ga_session_id', 'value': {'string_va...</td>\n",
       "      <td>&lt;NA&gt;</td>\n",
       "      <td>NaN</td>\n",
       "      <td>2009070607</td>\n",
       "      <td>&lt;NA&gt;</td>\n",
       "      <td>None</td>\n",
       "      <td>1</td>\n",
       "      <td>...</td>\n",
       "      <td>{'revenue': 0.0, 'currency': 'USD'}</td>\n",
       "      <td>{'category': 'desktop', 'mobile_brand_name': '...</td>\n",
       "      <td>{'continent': '(not set)', 'country': '', 'reg...</td>\n",
       "      <td>None</td>\n",
       "      <td>None</td>\n",
       "      <td>4308611918</td>\n",
       "      <td>WEB</td>\n",
       "      <td>None</td>\n",
       "      <td>None</td>\n",
       "      <td>[]</td>\n",
       "    </tr>\n",
       "    <tr>\n",
       "      <th>4</th>\n",
       "      <td>20230218</td>\n",
       "      <td>1676762044808846</td>\n",
       "      <td>page_view</td>\n",
       "      <td>[{'key': 'page_location', 'value': {'string_va...</td>\n",
       "      <td>&lt;NA&gt;</td>\n",
       "      <td>NaN</td>\n",
       "      <td>-1777484146</td>\n",
       "      <td>&lt;NA&gt;</td>\n",
       "      <td>None</td>\n",
       "      <td>1</td>\n",
       "      <td>...</td>\n",
       "      <td>{'revenue': 0.0, 'currency': 'USD'}</td>\n",
       "      <td>{'category': 'desktop', 'mobile_brand_name': '...</td>\n",
       "      <td>{'continent': '(not set)', 'country': '', 'reg...</td>\n",
       "      <td>None</td>\n",
       "      <td>None</td>\n",
       "      <td>4308611918</td>\n",
       "      <td>WEB</td>\n",
       "      <td>None</td>\n",
       "      <td>None</td>\n",
       "      <td>[]</td>\n",
       "    </tr>\n",
       "    <tr>\n",
       "      <th>5</th>\n",
       "      <td>20230218</td>\n",
       "      <td>1676762483104543</td>\n",
       "      <td>page_view</td>\n",
       "      <td>[{'key': 'page_location', 'value': {'string_va...</td>\n",
       "      <td>&lt;NA&gt;</td>\n",
       "      <td>NaN</td>\n",
       "      <td>-1339188449</td>\n",
       "      <td>&lt;NA&gt;</td>\n",
       "      <td>None</td>\n",
       "      <td>1</td>\n",
       "      <td>...</td>\n",
       "      <td>{'revenue': 0.0, 'currency': 'USD'}</td>\n",
       "      <td>{'category': 'desktop', 'mobile_brand_name': '...</td>\n",
       "      <td>{'continent': '(not set)', 'country': '', 'reg...</td>\n",
       "      <td>None</td>\n",
       "      <td>None</td>\n",
       "      <td>4308611918</td>\n",
       "      <td>WEB</td>\n",
       "      <td>None</td>\n",
       "      <td>None</td>\n",
       "      <td>[]</td>\n",
       "    </tr>\n",
       "    <tr>\n",
       "      <th>6</th>\n",
       "      <td>20230218</td>\n",
       "      <td>1676762496533447</td>\n",
       "      <td>page_view</td>\n",
       "      <td>[{'key': 'page_title', 'value': {'string_value...</td>\n",
       "      <td>&lt;NA&gt;</td>\n",
       "      <td>NaN</td>\n",
       "      <td>-1325759545</td>\n",
       "      <td>&lt;NA&gt;</td>\n",
       "      <td>None</td>\n",
       "      <td>1</td>\n",
       "      <td>...</td>\n",
       "      <td>{'revenue': 0.0, 'currency': 'USD'}</td>\n",
       "      <td>{'category': 'desktop', 'mobile_brand_name': '...</td>\n",
       "      <td>{'continent': '(not set)', 'country': '', 'reg...</td>\n",
       "      <td>None</td>\n",
       "      <td>None</td>\n",
       "      <td>4308611918</td>\n",
       "      <td>WEB</td>\n",
       "      <td>None</td>\n",
       "      <td>None</td>\n",
       "      <td>[]</td>\n",
       "    </tr>\n",
       "    <tr>\n",
       "      <th>7</th>\n",
       "      <td>20230218</td>\n",
       "      <td>1676732542535220</td>\n",
       "      <td>page_view</td>\n",
       "      <td>[{'key': 'page_location', 'value': {'string_va...</td>\n",
       "      <td>&lt;NA&gt;</td>\n",
       "      <td>NaN</td>\n",
       "      <td>-1214986700</td>\n",
       "      <td>&lt;NA&gt;</td>\n",
       "      <td>None</td>\n",
       "      <td>1</td>\n",
       "      <td>...</td>\n",
       "      <td>{'revenue': 0.0, 'currency': 'USD'}</td>\n",
       "      <td>{'category': 'desktop', 'mobile_brand_name': N...</td>\n",
       "      <td>{'continent': '(not set)', 'country': '', 'reg...</td>\n",
       "      <td>None</td>\n",
       "      <td>None</td>\n",
       "      <td>4308611918</td>\n",
       "      <td>WEB</td>\n",
       "      <td>None</td>\n",
       "      <td>None</td>\n",
       "      <td>[]</td>\n",
       "    </tr>\n",
       "    <tr>\n",
       "      <th>8</th>\n",
       "      <td>20230218</td>\n",
       "      <td>1676732547057879</td>\n",
       "      <td>page_view</td>\n",
       "      <td>[{'key': 'page_location', 'value': {'string_va...</td>\n",
       "      <td>&lt;NA&gt;</td>\n",
       "      <td>NaN</td>\n",
       "      <td>-1210464041</td>\n",
       "      <td>&lt;NA&gt;</td>\n",
       "      <td>None</td>\n",
       "      <td>1</td>\n",
       "      <td>...</td>\n",
       "      <td>{'revenue': 0.0, 'currency': 'USD'}</td>\n",
       "      <td>{'category': 'desktop', 'mobile_brand_name': N...</td>\n",
       "      <td>{'continent': '(not set)', 'country': '', 'reg...</td>\n",
       "      <td>None</td>\n",
       "      <td>None</td>\n",
       "      <td>4308611918</td>\n",
       "      <td>WEB</td>\n",
       "      <td>None</td>\n",
       "      <td>None</td>\n",
       "      <td>[]</td>\n",
       "    </tr>\n",
       "    <tr>\n",
       "      <th>9</th>\n",
       "      <td>20230218</td>\n",
       "      <td>1676732738486707</td>\n",
       "      <td>page_view</td>\n",
       "      <td>[{'key': 'page_title', 'value': {'string_value...</td>\n",
       "      <td>&lt;NA&gt;</td>\n",
       "      <td>NaN</td>\n",
       "      <td>-1019035213</td>\n",
       "      <td>&lt;NA&gt;</td>\n",
       "      <td>None</td>\n",
       "      <td>1</td>\n",
       "      <td>...</td>\n",
       "      <td>{'revenue': 0.0, 'currency': 'USD'}</td>\n",
       "      <td>{'category': 'desktop', 'mobile_brand_name': N...</td>\n",
       "      <td>{'continent': '(not set)', 'country': '', 'reg...</td>\n",
       "      <td>None</td>\n",
       "      <td>None</td>\n",
       "      <td>4308611918</td>\n",
       "      <td>WEB</td>\n",
       "      <td>None</td>\n",
       "      <td>None</td>\n",
       "      <td>[]</td>\n",
       "    </tr>\n",
       "  </tbody>\n",
       "</table>\n",
       "<p>10 rows × 23 columns</p>\n",
       "</div>\n",
       "      <button class=\"colab-df-convert\" onclick=\"convertToInteractive('df-18d39842-8923-4831-9b68-60338cae0609')\"\n",
       "              title=\"Convert this dataframe to an interactive table.\"\n",
       "              style=\"display:none;\">\n",
       "        \n",
       "  <svg xmlns=\"http://www.w3.org/2000/svg\" height=\"24px\"viewBox=\"0 0 24 24\"\n",
       "       width=\"24px\">\n",
       "    <path d=\"M0 0h24v24H0V0z\" fill=\"none\"/>\n",
       "    <path d=\"M18.56 5.44l.94 2.06.94-2.06 2.06-.94-2.06-.94-.94-2.06-.94 2.06-2.06.94zm-11 1L8.5 8.5l.94-2.06 2.06-.94-2.06-.94L8.5 2.5l-.94 2.06-2.06.94zm10 10l.94 2.06.94-2.06 2.06-.94-2.06-.94-.94-2.06-.94 2.06-2.06.94z\"/><path d=\"M17.41 7.96l-1.37-1.37c-.4-.4-.92-.59-1.43-.59-.52 0-1.04.2-1.43.59L10.3 9.45l-7.72 7.72c-.78.78-.78 2.05 0 2.83L4 21.41c.39.39.9.59 1.41.59.51 0 1.02-.2 1.41-.59l7.78-7.78 2.81-2.81c.8-.78.8-2.07 0-2.86zM5.41 20L4 18.59l7.72-7.72 1.47 1.35L5.41 20z\"/>\n",
       "  </svg>\n",
       "      </button>\n",
       "      \n",
       "  <style>\n",
       "    .colab-df-container {\n",
       "      display:flex;\n",
       "      flex-wrap:wrap;\n",
       "      gap: 12px;\n",
       "    }\n",
       "\n",
       "    .colab-df-convert {\n",
       "      background-color: #E8F0FE;\n",
       "      border: none;\n",
       "      border-radius: 50%;\n",
       "      cursor: pointer;\n",
       "      display: none;\n",
       "      fill: #1967D2;\n",
       "      height: 32px;\n",
       "      padding: 0 0 0 0;\n",
       "      width: 32px;\n",
       "    }\n",
       "\n",
       "    .colab-df-convert:hover {\n",
       "      background-color: #E2EBFA;\n",
       "      box-shadow: 0px 1px 2px rgba(60, 64, 67, 0.3), 0px 1px 3px 1px rgba(60, 64, 67, 0.15);\n",
       "      fill: #174EA6;\n",
       "    }\n",
       "\n",
       "    [theme=dark] .colab-df-convert {\n",
       "      background-color: #3B4455;\n",
       "      fill: #D2E3FC;\n",
       "    }\n",
       "\n",
       "    [theme=dark] .colab-df-convert:hover {\n",
       "      background-color: #434B5C;\n",
       "      box-shadow: 0px 1px 3px 1px rgba(0, 0, 0, 0.15);\n",
       "      filter: drop-shadow(0px 1px 2px rgba(0, 0, 0, 0.3));\n",
       "      fill: #FFFFFF;\n",
       "    }\n",
       "  </style>\n",
       "\n",
       "      <script>\n",
       "        const buttonEl =\n",
       "          document.querySelector('#df-18d39842-8923-4831-9b68-60338cae0609 button.colab-df-convert');\n",
       "        buttonEl.style.display =\n",
       "          google.colab.kernel.accessAllowed ? 'block' : 'none';\n",
       "\n",
       "        async function convertToInteractive(key) {\n",
       "          const element = document.querySelector('#df-18d39842-8923-4831-9b68-60338cae0609');\n",
       "          const dataTable =\n",
       "            await google.colab.kernel.invokeFunction('convertToInteractive',\n",
       "                                                     [key], {});\n",
       "          if (!dataTable) return;\n",
       "\n",
       "          const docLinkHtml = 'Like what you see? Visit the ' +\n",
       "            '<a target=\"_blank\" href=https://colab.research.google.com/notebooks/data_table.ipynb>data table notebook</a>'\n",
       "            + ' to learn more about interactive tables.';\n",
       "          element.innerHTML = '';\n",
       "          dataTable['output_type'] = 'display_data';\n",
       "          await google.colab.output.renderOutput(dataTable, element);\n",
       "          const docLink = document.createElement('div');\n",
       "          docLink.innerHTML = docLinkHtml;\n",
       "          element.appendChild(docLink);\n",
       "        }\n",
       "      </script>\n",
       "    </div>\n",
       "  </div>\n",
       "  "
      ],
      "text/plain": [
       "  event_date   event_timestamp event_name  \\\n",
       "0   20230218  1676761164969530  page_view   \n",
       "1   20230218  1676761166453183  page_view   \n",
       "2   20230218  1676761530360230  page_view   \n",
       "3   20230218  1676761536396303  page_view   \n",
       "4   20230218  1676762044808846  page_view   \n",
       "5   20230218  1676762483104543  page_view   \n",
       "6   20230218  1676762496533447  page_view   \n",
       "7   20230218  1676732542535220  page_view   \n",
       "8   20230218  1676732547057879  page_view   \n",
       "9   20230218  1676732738486707  page_view   \n",
       "\n",
       "                                        event_params  \\\n",
       "0  [{'key': 'page_title', 'value': {'string_value...   \n",
       "1  [{'key': 'page_title', 'value': {'string_value...   \n",
       "2  [{'key': 'page_title', 'value': {'string_value...   \n",
       "3  [{'key': 'ga_session_id', 'value': {'string_va...   \n",
       "4  [{'key': 'page_location', 'value': {'string_va...   \n",
       "5  [{'key': 'page_location', 'value': {'string_va...   \n",
       "6  [{'key': 'page_title', 'value': {'string_value...   \n",
       "7  [{'key': 'page_location', 'value': {'string_va...   \n",
       "8  [{'key': 'page_location', 'value': {'string_va...   \n",
       "9  [{'key': 'page_title', 'value': {'string_value...   \n",
       "\n",
       "   event_previous_timestamp  event_value_in_usd  event_bundle_sequence_id  \\\n",
       "0                      <NA>                 NaN                1637643834   \n",
       "1                      <NA>                 NaN                1639127487   \n",
       "2                      <NA>                 NaN                2003034534   \n",
       "3                      <NA>                 NaN                2009070607   \n",
       "4                      <NA>                 NaN               -1777484146   \n",
       "5                      <NA>                 NaN               -1339188449   \n",
       "6                      <NA>                 NaN               -1325759545   \n",
       "7                      <NA>                 NaN               -1214986700   \n",
       "8                      <NA>                 NaN               -1210464041   \n",
       "9                      <NA>                 NaN               -1019035213   \n",
       "\n",
       "   event_server_timestamp_offset user_id user_pseudo_id  ...  \\\n",
       "0                           <NA>    None              1  ...   \n",
       "1                           <NA>    None              1  ...   \n",
       "2                           <NA>    None              1  ...   \n",
       "3                           <NA>    None              1  ...   \n",
       "4                           <NA>    None              1  ...   \n",
       "5                           <NA>    None              1  ...   \n",
       "6                           <NA>    None              1  ...   \n",
       "7                           <NA>    None              1  ...   \n",
       "8                           <NA>    None              1  ...   \n",
       "9                           <NA>    None              1  ...   \n",
       "\n",
       "                              user_ltv  \\\n",
       "0  {'revenue': 0.0, 'currency': 'USD'}   \n",
       "1  {'revenue': 0.0, 'currency': 'USD'}   \n",
       "2  {'revenue': 0.0, 'currency': 'USD'}   \n",
       "3  {'revenue': 0.0, 'currency': 'USD'}   \n",
       "4  {'revenue': 0.0, 'currency': 'USD'}   \n",
       "5  {'revenue': 0.0, 'currency': 'USD'}   \n",
       "6  {'revenue': 0.0, 'currency': 'USD'}   \n",
       "7  {'revenue': 0.0, 'currency': 'USD'}   \n",
       "8  {'revenue': 0.0, 'currency': 'USD'}   \n",
       "9  {'revenue': 0.0, 'currency': 'USD'}   \n",
       "\n",
       "                                              device  \\\n",
       "0  {'category': 'desktop', 'mobile_brand_name': '...   \n",
       "1  {'category': 'desktop', 'mobile_brand_name': '...   \n",
       "2  {'category': 'desktop', 'mobile_brand_name': '...   \n",
       "3  {'category': 'desktop', 'mobile_brand_name': '...   \n",
       "4  {'category': 'desktop', 'mobile_brand_name': '...   \n",
       "5  {'category': 'desktop', 'mobile_brand_name': '...   \n",
       "6  {'category': 'desktop', 'mobile_brand_name': '...   \n",
       "7  {'category': 'desktop', 'mobile_brand_name': N...   \n",
       "8  {'category': 'desktop', 'mobile_brand_name': N...   \n",
       "9  {'category': 'desktop', 'mobile_brand_name': N...   \n",
       "\n",
       "                                                 geo app_info traffic_source  \\\n",
       "0  {'continent': '(not set)', 'country': '', 'reg...     None           None   \n",
       "1  {'continent': '(not set)', 'country': '', 'reg...     None           None   \n",
       "2  {'continent': '(not set)', 'country': '', 'reg...     None           None   \n",
       "3  {'continent': '(not set)', 'country': '', 'reg...     None           None   \n",
       "4  {'continent': '(not set)', 'country': '', 'reg...     None           None   \n",
       "5  {'continent': '(not set)', 'country': '', 'reg...     None           None   \n",
       "6  {'continent': '(not set)', 'country': '', 'reg...     None           None   \n",
       "7  {'continent': '(not set)', 'country': '', 'reg...     None           None   \n",
       "8  {'continent': '(not set)', 'country': '', 'reg...     None           None   \n",
       "9  {'continent': '(not set)', 'country': '', 'reg...     None           None   \n",
       "\n",
       "    stream_id platform event_dimensions ecommerce items  \n",
       "0  4308611918      WEB             None      None    []  \n",
       "1  4308611918      WEB             None      None    []  \n",
       "2  4308611918      WEB             None      None    []  \n",
       "3  4308611918      WEB             None      None    []  \n",
       "4  4308611918      WEB             None      None    []  \n",
       "5  4308611918      WEB             None      None    []  \n",
       "6  4308611918      WEB             None      None    []  \n",
       "7  4308611918      WEB             None      None    []  \n",
       "8  4308611918      WEB             None      None    []  \n",
       "9  4308611918      WEB             None      None    []  \n",
       "\n",
       "[10 rows x 23 columns]"
      ]
     },
     "execution_count": 36,
     "metadata": {},
     "output_type": "execute_result"
    }
   ],
   "source": [
    "bq.query(query = f\"SELECT * FROM `{table.full_table_id.replace(':', '.')}` LIMIT 10\").to_dataframe()"
   ]
  },
  {
   "cell_type": "markdown",
   "id": "cGr2Vfg95EOq",
   "metadata": {
    "id": "cGr2Vfg95EOq"
   },
   "source": [
    "### Review Table In Console\n",
    "\n",
    "This create a hyperlink directly to the table retrieved above:"
   ]
  },
  {
   "cell_type": "code",
   "execution_count": 37,
   "id": "FIjIK0oi4olw",
   "metadata": {
    "colab": {
     "base_uri": "https://localhost:8080/"
    },
    "executionInfo": {
     "elapsed": 151,
     "status": "ok",
     "timestamp": 1676763843945,
     "user": {
      "displayName": "Mike Henderson",
      "userId": "11664017018095232389"
     },
     "user_tz": 300
    },
    "id": "FIjIK0oi4olw",
    "outputId": "2ac58529-5a0d-47f1-aa30-eaee80f22dc9"
   },
   "outputs": [
    {
     "name": "stdout",
     "output_type": "stream",
     "text": [
      "Review Table In Console:\n",
      "https://console.cloud.google.com/bigquery?project=vertex-ai-mlops-369716&ws=!1m5!1m4!4m3!1svertex-ai-mlops-369716!2sanalytics_343629755!3sevents_intraday_20230218\n"
     ]
    }
   ],
   "source": [
    "print(f\"Review Table In Console:\\nhttps://console.cloud.google.com/bigquery?project={PROJECT_ID}&ws=!1m5!1m4!4m3!1s{BQ_PROJECT}!2s{dataset.dataset_id}!3s{table.table_id}\")"
   ]
  }
 ],
 "metadata": {
  "colab": {
   "provenance": [],
   "toc_visible": true
  },
  "environment": {
   "kernel": "python3",
   "name": "tf2-gpu.2-3.m94",
   "type": "gcloud",
   "uri": "gcr.io/deeplearning-platform-release/tf2-gpu.2-3:m94"
  },
  "kernelspec": {
   "display_name": "Python 3",
   "language": "python",
   "name": "python3"
  },
  "language_info": {
   "codemirror_mode": {
    "name": "ipython",
    "version": 3
   },
   "file_extension": ".py",
   "mimetype": "text/x-python",
   "name": "python",
   "nbconvert_exporter": "python",
   "pygments_lexer": "ipython3",
   "version": "3.7.12"
  }
 },
 "nbformat": 4,
 "nbformat_minor": 5
}
