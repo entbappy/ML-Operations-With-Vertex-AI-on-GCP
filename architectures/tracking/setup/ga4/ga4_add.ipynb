{
 "cells": [
  {
   "cell_type": "markdown",
   "id": "bf375b7f-10ac-4bcf-9a95-39c044fd0867",
   "metadata": {},
   "source": [
    "![ga4](https://www.google-analytics.com/collect?v=2&tid=G-6VDTYWLKX6&cid=1&en=page_view&sid=1&dl=statmike%2Fvertex-ai-mlops%2Farchitectures%2Ftracking%2Fsetup%2Fga4&dt=ga4_add.ipynb)\n",
    "\n",
    "# Adding GA4 Event (page_view) Tracking to all Repository Documents\n",
    "\n",
    "- Get list of all `.md` and `.ipynb` document in this repository\n",
    "- Create GA4 Measurment Protocol pixel link for each document\n",
    "- edit each document to contain an image load for the pixel\n",
    "\n",
    "\n",
    "Also see these File (in the same directory) that **list and remove** the GA4 links from all `.md` and `.ipynb` files in the repository:\n",
    "- list file with ga4: [ga4_list.py](./ga4_list.py)\n",
    "- remove ga4 tracking: [ga4_remove.py](./ga4_remove.py)"
   ]
  },
  {
   "cell_type": "code",
   "execution_count": 22,
   "id": "b50f72b2-eb26-4b80-9f83-446361dcb28b",
   "metadata": {},
   "outputs": [],
   "source": [
    "import os\n",
    "import json\n",
    "import urllib.parse"
   ]
  },
  {
   "cell_type": "code",
   "execution_count": 23,
   "id": "458bc0fd-c5a7-4635-ab92-df21e3debe88",
   "metadata": {},
   "outputs": [],
   "source": [
    "measurement_id = 'G-6VDTYWLKX6'\n",
    "\n",
    "url = 'https://www.google-analytics.com/collect?v=2'\n",
    "track_parms = f'&tid={measurement_id}&cid=1&en=page_view&sid=1'"
   ]
  },
  {
   "cell_type": "code",
   "execution_count": 24,
   "id": "d4d5445d-6c8d-445f-a4c2-a8132cacd9c5",
   "metadata": {},
   "outputs": [
    {
     "name": "stdout",
     "output_type": "stream",
     "text": [
      "Before:\n",
      "# Vertex AI Workbench\n",
      "\n",
      "After:\n",
      "![ga4](https://www.google-analytics.com/collect?v=2&tid=G-6VDTYWLKX6&cid=1&en=page_view&sid=1&dl=statmike%2Fvertex-ai-mlops%2FIDE&dt=vertex_ai_workbench.md)\n",
      "\n",
      "Before:\n",
      "# Custom Compute Engine VM\n",
      "\n",
      "After:\n",
      "![ga4](https://www.google-analytics.com/collect?v=2&tid=G-6VDTYWLKX6&cid=1&en=page_view&sid=1&dl=statmike%2Fvertex-ai-mlops%2FIDE&dt=custom_compute_engine_vm.md)\n",
      "\n",
      "Before:\n",
      "# Using VSCode Locally\n",
      "\n",
      "After:\n",
      "![ga4](https://www.google-analytics.com/collect?v=2&tid=G-6VDTYWLKX6&cid=1&en=page_view&sid=1&dl=statmike%2Fvertex-ai-mlops%2FIDE&dt=vs_code_local.md)\n",
      "\n",
      "Before:\n",
      "# Cloud Workstations\n",
      "\n",
      "After:\n",
      "![ga4](https://www.google-analytics.com/collect?v=2&tid=G-6VDTYWLKX6&cid=1&en=page_view&sid=1&dl=statmike%2Fvertex-ai-mlops%2FIDE&dt=cloud_workstations.md)\n",
      "\n"
     ]
    }
   ],
   "source": [
    "# tested in: /home/jupyter/vertex-ai-mlops/architectures/tracking\n",
    "for root, dirs, files in os.walk(r'/home/jupyter/vertex-ai-mlops'):\n",
    "    for file in files:\n",
    "        if file.endswith(('.md', '.ipynb')) and not root.endswith('.ipynb_checkpoints'):\n",
    "            dl = urllib.parse.quote_plus(root.replace('/home/jupyter/', 'statmike/'))\n",
    "            dt = urllib.parse.quote_plus(file)\n",
    "            click = url + track_parms + f\"&dl={dl}&dt={dt}\"\n",
    "            #print('--------------------------------------------------------------------')\n",
    "            #print(os.path.join(root, file))\n",
    "            #print(click)\n",
    "            \n",
    "            if file.endswith('.md'):\n",
    "                update = False\n",
    "                #print('Editing File Header...')\n",
    "                \n",
    "                # read file contents\n",
    "                with open(os.path.join(root, file), 'r') as reader:\n",
    "                    content = reader.readlines()\n",
    "                before = content[0]\n",
    "                \n",
    "                # edit contents\n",
    "                if content[0].startswith('![ga4](https://www.google-analytics.com'):\n",
    "                    content[0] = f'![ga4]({click})\\n'\n",
    "                else:\n",
    "                    content.insert(0, f'![ga4]({click})\\n')\n",
    "                after = content[0]\n",
    "                \n",
    "                # follow the ga4 line with a blank line\n",
    "                if content[1] not in ('', '\\n'):\n",
    "                    update = True\n",
    "                    content.insert(1, '\\n')\n",
    "                \n",
    "                # write file contents (overwrite)\n",
    "                if (before != after) or update:\n",
    "                    print(f'Before:\\n{before}')\n",
    "                    print(f'After:\\n{after}')\n",
    "                    with open(os.path.join(root, file), 'w') as writer:\n",
    "                        writer.writelines(content)\n",
    "                #else:\n",
    "                #    print(f'No change, existing value is:\\n{before}')\n",
    "                    \n",
    "            elif not file == 'ga4_add.ipynb': # .ipynb are JSON files, dont read this current file though\n",
    "                update = False\n",
    "                #print('Editing File Header...')\n",
    "                \n",
    "                # read file contents\n",
    "                with open(os.path.join(root, file), 'r') as reader:\n",
    "                    content = json.loads(reader.read())\n",
    "                    \n",
    "                # edit contents: {'cells': [{'cell_type': 'markdown', 'source': ['', '', ...], ...}, ...]}\n",
    "                for cell in content['cells']:\n",
    "                    if cell['cell_type'] == 'markdown':\n",
    "                        before = cell['source'][0]\n",
    "                        if cell['source'][0].startswith('![ga4](https://www.google-analytics.com'):\n",
    "                            cell['source'][0] = f'![ga4]({click})\\n'\n",
    "                        else:\n",
    "                            cell['source'].insert(0, f'![ga4]({click})\\n')\n",
    "                        after = cell['source'][0]\n",
    "                        \n",
    "                        # follow the ga4 line with a blank line\n",
    "                        if cell['source'][1] not in ('', '\\n'):\n",
    "                            update = True\n",
    "                            cell['source'].insert(1, '\\n')\n",
    "                        break\n",
    "                \n",
    "                # write file contents (overwrite)\n",
    "                if (before != after) or update:\n",
    "                    print(f'Before:\\n{before}')\n",
    "                    print(f'After:\\n{after}')\n",
    "                    with open(os.path.join(root, file), 'w') as writer:\n",
    "                        writer.write(json.dumps(content))\n",
    "                #else:\n",
    "                #    print(f'No change, existing value is:\\n{before}')"
   ]
  },
  {
   "cell_type": "markdown",
   "id": "7cf267e0-b603-4dc3-8e75-bcd115c8bced",
   "metadata": {},
   "source": [
    "## NOTES\n",
    "This edits files on disk.  If they are currently loaded in Jupyter then the opened version may look different. **THIS IS IMPORTANT**\n",
    "\n",
    "- Save all files\n",
    "- When a note pops up about the version on disk being different, choose **revert** while reload the file from the new version on disk that was created by this notebook."
   ]
  },
  {
   "cell_type": "code",
   "execution_count": null,
   "id": "55880507-d896-4ed2-8456-82fb5b7ef47d",
   "metadata": {},
   "outputs": [],
   "source": []
  },
  {
   "cell_type": "code",
   "execution_count": null,
   "id": "f88d9d12-f198-45b6-9381-6dfdd046a7bd",
   "metadata": {},
   "outputs": [],
   "source": []
  },
  {
   "cell_type": "code",
   "execution_count": null,
   "id": "dab1567a-3287-4bc2-b90b-ad0c275115c2",
   "metadata": {},
   "outputs": [],
   "source": []
  },
  {
   "cell_type": "code",
   "execution_count": null,
   "id": "957e43a8-c370-401b-8707-9a2392a45e07",
   "metadata": {},
   "outputs": [],
   "source": []
  },
  {
   "cell_type": "code",
   "execution_count": null,
   "id": "02bbd300-ce4e-48cb-af7e-10697485b406",
   "metadata": {},
   "outputs": [],
   "source": []
  },
  {
   "cell_type": "code",
   "execution_count": null,
   "id": "b800c7d1-0e7f-4bda-a1c3-fb96d182bb12",
   "metadata": {},
   "outputs": [],
   "source": []
  },
  {
   "cell_type": "code",
   "execution_count": null,
   "id": "f7e558b8-bbe5-479d-8acd-12e4ade1250b",
   "metadata": {},
   "outputs": [],
   "source": []
  },
  {
   "cell_type": "code",
   "execution_count": null,
   "id": "2fbd64be-cd43-4480-8a65-406ffcf88846",
   "metadata": {},
   "outputs": [],
   "source": []
  },
  {
   "cell_type": "code",
   "execution_count": null,
   "id": "73791c77-bc8d-429d-a04b-2fd7bbd93763",
   "metadata": {},
   "outputs": [],
   "source": []
  }
 ],
 "metadata": {
  "environment": {
   "kernel": "python3",
   "name": "tf2-gpu.2-3.m94",
   "type": "gcloud",
   "uri": "gcr.io/deeplearning-platform-release/tf2-gpu.2-3:m94"
  },
  "kernelspec": {
   "display_name": "Python 3",
   "language": "python",
   "name": "python3"
  },
  "language_info": {
   "codemirror_mode": {
    "name": "ipython",
    "version": 3
   },
   "file_extension": ".py",
   "mimetype": "text/x-python",
   "name": "python",
   "nbconvert_exporter": "python",
   "pygments_lexer": "ipython3",
   "version": "3.7.12"
  }
 },
 "nbformat": 4,
 "nbformat_minor": 5
}
