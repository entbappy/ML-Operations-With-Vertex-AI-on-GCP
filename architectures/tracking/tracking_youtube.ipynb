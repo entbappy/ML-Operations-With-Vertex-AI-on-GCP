{
 "cells": [
  {
   "cell_type": "markdown",
   "id": "50299d46-0e04-4b48-8c18-e871d22aa2fb",
   "metadata": {},
   "source": [
    "![ga4](https://www.google-analytics.com/collect?v=2&tid=G-6VDTYWLKX6&cid=1&en=page_view&sid=1&dl=statmike%2Fvertex-ai-mlops%2Farchitectures%2Ftracking&dt=tracking_youtube.ipynb)\n",
    "\n",
    "# YouTube Traffic For Repository Related Videos\n",
    "\n",
    "Overview:\n",
    "- YouTube Developers Site: https://developers.google.com/youtube\n",
    "    - Data API is for Search and Functionality: https://developers.google.com/youtube/v3\n",
    "    - Analytics and Reporting API is for channel and content metrics: https://developers.google.com/youtube/analytics\n",
    "\n",
    "Analytics & Reporting: https://developers.google.com/youtube/reporting\n",
    "- Analytics API = Query\n",
    "    - real-time, targeted queries that provide filtering and sorting parameters\n",
    "    - requires data range for what to return - weekly,  monthly data sets\n",
    "    - does the work of an application\n",
    "- Reporting API = Bulk\n",
    "    - bulk reports for a channel or owner\n",
    "    - relies on the client caller to manage filtering and sorting\n",
    "- \n",
    "\n"
   ]
  },
  {
   "cell_type": "markdown",
   "id": "53aca7fb-5578-4494-a358-9f6969de7322",
   "metadata": {},
   "source": [
    "## Setup"
   ]
  },
  {
   "cell_type": "code",
   "execution_count": 1,
   "id": "e17f6788-c49d-4345-942a-a360db9a151f",
   "metadata": {},
   "outputs": [
    {
     "data": {
      "text/plain": [
       "'statmike-mlops-349915'"
      ]
     },
     "execution_count": 1,
     "metadata": {},
     "output_type": "execute_result"
    }
   ],
   "source": [
    "project = !gcloud config get-value project\n",
    "PROJECT_ID = project[0]\n",
    "PROJECT_ID"
   ]
  },
  {
   "cell_type": "code",
   "execution_count": 2,
   "id": "d2e8f1f6-cd0b-47b2-80eb-42ec293ab4b1",
   "metadata": {},
   "outputs": [],
   "source": [
    "REGION = 'us-central1'"
   ]
  },
  {
   "cell_type": "code",
   "execution_count": 108,
   "id": "543ed50c-1f57-49a9-85ab-ef763dd9baca",
   "metadata": {},
   "outputs": [],
   "source": []
  },
  {
   "cell_type": "code",
   "execution_count": 3,
   "id": "d45af862-93ba-490e-9bec-0531408ce415",
   "metadata": {},
   "outputs": [],
   "source": [
    "import requests\n",
    "import json\n",
    "import time\n",
    "from datetime import datetime\n",
    "import pandas as pd\n",
    "from io import StringIO\n",
    "import os, shutil\n",
    "\n",
    "from google.cloud import bigquery\n",
    "from google.cloud import storage"
   ]
  },
  {
   "cell_type": "code",
   "execution_count": 4,
   "id": "ce3aae82-0d8c-46bf-8c3b-ab426c87f564",
   "metadata": {},
   "outputs": [],
   "source": [
    "bq = bigquery.Client()\n",
    "gcs = storage.Client()"
   ]
  },
  {
   "cell_type": "code",
   "execution_count": 5,
   "id": "ace85269-d6a0-48c3-9cea-c3cfabb894e6",
   "metadata": {},
   "outputs": [],
   "source": [
    "DIR = 'temp'\n",
    "!rm -rf {DIR}\n",
    "!mkdir -p {DIR}"
   ]
  },
  {
   "cell_type": "code",
   "execution_count": null,
   "id": "6e392dba-1f7e-4f47-9581-0868bbd8137f",
   "metadata": {},
   "outputs": [],
   "source": []
  },
  {
   "cell_type": "code",
   "execution_count": null,
   "id": "1a51f239-b043-4854-a416-a28dbeb733c2",
   "metadata": {},
   "outputs": [],
   "source": []
  },
  {
   "cell_type": "code",
   "execution_count": null,
   "id": "11bf065a-a3e4-4c06-b65e-88918b4e218e",
   "metadata": {},
   "outputs": [],
   "source": []
  },
  {
   "cell_type": "code",
   "execution_count": null,
   "id": "358b4bec-7317-4049-8938-e93203943f9e",
   "metadata": {},
   "outputs": [],
   "source": []
  },
  {
   "cell_type": "code",
   "execution_count": null,
   "id": "035d6e23-f690-47bc-8b9f-052a5514536a",
   "metadata": {},
   "outputs": [],
   "source": []
  },
  {
   "cell_type": "code",
   "execution_count": null,
   "id": "68dc1eaa-8eb2-49de-8e3c-72a92379e842",
   "metadata": {},
   "outputs": [],
   "source": []
  },
  {
   "cell_type": "code",
   "execution_count": null,
   "id": "a6a48cee-9a7c-498c-b54b-7ff5c9dfedaa",
   "metadata": {},
   "outputs": [],
   "source": []
  },
  {
   "cell_type": "code",
   "execution_count": null,
   "id": "2b05ba8d-8452-40ec-b74e-16913d10d04f",
   "metadata": {},
   "outputs": [],
   "source": []
  },
  {
   "cell_type": "code",
   "execution_count": null,
   "id": "71d7bfe6-8452-4228-84e1-4ccb2ca148ce",
   "metadata": {},
   "outputs": [],
   "source": []
  }
 ],
 "metadata": {
  "environment": {
   "kernel": "python3",
   "name": "tf2-gpu.2-3.m94",
   "type": "gcloud",
   "uri": "gcr.io/deeplearning-platform-release/tf2-gpu.2-3:m94"
  },
  "kernelspec": {
   "display_name": "Python 3",
   "language": "python",
   "name": "python3"
  },
  "language_info": {
   "codemirror_mode": {
    "name": "ipython",
    "version": 3
   },
   "file_extension": ".py",
   "mimetype": "text/x-python",
   "name": "python",
   "nbconvert_exporter": "python",
   "pygments_lexer": "ipython3",
   "version": "3.7.12"
  }
 },
 "nbformat": 4,
 "nbformat_minor": 5
}
