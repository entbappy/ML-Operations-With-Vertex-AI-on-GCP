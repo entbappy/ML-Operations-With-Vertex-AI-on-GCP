{
 "cells": [
  {
   "cell_type": "markdown",
   "id": "1b73cc6c-e766-4cbe-add3-e804c06afde2",
   "metadata": {},
   "source": [
    "![ga4](https://www.google-analytics.com/collect?v=2&tid=G-6VDTYWLKX6&cid=1&en=page_view&sid=1&dl=statmike%2Fvertex-ai-mlops%2Farchitectures%2Ftracking&dt=tracking_github.ipynb)\n",
    "\n",
    "# GitHub Traffic For Repository"
   ]
  },
  {
   "cell_type": "markdown",
   "id": "9d3c17ef-be99-45e8-a30c-7aea522ce8be",
   "metadata": {},
   "source": [
    "## Setup"
   ]
  },
  {
   "cell_type": "code",
   "execution_count": 18,
   "id": "a795af53-5a7e-459c-84f2-3d9bc8f32d69",
   "metadata": {},
   "outputs": [
    {
     "data": {
      "text/plain": [
       "'statmike-mlops-349915'"
      ]
     },
     "execution_count": 18,
     "metadata": {},
     "output_type": "execute_result"
    }
   ],
   "source": [
    "project = !gcloud config get-value project\n",
    "PROJECT_ID = project[0]\n",
    "PROJECT_ID"
   ]
  },
  {
   "cell_type": "code",
   "execution_count": 19,
   "id": "35474c20-f4d2-404e-99a0-1cc901469fa7",
   "metadata": {},
   "outputs": [],
   "source": [
    "REGION = 'us-central1'"
   ]
  },
  {
   "cell_type": "code",
   "execution_count": 20,
   "id": "ca7c985c-1710-4ec9-99b8-d5adc9d480f4",
   "metadata": {},
   "outputs": [],
   "source": [
    "github_user = 'statmike'\n",
    "github_repo = 'vertex-ai-mlops'"
   ]
  },
  {
   "cell_type": "code",
   "execution_count": 21,
   "id": "174167c6-a46d-4a8a-902b-c8cc8384808b",
   "metadata": {},
   "outputs": [],
   "source": [
    "import requests\n",
    "import json\n",
    "import time\n",
    "from datetime import datetime\n",
    "import pandas as pd\n",
    "from io import StringIO\n",
    "import os, shutil\n",
    "\n",
    "from google.cloud import bigquery\n",
    "from google.cloud import storage"
   ]
  },
  {
   "cell_type": "code",
   "execution_count": 22,
   "id": "a15d33f7-0806-4bc5-a532-122e0ca65694",
   "metadata": {},
   "outputs": [],
   "source": [
    "bq = bigquery.Client()\n",
    "gcs = storage.Client()"
   ]
  },
  {
   "cell_type": "code",
   "execution_count": 23,
   "id": "9adaab5d-1481-4d7c-ba9d-727bcb8273af",
   "metadata": {},
   "outputs": [],
   "source": [
    "DIR = 'temp'\n",
    "!rm -rf {DIR}\n",
    "!mkdir -p {DIR}"
   ]
  },
  {
   "cell_type": "markdown",
   "id": "c02da3c8-58f0-4f2f-8ec1-11e85479bf4a",
   "metadata": {},
   "source": [
    "---\n",
    "## Get Secret\n",
    "\n",
    "You need to create a secret to hold the PAT for accessing the GitHub API.  More information on [creating a secret manager](https://cloud.google.com/secret-manager/docs/creating-and-accessing-secrets#secretmanager-create-secret-console).\n"
   ]
  },
  {
   "cell_type": "code",
   "execution_count": 7,
   "id": "81d259f5-c7d5-48c8-842b-7b4f599020f1",
   "metadata": {},
   "outputs": [],
   "source": [
    "try:\n",
    "    import google.cloud.secretmanager\n",
    "except ImportError:\n",
    "    print('You need to pip install google-cloud-secret-manager')\n",
    "    !pip install google-cloud-secret-manager -q"
   ]
  },
  {
   "cell_type": "code",
   "execution_count": 8,
   "id": "51eae311-9380-4493-a243-024ff5a73c44",
   "metadata": {},
   "outputs": [],
   "source": [
    "from google.cloud import secretmanager"
   ]
  },
  {
   "cell_type": "code",
   "execution_count": 9,
   "id": "ef1acbe6-b7ef-4b90-9bc9-f6d0a45a7236",
   "metadata": {},
   "outputs": [],
   "source": [
    "client = secretmanager.SecretManagerServiceClient()"
   ]
  },
  {
   "cell_type": "code",
   "execution_count": 10,
   "id": "88ab2bbf-c698-43e4-ac72-818acbad512d",
   "metadata": {},
   "outputs": [],
   "source": [
    "secret = client.access_secret_version(request = {\"name\": f'projects/{PROJECT_ID}/secrets/github_api/versions/latest'})"
   ]
  },
  {
   "cell_type": "code",
   "execution_count": 11,
   "id": "02a3e0a9-5683-4ab1-84ab-74f44116ac04",
   "metadata": {},
   "outputs": [],
   "source": [
    "pat = secret.payload.data.decode('utf-8')"
   ]
  },
  {
   "cell_type": "markdown",
   "id": "770515b7-e6e2-4d05-9acb-934d65288e88",
   "metadata": {},
   "source": [
    "---\n",
    "## GitHub API\n",
    "\n",
    "- GitHub [traffic API](https://docs.github.com/en/rest/metrics/traffic#about-the-repository-traffic-api)\n",
    "- Permission the PAT will need are under [adminstration](https://docs.github.com/en/rest/overview/permissions-required-for-fine-grained-personal-access-tokens#administration)"
   ]
  },
  {
   "cell_type": "code",
   "execution_count": 13,
   "id": "066f6b79-c6f9-4753-9ffa-0de1224e9915",
   "metadata": {},
   "outputs": [],
   "source": [
    "github_api_url = f'https://api.github.com/repos/{github_user}/{github_repo}'"
   ]
  },
  {
   "cell_type": "code",
   "execution_count": 14,
   "id": "c91a3b3a-54da-494e-98a4-1250f1b79ea0",
   "metadata": {},
   "outputs": [],
   "source": [
    "## all three work:\n",
    "response = requests.get(f'{github_api_url}/traffic/clones', headers = {'Authorization': f'Bearer {pat}', 'Accept': 'application/vnd.github+json'})\n",
    "#response = requests.get(f'{github_api_url}/traffic/clones', auth = ('statmike', f'{pat}'), headers = {'Accept': 'application/vnd.github+json'})\n",
    "#response = requests.get(f'{github_api_url}/traffic/clones', auth = ('statmike', f'{pat}'), headers = {'Authorization': f'Bearer {pat}', 'Accept': 'application/vnd.github+json'})"
   ]
  },
  {
   "cell_type": "code",
   "execution_count": 15,
   "id": "d2c9e9dd-dc57-41ce-9b82-42ecfc25d41c",
   "metadata": {},
   "outputs": [
    {
     "data": {
      "text/plain": [
       "<Response [200]>"
      ]
     },
     "execution_count": 15,
     "metadata": {},
     "output_type": "execute_result"
    }
   ],
   "source": [
    "response"
   ]
  },
  {
   "cell_type": "code",
   "execution_count": 16,
   "id": "83e6e8c4-856d-40c8-9ac1-33f436793988",
   "metadata": {},
   "outputs": [
    {
     "data": {
      "text/plain": [
       "'{\"count\":175,\"uniques\":83,\"clones\":[{\"timestamp\":\"2023-02-04T00:00:00Z\",\"count\":10,\"uniques\":4},{\"timestamp\":\"2023-02-05T00:00:00Z\",\"count\":1,\"uniques\":1},{\"timestamp\":\"2023-02-06T00:00:00Z\",\"count\":4,\"uniques\":3},{\"timestamp\":\"2023-02-07T00:00:00Z\",\"count\":16,\"uniques\":8},{\"timestamp\":\"2023-02-08T00:00:00Z\",\"count\":6,\"uniques\":3},{\"timestamp\":\"2023-02-09T00:00:00Z\",\"count\":20,\"uniques\":12},{\"timestamp\":\"2023-02-10T00:00:00Z\",\"count\":28,\"uniques\":17},{\"timestamp\":\"2023-02-11T00:00:00Z\",\"count\":10,\"uniques\":6},{\"timestamp\":\"2023-02-12T00:00:00Z\",\"count\":9,\"uniques\":6},{\"timestamp\":\"2023-02-13T00:00:00Z\",\"count\":6,\"uniques\":6},{\"timestamp\":\"2023-02-14T00:00:00Z\",\"count\":29,\"uniques\":7},{\"timestamp\":\"2023-02-15T00:00:00Z\",\"count\":13,\"uniques\":8},{\"timestamp\":\"2023-02-16T00:00:00Z\",\"count\":20,\"uniques\":19},{\"timestamp\":\"2023-02-17T00:00:00Z\",\"count\":3,\"uniques\":2}]}'"
      ]
     },
     "execution_count": 16,
     "metadata": {},
     "output_type": "execute_result"
    }
   ],
   "source": [
    "response.text"
   ]
  },
  {
   "cell_type": "markdown",
   "id": "40d97da5-b843-4f27-a799-6b40daa3366c",
   "metadata": {},
   "source": [
    "---\n",
    "### Review metrics: Community Metrics"
   ]
  },
  {
   "cell_type": "code",
   "execution_count": 116,
   "id": "a414c356-5d72-45c6-8784-ff41a868b7e3",
   "metadata": {},
   "outputs": [
    {
     "data": {
      "text/plain": [
       "{'health_percentage': 42,\n",
       " 'description': 'Google Cloud Platform Vertex AI end-to-end workflows for machine learning operations',\n",
       " 'documentation': None,\n",
       " 'files': {'code_of_conduct': None,\n",
       "  'code_of_conduct_file': None,\n",
       "  'contributing': None,\n",
       "  'issue_template': None,\n",
       "  'pull_request_template': None,\n",
       "  'license': {'key': 'apache-2.0',\n",
       "   'name': 'Apache License 2.0',\n",
       "   'spdx_id': 'Apache-2.0',\n",
       "   'url': 'https://api.github.com/licenses/apache-2.0',\n",
       "   'node_id': 'MDc6TGljZW5zZTI=',\n",
       "   'html_url': 'https://github.com/statmike/vertex-ai-mlops/blob/main/LICENSE'},\n",
       "  'readme': {'url': 'https://api.github.com/repos/statmike/vertex-ai-mlops/contents/readme.md',\n",
       "   'html_url': 'https://github.com/statmike/vertex-ai-mlops/blob/main/readme.md'}},\n",
       " 'updated_at': None}"
      ]
     },
     "execution_count": 116,
     "metadata": {},
     "output_type": "execute_result"
    }
   ],
   "source": [
    "response = requests.get(f'{github_api_url}/community/profile', headers = {'Authorization': f'Bearer {pat}', 'Accept': 'application/vnd.github+json'})\n",
    "json.loads(response.text)"
   ]
  },
  {
   "cell_type": "markdown",
   "id": "87161833-834e-454b-81b2-44e9b3874ae2",
   "metadata": {},
   "source": [
    "---\n",
    "### Review metrics: Statistics - Weekly Code Activity"
   ]
  },
  {
   "cell_type": "code",
   "execution_count": 17,
   "id": "7fb016d0-ace8-469e-8735-f865a7844072",
   "metadata": {},
   "outputs": [
    {
     "data": {
      "text/plain": [
       "[[1616889600, 2983, -547],\n",
       " [1617494400, 7461, -3499],\n",
       " [1618099200, 12394, -6314],\n",
       " [1618704000, 7904, -6179],\n",
       " [1619308800, 0, 0],\n",
       " [1619913600, 0, 0],\n",
       " [1620518400, 0, 0],\n",
       " [1621123200, 0, 0],\n",
       " [1621728000, 0, 0],\n",
       " [1622332800, 0, 0],\n",
       " [1622937600, 695, -899],\n",
       " [1623542400, 0, 0],\n",
       " [1624147200, 246, -359],\n",
       " [1624752000, 0, 0],\n",
       " [1625356800, 14349, -11041],\n",
       " [1625961600, 3422, -1542],\n",
       " [1626566400, 1582, -1716],\n",
       " [1627171200, 0, 0],\n",
       " [1627776000, 0, 0],\n",
       " [1628380800, 1693, -2389],\n",
       " [1628985600, 0, 0],\n",
       " [1629590400, 0, 0],\n",
       " [1630195200, 10777, -6390],\n",
       " [1630800000, 400423, -206756],\n",
       " [1631404800, 217627, -217787],\n",
       " [1632009600, 14216, -10514],\n",
       " [1632614400, 1370, -1244],\n",
       " [1633219200, 2047, -715],\n",
       " [1633824000, 2705, -2357],\n",
       " [1634428800, 37, -62],\n",
       " [1635033600, 207, -161],\n",
       " [1635638400, 0, 0],\n",
       " [1636243200, 0, 0],\n",
       " [1636848000, 0, 0],\n",
       " [1637452800, 134, -139],\n",
       " [1638057600, 3731, -3358],\n",
       " [1638662400, 287, -296],\n",
       " [1639267200, 0, 0],\n",
       " [1639872000, 0, 0],\n",
       " [1640476800, 0, 0],\n",
       " [1641081600, 839, -973],\n",
       " [1641686400, 0, 0],\n",
       " [1642291200, 0, 0],\n",
       " [1642896000, 922, -391],\n",
       " [1643500800, 360, -259],\n",
       " [1644105600, 3111, -3186],\n",
       " [1644710400, 1816, -431],\n",
       " [1645315200, 1485, -354],\n",
       " [1645920000, 0, 0],\n",
       " [1646524800, 227785, -204152],\n",
       " [1647129600, 23017, -2144],\n",
       " [1647734400, 2820, -1477],\n",
       " [1648339200, 4287, -4375],\n",
       " [1648944000, 5102, -2882],\n",
       " [1649548800, 483, -371],\n",
       " [1650153600, 4140, 0],\n",
       " [1650758400, 0, 0],\n",
       " [1651363200, 1404, -3277],\n",
       " [1651968000, 0, 0],\n",
       " [1652572800, 755, -554],\n",
       " [1653177600, 5525, -2472],\n",
       " [1653782400, 0, 0],\n",
       " [1654387200, 0, 0],\n",
       " [1654992000, 0, 0],\n",
       " [1655596800, 715, -508],\n",
       " [1656201600, 1017, -1059],\n",
       " [1656806400, 1220, -1139],\n",
       " [1657411200, 0, 0],\n",
       " [1658016000, 0, 0],\n",
       " [1658620800, 15401, -6211],\n",
       " [1659225600, 13729, -7770],\n",
       " [1659830400, 4109, -3276],\n",
       " [1660435200, 13539, -8089],\n",
       " [1661040000, 164027, -143876],\n",
       " [1661644800, 159169, -266],\n",
       " [1662249600, 49163, -32089],\n",
       " [1662854400, 67894, -65551],\n",
       " [1663459200, 13432, -4092],\n",
       " [1664064000, 33216, -29621],\n",
       " [1664668800, 405573, -389656],\n",
       " [1665273600, 35192, -15185],\n",
       " [1665878400, 2935, -1084],\n",
       " [1666483200, 14334, -14637],\n",
       " [1667088000, 8105, -3299],\n",
       " [1667692800, 20932, -2660],\n",
       " [1668297600, 4100, -1280],\n",
       " [1668902400, 4319, -363],\n",
       " [1669507200, 19167, -581009],\n",
       " [1670112000, 19087, -3142],\n",
       " [1670716800, 16227, -11409],\n",
       " [1671321600, 3446, -3],\n",
       " [1671926400, 0, 0],\n",
       " [1672531200, 0, 0],\n",
       " [1673136000, 18180, -7229],\n",
       " [1673740800, 5367, -1536],\n",
       " [1674345600, 9295, -2389],\n",
       " [1674950400, 14897, -20539],\n",
       " [1675555200, 37346, -2162],\n",
       " [1676160000, 26391, -6586]]"
      ]
     },
     "execution_count": 17,
     "metadata": {},
     "output_type": "execute_result"
    }
   ],
   "source": [
    "# timestamp (12AM Sunday each week for life of the repository), additions, deletions\n",
    "response = requests.get(f'{github_api_url}/stats/code_frequency', headers = {'Authorization': f'Bearer {pat}', 'Accept': 'application/vnd.github+json'})\n",
    "\n",
    "while response.status_code == 202:\n",
    "    time.sleep(30)\n",
    "    response = requests.get(f'{github_api_url}/stats/code_frequency', headers = {'Authorization': f'Bearer {pat}', 'Accept': 'application/vnd.github+json'})\n",
    "    \n",
    "json.loads(response.text)"
   ]
  },
  {
   "cell_type": "code",
   "execution_count": 191,
   "id": "f9fa161e-fbe4-482d-85ef-4a35c654f8c5",
   "metadata": {},
   "outputs": [
    {
     "data": {
      "text/plain": [
       "[{'week': 1616889600, 'additions': 2983, 'deletions': -547},\n",
       " {'week': 1617494400, 'additions': 7461, 'deletions': -3499},\n",
       " {'week': 1618099200, 'additions': 12394, 'deletions': -6314},\n",
       " {'week': 1618704000, 'additions': 7904, 'deletions': -6179},\n",
       " {'week': 1619308800, 'additions': 0, 'deletions': 0},\n",
       " {'week': 1619913600, 'additions': 0, 'deletions': 0},\n",
       " {'week': 1620518400, 'additions': 0, 'deletions': 0},\n",
       " {'week': 1621123200, 'additions': 0, 'deletions': 0},\n",
       " {'week': 1621728000, 'additions': 0, 'deletions': 0},\n",
       " {'week': 1622332800, 'additions': 0, 'deletions': 0},\n",
       " {'week': 1622937600, 'additions': 695, 'deletions': -899},\n",
       " {'week': 1623542400, 'additions': 0, 'deletions': 0},\n",
       " {'week': 1624147200, 'additions': 246, 'deletions': -359},\n",
       " {'week': 1624752000, 'additions': 0, 'deletions': 0},\n",
       " {'week': 1625356800, 'additions': 14349, 'deletions': -11041},\n",
       " {'week': 1625961600, 'additions': 3422, 'deletions': -1542},\n",
       " {'week': 1626566400, 'additions': 1582, 'deletions': -1716},\n",
       " {'week': 1627171200, 'additions': 0, 'deletions': 0},\n",
       " {'week': 1627776000, 'additions': 0, 'deletions': 0},\n",
       " {'week': 1628380800, 'additions': 1693, 'deletions': -2389},\n",
       " {'week': 1628985600, 'additions': 0, 'deletions': 0},\n",
       " {'week': 1629590400, 'additions': 0, 'deletions': 0},\n",
       " {'week': 1630195200, 'additions': 10777, 'deletions': -6390},\n",
       " {'week': 1630800000, 'additions': 400423, 'deletions': -206756},\n",
       " {'week': 1631404800, 'additions': 217627, 'deletions': -217787},\n",
       " {'week': 1632009600, 'additions': 14216, 'deletions': -10514},\n",
       " {'week': 1632614400, 'additions': 1370, 'deletions': -1244},\n",
       " {'week': 1633219200, 'additions': 2047, 'deletions': -715},\n",
       " {'week': 1633824000, 'additions': 2705, 'deletions': -2357},\n",
       " {'week': 1634428800, 'additions': 37, 'deletions': -62},\n",
       " {'week': 1635033600, 'additions': 207, 'deletions': -161},\n",
       " {'week': 1635638400, 'additions': 0, 'deletions': 0},\n",
       " {'week': 1636243200, 'additions': 0, 'deletions': 0},\n",
       " {'week': 1636848000, 'additions': 0, 'deletions': 0},\n",
       " {'week': 1637452800, 'additions': 134, 'deletions': -139},\n",
       " {'week': 1638057600, 'additions': 3731, 'deletions': -3358},\n",
       " {'week': 1638662400, 'additions': 287, 'deletions': -296},\n",
       " {'week': 1639267200, 'additions': 0, 'deletions': 0},\n",
       " {'week': 1639872000, 'additions': 0, 'deletions': 0},\n",
       " {'week': 1640476800, 'additions': 0, 'deletions': 0},\n",
       " {'week': 1641081600, 'additions': 839, 'deletions': -973},\n",
       " {'week': 1641686400, 'additions': 0, 'deletions': 0},\n",
       " {'week': 1642291200, 'additions': 0, 'deletions': 0},\n",
       " {'week': 1642896000, 'additions': 922, 'deletions': -391},\n",
       " {'week': 1643500800, 'additions': 360, 'deletions': -259},\n",
       " {'week': 1644105600, 'additions': 3111, 'deletions': -3186},\n",
       " {'week': 1644710400, 'additions': 1816, 'deletions': -431},\n",
       " {'week': 1645315200, 'additions': 1485, 'deletions': -354},\n",
       " {'week': 1645920000, 'additions': 0, 'deletions': 0},\n",
       " {'week': 1646524800, 'additions': 227785, 'deletions': -204152},\n",
       " {'week': 1647129600, 'additions': 23017, 'deletions': -2144},\n",
       " {'week': 1647734400, 'additions': 2820, 'deletions': -1477},\n",
       " {'week': 1648339200, 'additions': 4287, 'deletions': -4375},\n",
       " {'week': 1648944000, 'additions': 5102, 'deletions': -2882},\n",
       " {'week': 1649548800, 'additions': 483, 'deletions': -371},\n",
       " {'week': 1650153600, 'additions': 4140, 'deletions': 0},\n",
       " {'week': 1650758400, 'additions': 0, 'deletions': 0},\n",
       " {'week': 1651363200, 'additions': 1404, 'deletions': -3277},\n",
       " {'week': 1651968000, 'additions': 0, 'deletions': 0},\n",
       " {'week': 1652572800, 'additions': 755, 'deletions': -554},\n",
       " {'week': 1653177600, 'additions': 5525, 'deletions': -2472},\n",
       " {'week': 1653782400, 'additions': 0, 'deletions': 0},\n",
       " {'week': 1654387200, 'additions': 0, 'deletions': 0},\n",
       " {'week': 1654992000, 'additions': 0, 'deletions': 0},\n",
       " {'week': 1655596800, 'additions': 715, 'deletions': -508},\n",
       " {'week': 1656201600, 'additions': 1017, 'deletions': -1059},\n",
       " {'week': 1656806400, 'additions': 1220, 'deletions': -1139},\n",
       " {'week': 1657411200, 'additions': 0, 'deletions': 0},\n",
       " {'week': 1658016000, 'additions': 0, 'deletions': 0},\n",
       " {'week': 1658620800, 'additions': 15401, 'deletions': -6211},\n",
       " {'week': 1659225600, 'additions': 13729, 'deletions': -7770},\n",
       " {'week': 1659830400, 'additions': 4109, 'deletions': -3276},\n",
       " {'week': 1660435200, 'additions': 13539, 'deletions': -8089},\n",
       " {'week': 1661040000, 'additions': 164027, 'deletions': -143876},\n",
       " {'week': 1661644800, 'additions': 159169, 'deletions': -266},\n",
       " {'week': 1662249600, 'additions': 49163, 'deletions': -32089},\n",
       " {'week': 1662854400, 'additions': 67894, 'deletions': -65551},\n",
       " {'week': 1663459200, 'additions': 13432, 'deletions': -4092},\n",
       " {'week': 1664064000, 'additions': 33216, 'deletions': -29621},\n",
       " {'week': 1664668800, 'additions': 405573, 'deletions': -389656},\n",
       " {'week': 1665273600, 'additions': 35192, 'deletions': -15185},\n",
       " {'week': 1665878400, 'additions': 2935, 'deletions': -1084},\n",
       " {'week': 1666483200, 'additions': 14334, 'deletions': -14637},\n",
       " {'week': 1667088000, 'additions': 8105, 'deletions': -3299},\n",
       " {'week': 1667692800, 'additions': 20932, 'deletions': -2660},\n",
       " {'week': 1668297600, 'additions': 4100, 'deletions': -1280},\n",
       " {'week': 1668902400, 'additions': 4319, 'deletions': -363},\n",
       " {'week': 1669507200, 'additions': 0, 'deletions': 0}]"
      ]
     },
     "execution_count": 191,
     "metadata": {},
     "output_type": "execute_result"
    }
   ],
   "source": [
    "# array of array is not allowed in json/bigquery, convert to array of struct/dict:\n",
    "\n",
    "[{'week': v[0], 'additions': v[1], 'deletions': v[2]} for v in json.loads(response.text)]"
   ]
  },
  {
   "cell_type": "markdown",
   "id": "28db248a-b594-489d-a87c-b7f099742e4f",
   "metadata": {},
   "source": [
    "---\n",
    "### Review metrics: Statistics - Weekly Commit Activity"
   ]
  },
  {
   "cell_type": "code",
   "execution_count": 38,
   "id": "51470b42-f18e-47f7-9e4a-be0948095776",
   "metadata": {},
   "outputs": [
    {
     "data": {
      "text/plain": [
       "[{'days': [0, 1, 2, 1, 0, 1, 0], 'total': 5, 'week': 1638057600},\n",
       " {'days': [0, 0, 0, 3, 0, 0, 0], 'total': 3, 'week': 1638662400},\n",
       " {'days': [0, 0, 0, 0, 0, 0, 0], 'total': 0, 'week': 1639267200},\n",
       " {'days': [0, 0, 0, 0, 0, 0, 0], 'total': 0, 'week': 1639872000},\n",
       " {'days': [0, 0, 0, 0, 0, 0, 0], 'total': 0, 'week': 1640476800},\n",
       " {'days': [0, 16, 3, 1, 0, 1, 1], 'total': 22, 'week': 1641081600},\n",
       " {'days': [0, 0, 0, 0, 0, 0, 0], 'total': 0, 'week': 1641686400},\n",
       " {'days': [0, 0, 0, 0, 0, 0, 0], 'total': 0, 'week': 1642291200},\n",
       " {'days': [0, 0, 0, 2, 0, 0, 2], 'total': 4, 'week': 1642896000},\n",
       " {'days': [0, 0, 0, 1, 1, 1, 0], 'total': 3, 'week': 1643500800},\n",
       " {'days': [0, 5, 0, 3, 2, 1, 1], 'total': 12, 'week': 1644105600},\n",
       " {'days': [0, 2, 1, 0, 0, 2, 0], 'total': 5, 'week': 1644710400},\n",
       " {'days': [0, 1, 0, 0, 0, 1, 0], 'total': 2, 'week': 1645315200},\n",
       " {'days': [0, 0, 0, 0, 0, 0, 0], 'total': 0, 'week': 1645920000},\n",
       " {'days': [0, 0, 0, 2, 1, 6, 1], 'total': 10, 'week': 1646524800},\n",
       " {'days': [2, 4, 3, 0, 1, 1, 3], 'total': 14, 'week': 1647129600},\n",
       " {'days': [1, 4, 0, 0, 0, 1, 0], 'total': 6, 'week': 1647734400},\n",
       " {'days': [0, 0, 0, 0, 0, 0, 7], 'total': 7, 'week': 1648339200},\n",
       " {'days': [0, 1, 0, 4, 1, 0, 0], 'total': 6, 'week': 1648944000},\n",
       " {'days': [0, 0, 4, 0, 0, 0, 0], 'total': 4, 'week': 1649548800},\n",
       " {'days': [0, 1, 1, 0, 0, 0, 0], 'total': 2, 'week': 1650153600},\n",
       " {'days': [0, 0, 0, 0, 0, 0, 0], 'total': 0, 'week': 1650758400},\n",
       " {'days': [1, 0, 0, 0, 0, 0, 0], 'total': 1, 'week': 1651363200},\n",
       " {'days': [0, 0, 0, 0, 0, 0, 0], 'total': 0, 'week': 1651968000},\n",
       " {'days': [0, 0, 0, 0, 0, 1, 1], 'total': 2, 'week': 1652572800},\n",
       " {'days': [4, 1, 1, 1, 3, 0, 3], 'total': 13, 'week': 1653177600},\n",
       " {'days': [0, 0, 0, 0, 0, 0, 0], 'total': 0, 'week': 1653782400},\n",
       " {'days': [0, 0, 0, 0, 0, 0, 0], 'total': 0, 'week': 1654387200},\n",
       " {'days': [0, 0, 0, 0, 0, 0, 0], 'total': 0, 'week': 1654992000},\n",
       " {'days': [0, 0, 2, 0, 0, 0, 0], 'total': 2, 'week': 1655596800},\n",
       " {'days': [0, 1, 2, 0, 0, 0, 0], 'total': 3, 'week': 1656201600},\n",
       " {'days': [0, 0, 0, 0, 3, 0, 0], 'total': 3, 'week': 1656806400},\n",
       " {'days': [0, 0, 0, 0, 0, 0, 0], 'total': 0, 'week': 1657411200},\n",
       " {'days': [0, 0, 0, 0, 0, 0, 0], 'total': 0, 'week': 1658016000},\n",
       " {'days': [0, 0, 0, 0, 3, 7, 1], 'total': 11, 'week': 1658620800},\n",
       " {'days': [0, 1, 2, 2, 3, 0, 2], 'total': 10, 'week': 1659225600},\n",
       " {'days': [0, 10, 0, 0, 0, 3, 1], 'total': 14, 'week': 1659830400},\n",
       " {'days': [4, 1, 0, 1, 1, 2, 1], 'total': 10, 'week': 1660435200},\n",
       " {'days': [0, 3, 3, 1, 0, 0, 10], 'total': 17, 'week': 1661040000},\n",
       " {'days': [1, 0, 0, 1, 0, 0, 0], 'total': 2, 'week': 1661644800},\n",
       " {'days': [0, 0, 0, 0, 0, 2, 3], 'total': 5, 'week': 1662249600},\n",
       " {'days': [4, 0, 9, 2, 4, 0, 8], 'total': 27, 'week': 1662854400},\n",
       " {'days': [3, 1, 12, 6, 4, 0, 8], 'total': 34, 'week': 1663459200},\n",
       " {'days': [0, 0, 9, 9, 0, 4, 1], 'total': 23, 'week': 1664064000},\n",
       " {'days': [0, 10, 9, 4, 3, 2, 1], 'total': 29, 'week': 1664668800},\n",
       " {'days': [8, 8, 7, 5, 4, 12, 2], 'total': 46, 'week': 1665273600},\n",
       " {'days': [1, 5, 3, 0, 5, 0, 0], 'total': 14, 'week': 1665878400},\n",
       " {'days': [0, 4, 0, 4, 0, 3, 3], 'total': 14, 'week': 1666483200},\n",
       " {'days': [2, 0, 4, 2, 2, 0, 0], 'total': 10, 'week': 1667088000},\n",
       " {'days': [0, 2, 4, 3, 3, 1, 0], 'total': 13, 'week': 1667692800},\n",
       " {'days': [0, 6, 0, 1, 0, 0, 0], 'total': 7, 'week': 1668297600},\n",
       " {'days': [0, 2, 0, 3, 0, 1, 3], 'total': 9, 'week': 1668902400}]"
      ]
     },
     "execution_count": 38,
     "metadata": {},
     "output_type": "execute_result"
    }
   ],
   "source": [
    "# commits per day [sunday, ..., saturday], total, week (timestamp)\n",
    "response = requests.get(f'{github_api_url}/stats/commit_activity', headers = {'Authorization': f'Bearer {pat}', 'Accept': 'application/vnd.github+json'})\n",
    "\n",
    "while response.status_code == 202:\n",
    "    time.sleep(30)\n",
    "    response = requests.get(f'{github_api_url}/stats/commit_activity', headers = {'Authorization': f'Bearer {pat}', 'Accept': 'application/vnd.github+json'})\n",
    "    \n",
    "json.loads(response.text)"
   ]
  },
  {
   "cell_type": "markdown",
   "id": "de9451ea-9d94-4785-82b4-6de1bef5c592",
   "metadata": {},
   "source": [
    "---\n",
    "### Review metrics: Statistics - Weekly Contributor Activity (Code and Commit)"
   ]
  },
  {
   "cell_type": "code",
   "execution_count": 39,
   "id": "fa6098eb-2f69-4938-8837-4e426ebde8c0",
   "metadata": {},
   "outputs": [
    {
     "data": {
      "text/plain": [
       "[{'total': 1,\n",
       "  'weeks': [{'w': 1616889600, 'a': 0, 'd': 0, 'c': 0},\n",
       "   {'w': 1617494400, 'a': 0, 'd': 0, 'c': 0},\n",
       "   {'w': 1618099200, 'a': 0, 'd': 0, 'c': 0},\n",
       "   {'w': 1618704000, 'a': 0, 'd': 0, 'c': 0},\n",
       "   {'w': 1619308800, 'a': 0, 'd': 0, 'c': 0},\n",
       "   {'w': 1619913600, 'a': 0, 'd': 0, 'c': 0},\n",
       "   {'w': 1620518400, 'a': 0, 'd': 0, 'c': 0},\n",
       "   {'w': 1621123200, 'a': 0, 'd': 0, 'c': 0},\n",
       "   {'w': 1621728000, 'a': 0, 'd': 0, 'c': 0},\n",
       "   {'w': 1622332800, 'a': 0, 'd': 0, 'c': 0},\n",
       "   {'w': 1622937600, 'a': 0, 'd': 0, 'c': 0},\n",
       "   {'w': 1623542400, 'a': 0, 'd': 0, 'c': 0},\n",
       "   {'w': 1624147200, 'a': 0, 'd': 0, 'c': 0},\n",
       "   {'w': 1624752000, 'a': 0, 'd': 0, 'c': 0},\n",
       "   {'w': 1625356800, 'a': 0, 'd': 0, 'c': 0},\n",
       "   {'w': 1625961600, 'a': 0, 'd': 0, 'c': 0},\n",
       "   {'w': 1626566400, 'a': 0, 'd': 0, 'c': 0},\n",
       "   {'w': 1627171200, 'a': 0, 'd': 0, 'c': 0},\n",
       "   {'w': 1627776000, 'a': 0, 'd': 0, 'c': 0},\n",
       "   {'w': 1628380800, 'a': 0, 'd': 0, 'c': 0},\n",
       "   {'w': 1628985600, 'a': 0, 'd': 0, 'c': 0},\n",
       "   {'w': 1629590400, 'a': 0, 'd': 0, 'c': 0},\n",
       "   {'w': 1630195200, 'a': 0, 'd': 0, 'c': 0},\n",
       "   {'w': 1630800000, 'a': 0, 'd': 0, 'c': 0},\n",
       "   {'w': 1631404800, 'a': 0, 'd': 0, 'c': 0},\n",
       "   {'w': 1632009600, 'a': 0, 'd': 0, 'c': 0},\n",
       "   {'w': 1632614400, 'a': 0, 'd': 0, 'c': 0},\n",
       "   {'w': 1633219200, 'a': 0, 'd': 0, 'c': 0},\n",
       "   {'w': 1633824000, 'a': 0, 'd': 0, 'c': 0},\n",
       "   {'w': 1634428800, 'a': 0, 'd': 0, 'c': 0},\n",
       "   {'w': 1635033600, 'a': 0, 'd': 0, 'c': 0},\n",
       "   {'w': 1635638400, 'a': 0, 'd': 0, 'c': 0},\n",
       "   {'w': 1636243200, 'a': 0, 'd': 0, 'c': 0},\n",
       "   {'w': 1636848000, 'a': 0, 'd': 0, 'c': 0},\n",
       "   {'w': 1637452800, 'a': 0, 'd': 0, 'c': 0},\n",
       "   {'w': 1638057600, 'a': 0, 'd': 0, 'c': 0},\n",
       "   {'w': 1638662400, 'a': 0, 'd': 0, 'c': 0},\n",
       "   {'w': 1639267200, 'a': 0, 'd': 0, 'c': 0},\n",
       "   {'w': 1639872000, 'a': 0, 'd': 0, 'c': 0},\n",
       "   {'w': 1640476800, 'a': 0, 'd': 0, 'c': 0},\n",
       "   {'w': 1641081600, 'a': 0, 'd': 0, 'c': 0},\n",
       "   {'w': 1641686400, 'a': 0, 'd': 0, 'c': 0},\n",
       "   {'w': 1642291200, 'a': 0, 'd': 0, 'c': 0},\n",
       "   {'w': 1642896000, 'a': 0, 'd': 0, 'c': 0},\n",
       "   {'w': 1643500800, 'a': 0, 'd': 0, 'c': 0},\n",
       "   {'w': 1644105600, 'a': 0, 'd': 0, 'c': 0},\n",
       "   {'w': 1644710400, 'a': 0, 'd': 0, 'c': 0},\n",
       "   {'w': 1645315200, 'a': 0, 'd': 0, 'c': 0},\n",
       "   {'w': 1645920000, 'a': 0, 'd': 0, 'c': 0},\n",
       "   {'w': 1646524800, 'a': 0, 'd': 0, 'c': 0},\n",
       "   {'w': 1647129600, 'a': 0, 'd': 0, 'c': 0},\n",
       "   {'w': 1647734400, 'a': 0, 'd': 0, 'c': 0},\n",
       "   {'w': 1648339200, 'a': 0, 'd': 0, 'c': 0},\n",
       "   {'w': 1648944000, 'a': 0, 'd': 0, 'c': 0},\n",
       "   {'w': 1649548800, 'a': 0, 'd': 0, 'c': 0},\n",
       "   {'w': 1650153600, 'a': 0, 'd': 0, 'c': 0},\n",
       "   {'w': 1650758400, 'a': 0, 'd': 0, 'c': 0},\n",
       "   {'w': 1651363200, 'a': 0, 'd': 0, 'c': 0},\n",
       "   {'w': 1651968000, 'a': 0, 'd': 0, 'c': 0},\n",
       "   {'w': 1652572800, 'a': 0, 'd': 0, 'c': 0},\n",
       "   {'w': 1653177600, 'a': 0, 'd': 0, 'c': 0},\n",
       "   {'w': 1653782400, 'a': 0, 'd': 0, 'c': 0},\n",
       "   {'w': 1654387200, 'a': 0, 'd': 0, 'c': 0},\n",
       "   {'w': 1654992000, 'a': 0, 'd': 0, 'c': 0},\n",
       "   {'w': 1655596800, 'a': 0, 'd': 0, 'c': 0},\n",
       "   {'w': 1656201600, 'a': 0, 'd': 0, 'c': 0},\n",
       "   {'w': 1656806400, 'a': 0, 'd': 0, 'c': 0},\n",
       "   {'w': 1657411200, 'a': 0, 'd': 0, 'c': 0},\n",
       "   {'w': 1658016000, 'a': 0, 'd': 0, 'c': 0},\n",
       "   {'w': 1658620800, 'a': 0, 'd': 0, 'c': 0},\n",
       "   {'w': 1659225600, 'a': 0, 'd': 0, 'c': 0},\n",
       "   {'w': 1659830400, 'a': 0, 'd': 0, 'c': 0},\n",
       "   {'w': 1660435200, 'a': 0, 'd': 0, 'c': 0},\n",
       "   {'w': 1661040000, 'a': 0, 'd': 0, 'c': 0},\n",
       "   {'w': 1661644800, 'a': 0, 'd': 0, 'c': 0},\n",
       "   {'w': 1662249600, 'a': 0, 'd': 0, 'c': 0},\n",
       "   {'w': 1662854400, 'a': 0, 'd': 0, 'c': 0},\n",
       "   {'w': 1663459200, 'a': 0, 'd': 0, 'c': 0},\n",
       "   {'w': 1664064000, 'a': 0, 'd': 0, 'c': 0},\n",
       "   {'w': 1664668800, 'a': 0, 'd': 0, 'c': 0},\n",
       "   {'w': 1665273600, 'a': 0, 'd': 0, 'c': 0},\n",
       "   {'w': 1665878400, 'a': 0, 'd': 0, 'c': 0},\n",
       "   {'w': 1666483200, 'a': 0, 'd': 0, 'c': 0},\n",
       "   {'w': 1667088000, 'a': 0, 'd': 0, 'c': 0},\n",
       "   {'w': 1667692800, 'a': 6357, 'd': 2, 'c': 1},\n",
       "   {'w': 1668297600, 'a': 0, 'd': 0, 'c': 0},\n",
       "   {'w': 1668902400, 'a': 0, 'd': 0, 'c': 0}],\n",
       "  'author': {'login': 'goodrules',\n",
       "   'id': 7725348,\n",
       "   'node_id': 'MDQ6VXNlcjc3MjUzNDg=',\n",
       "   'avatar_url': 'https://avatars.githubusercontent.com/u/7725348?v=4',\n",
       "   'gravatar_id': '',\n",
       "   'url': 'https://api.github.com/users/goodrules',\n",
       "   'html_url': 'https://github.com/goodrules',\n",
       "   'followers_url': 'https://api.github.com/users/goodrules/followers',\n",
       "   'following_url': 'https://api.github.com/users/goodrules/following{/other_user}',\n",
       "   'gists_url': 'https://api.github.com/users/goodrules/gists{/gist_id}',\n",
       "   'starred_url': 'https://api.github.com/users/goodrules/starred{/owner}{/repo}',\n",
       "   'subscriptions_url': 'https://api.github.com/users/goodrules/subscriptions',\n",
       "   'organizations_url': 'https://api.github.com/users/goodrules/orgs',\n",
       "   'repos_url': 'https://api.github.com/users/goodrules/repos',\n",
       "   'events_url': 'https://api.github.com/users/goodrules/events{/privacy}',\n",
       "   'received_events_url': 'https://api.github.com/users/goodrules/received_events',\n",
       "   'type': 'User',\n",
       "   'site_admin': False}},\n",
       " {'total': 1,\n",
       "  'weeks': [{'w': 1616889600, 'a': 0, 'd': 0, 'c': 0},\n",
       "   {'w': 1617494400, 'a': 0, 'd': 0, 'c': 0},\n",
       "   {'w': 1618099200, 'a': 0, 'd': 0, 'c': 0},\n",
       "   {'w': 1618704000, 'a': 0, 'd': 0, 'c': 0},\n",
       "   {'w': 1619308800, 'a': 0, 'd': 0, 'c': 0},\n",
       "   {'w': 1619913600, 'a': 0, 'd': 0, 'c': 0},\n",
       "   {'w': 1620518400, 'a': 0, 'd': 0, 'c': 0},\n",
       "   {'w': 1621123200, 'a': 0, 'd': 0, 'c': 0},\n",
       "   {'w': 1621728000, 'a': 0, 'd': 0, 'c': 0},\n",
       "   {'w': 1622332800, 'a': 0, 'd': 0, 'c': 0},\n",
       "   {'w': 1622937600, 'a': 0, 'd': 0, 'c': 0},\n",
       "   {'w': 1623542400, 'a': 0, 'd': 0, 'c': 0},\n",
       "   {'w': 1624147200, 'a': 0, 'd': 0, 'c': 0},\n",
       "   {'w': 1624752000, 'a': 0, 'd': 0, 'c': 0},\n",
       "   {'w': 1625356800, 'a': 0, 'd': 0, 'c': 0},\n",
       "   {'w': 1625961600, 'a': 0, 'd': 0, 'c': 0},\n",
       "   {'w': 1626566400, 'a': 0, 'd': 0, 'c': 0},\n",
       "   {'w': 1627171200, 'a': 0, 'd': 0, 'c': 0},\n",
       "   {'w': 1627776000, 'a': 0, 'd': 0, 'c': 0},\n",
       "   {'w': 1628380800, 'a': 0, 'd': 0, 'c': 0},\n",
       "   {'w': 1628985600, 'a': 0, 'd': 0, 'c': 0},\n",
       "   {'w': 1629590400, 'a': 0, 'd': 0, 'c': 0},\n",
       "   {'w': 1630195200, 'a': 0, 'd': 0, 'c': 0},\n",
       "   {'w': 1630800000, 'a': 0, 'd': 0, 'c': 0},\n",
       "   {'w': 1631404800, 'a': 0, 'd': 0, 'c': 0},\n",
       "   {'w': 1632009600, 'a': 0, 'd': 0, 'c': 0},\n",
       "   {'w': 1632614400, 'a': 0, 'd': 0, 'c': 0},\n",
       "   {'w': 1633219200, 'a': 0, 'd': 0, 'c': 0},\n",
       "   {'w': 1633824000, 'a': 0, 'd': 0, 'c': 0},\n",
       "   {'w': 1634428800, 'a': 0, 'd': 0, 'c': 0},\n",
       "   {'w': 1635033600, 'a': 0, 'd': 0, 'c': 0},\n",
       "   {'w': 1635638400, 'a': 0, 'd': 0, 'c': 0},\n",
       "   {'w': 1636243200, 'a': 0, 'd': 0, 'c': 0},\n",
       "   {'w': 1636848000, 'a': 0, 'd': 0, 'c': 0},\n",
       "   {'w': 1637452800, 'a': 0, 'd': 0, 'c': 0},\n",
       "   {'w': 1638057600, 'a': 0, 'd': 0, 'c': 0},\n",
       "   {'w': 1638662400, 'a': 0, 'd': 0, 'c': 0},\n",
       "   {'w': 1639267200, 'a': 0, 'd': 0, 'c': 0},\n",
       "   {'w': 1639872000, 'a': 0, 'd': 0, 'c': 0},\n",
       "   {'w': 1640476800, 'a': 0, 'd': 0, 'c': 0},\n",
       "   {'w': 1641081600, 'a': 0, 'd': 0, 'c': 0},\n",
       "   {'w': 1641686400, 'a': 0, 'd': 0, 'c': 0},\n",
       "   {'w': 1642291200, 'a': 0, 'd': 0, 'c': 0},\n",
       "   {'w': 1642896000, 'a': 0, 'd': 0, 'c': 0},\n",
       "   {'w': 1643500800, 'a': 0, 'd': 0, 'c': 0},\n",
       "   {'w': 1644105600, 'a': 0, 'd': 0, 'c': 0},\n",
       "   {'w': 1644710400, 'a': 0, 'd': 0, 'c': 0},\n",
       "   {'w': 1645315200, 'a': 0, 'd': 0, 'c': 0},\n",
       "   {'w': 1645920000, 'a': 0, 'd': 0, 'c': 0},\n",
       "   {'w': 1646524800, 'a': 0, 'd': 0, 'c': 0},\n",
       "   {'w': 1647129600, 'a': 0, 'd': 0, 'c': 0},\n",
       "   {'w': 1647734400, 'a': 0, 'd': 0, 'c': 0},\n",
       "   {'w': 1648339200, 'a': 0, 'd': 0, 'c': 0},\n",
       "   {'w': 1648944000, 'a': 0, 'd': 0, 'c': 0},\n",
       "   {'w': 1649548800, 'a': 0, 'd': 0, 'c': 0},\n",
       "   {'w': 1650153600, 'a': 0, 'd': 0, 'c': 0},\n",
       "   {'w': 1650758400, 'a': 0, 'd': 0, 'c': 0},\n",
       "   {'w': 1651363200, 'a': 0, 'd': 0, 'c': 0},\n",
       "   {'w': 1651968000, 'a': 0, 'd': 0, 'c': 0},\n",
       "   {'w': 1652572800, 'a': 0, 'd': 0, 'c': 0},\n",
       "   {'w': 1653177600, 'a': 0, 'd': 0, 'c': 0},\n",
       "   {'w': 1653782400, 'a': 0, 'd': 0, 'c': 0},\n",
       "   {'w': 1654387200, 'a': 0, 'd': 0, 'c': 0},\n",
       "   {'w': 1654992000, 'a': 0, 'd': 0, 'c': 0},\n",
       "   {'w': 1655596800, 'a': 0, 'd': 0, 'c': 0},\n",
       "   {'w': 1656201600, 'a': 0, 'd': 0, 'c': 0},\n",
       "   {'w': 1656806400, 'a': 0, 'd': 0, 'c': 0},\n",
       "   {'w': 1657411200, 'a': 0, 'd': 0, 'c': 0},\n",
       "   {'w': 1658016000, 'a': 0, 'd': 0, 'c': 0},\n",
       "   {'w': 1658620800, 'a': 0, 'd': 0, 'c': 0},\n",
       "   {'w': 1659225600, 'a': 0, 'd': 0, 'c': 0},\n",
       "   {'w': 1659830400, 'a': 0, 'd': 0, 'c': 0},\n",
       "   {'w': 1660435200, 'a': 0, 'd': 0, 'c': 0},\n",
       "   {'w': 1661040000, 'a': 0, 'd': 0, 'c': 0},\n",
       "   {'w': 1661644800, 'a': 0, 'd': 0, 'c': 0},\n",
       "   {'w': 1662249600, 'a': 0, 'd': 0, 'c': 0},\n",
       "   {'w': 1662854400, 'a': 0, 'd': 0, 'c': 0},\n",
       "   {'w': 1663459200, 'a': 0, 'd': 0, 'c': 0},\n",
       "   {'w': 1664064000, 'a': 0, 'd': 0, 'c': 0},\n",
       "   {'w': 1664668800, 'a': 0, 'd': 0, 'c': 0},\n",
       "   {'w': 1665273600, 'a': 0, 'd': 0, 'c': 0},\n",
       "   {'w': 1665878400, 'a': 0, 'd': 0, 'c': 0},\n",
       "   {'w': 1666483200, 'a': 50, 'd': 29, 'c': 1},\n",
       "   {'w': 1667088000, 'a': 0, 'd': 0, 'c': 0},\n",
       "   {'w': 1667692800, 'a': 0, 'd': 0, 'c': 0},\n",
       "   {'w': 1668297600, 'a': 0, 'd': 0, 'c': 0},\n",
       "   {'w': 1668902400, 'a': 0, 'd': 0, 'c': 0}],\n",
       "  'author': {'login': 'karticn-google',\n",
       "   'id': 110996829,\n",
       "   'node_id': 'U_kgDOBp2tXQ',\n",
       "   'avatar_url': 'https://avatars.githubusercontent.com/u/110996829?v=4',\n",
       "   'gravatar_id': '',\n",
       "   'url': 'https://api.github.com/users/karticn-google',\n",
       "   'html_url': 'https://github.com/karticn-google',\n",
       "   'followers_url': 'https://api.github.com/users/karticn-google/followers',\n",
       "   'following_url': 'https://api.github.com/users/karticn-google/following{/other_user}',\n",
       "   'gists_url': 'https://api.github.com/users/karticn-google/gists{/gist_id}',\n",
       "   'starred_url': 'https://api.github.com/users/karticn-google/starred{/owner}{/repo}',\n",
       "   'subscriptions_url': 'https://api.github.com/users/karticn-google/subscriptions',\n",
       "   'organizations_url': 'https://api.github.com/users/karticn-google/orgs',\n",
       "   'repos_url': 'https://api.github.com/users/karticn-google/repos',\n",
       "   'events_url': 'https://api.github.com/users/karticn-google/events{/privacy}',\n",
       "   'received_events_url': 'https://api.github.com/users/karticn-google/received_events',\n",
       "   'type': 'User',\n",
       "   'site_admin': False}},\n",
       " {'total': 2,\n",
       "  'weeks': [{'w': 1616889600, 'a': 0, 'd': 0, 'c': 0},\n",
       "   {'w': 1617494400, 'a': 0, 'd': 0, 'c': 0},\n",
       "   {'w': 1618099200, 'a': 0, 'd': 0, 'c': 0},\n",
       "   {'w': 1618704000, 'a': 0, 'd': 0, 'c': 0},\n",
       "   {'w': 1619308800, 'a': 0, 'd': 0, 'c': 0},\n",
       "   {'w': 1619913600, 'a': 0, 'd': 0, 'c': 0},\n",
       "   {'w': 1620518400, 'a': 0, 'd': 0, 'c': 0},\n",
       "   {'w': 1621123200, 'a': 0, 'd': 0, 'c': 0},\n",
       "   {'w': 1621728000, 'a': 0, 'd': 0, 'c': 0},\n",
       "   {'w': 1622332800, 'a': 0, 'd': 0, 'c': 0},\n",
       "   {'w': 1622937600, 'a': 0, 'd': 0, 'c': 0},\n",
       "   {'w': 1623542400, 'a': 0, 'd': 0, 'c': 0},\n",
       "   {'w': 1624147200, 'a': 0, 'd': 0, 'c': 0},\n",
       "   {'w': 1624752000, 'a': 0, 'd': 0, 'c': 0},\n",
       "   {'w': 1625356800, 'a': 0, 'd': 0, 'c': 0},\n",
       "   {'w': 1625961600, 'a': 0, 'd': 0, 'c': 0},\n",
       "   {'w': 1626566400, 'a': 0, 'd': 0, 'c': 0},\n",
       "   {'w': 1627171200, 'a': 0, 'd': 0, 'c': 0},\n",
       "   {'w': 1627776000, 'a': 0, 'd': 0, 'c': 0},\n",
       "   {'w': 1628380800, 'a': 0, 'd': 0, 'c': 0},\n",
       "   {'w': 1628985600, 'a': 0, 'd': 0, 'c': 0},\n",
       "   {'w': 1629590400, 'a': 0, 'd': 0, 'c': 0},\n",
       "   {'w': 1630195200, 'a': 0, 'd': 0, 'c': 0},\n",
       "   {'w': 1630800000, 'a': 0, 'd': 0, 'c': 0},\n",
       "   {'w': 1631404800, 'a': 0, 'd': 0, 'c': 0},\n",
       "   {'w': 1632009600, 'a': 0, 'd': 0, 'c': 0},\n",
       "   {'w': 1632614400, 'a': 0, 'd': 0, 'c': 0},\n",
       "   {'w': 1633219200, 'a': 0, 'd': 0, 'c': 0},\n",
       "   {'w': 1633824000, 'a': 0, 'd': 0, 'c': 0},\n",
       "   {'w': 1634428800, 'a': 0, 'd': 0, 'c': 0},\n",
       "   {'w': 1635033600, 'a': 0, 'd': 0, 'c': 0},\n",
       "   {'w': 1635638400, 'a': 0, 'd': 0, 'c': 0},\n",
       "   {'w': 1636243200, 'a': 0, 'd': 0, 'c': 0},\n",
       "   {'w': 1636848000, 'a': 0, 'd': 0, 'c': 0},\n",
       "   {'w': 1637452800, 'a': 0, 'd': 0, 'c': 0},\n",
       "   {'w': 1638057600, 'a': 0, 'd': 0, 'c': 0},\n",
       "   {'w': 1638662400, 'a': 0, 'd': 0, 'c': 0},\n",
       "   {'w': 1639267200, 'a': 0, 'd': 0, 'c': 0},\n",
       "   {'w': 1639872000, 'a': 0, 'd': 0, 'c': 0},\n",
       "   {'w': 1640476800, 'a': 0, 'd': 0, 'c': 0},\n",
       "   {'w': 1641081600, 'a': 0, 'd': 0, 'c': 0},\n",
       "   {'w': 1641686400, 'a': 0, 'd': 0, 'c': 0},\n",
       "   {'w': 1642291200, 'a': 0, 'd': 0, 'c': 0},\n",
       "   {'w': 1642896000, 'a': 0, 'd': 0, 'c': 0},\n",
       "   {'w': 1643500800, 'a': 0, 'd': 0, 'c': 0},\n",
       "   {'w': 1644105600, 'a': 0, 'd': 0, 'c': 0},\n",
       "   {'w': 1644710400, 'a': 0, 'd': 0, 'c': 0},\n",
       "   {'w': 1645315200, 'a': 0, 'd': 0, 'c': 0},\n",
       "   {'w': 1645920000, 'a': 0, 'd': 0, 'c': 0},\n",
       "   {'w': 1646524800, 'a': 0, 'd': 0, 'c': 0},\n",
       "   {'w': 1647129600, 'a': 0, 'd': 0, 'c': 0},\n",
       "   {'w': 1647734400, 'a': 0, 'd': 0, 'c': 0},\n",
       "   {'w': 1648339200, 'a': 0, 'd': 0, 'c': 0},\n",
       "   {'w': 1648944000, 'a': 0, 'd': 0, 'c': 0},\n",
       "   {'w': 1649548800, 'a': 0, 'd': 0, 'c': 0},\n",
       "   {'w': 1650153600, 'a': 0, 'd': 0, 'c': 0},\n",
       "   {'w': 1650758400, 'a': 0, 'd': 0, 'c': 0},\n",
       "   {'w': 1651363200, 'a': 0, 'd': 0, 'c': 0},\n",
       "   {'w': 1651968000, 'a': 0, 'd': 0, 'c': 0},\n",
       "   {'w': 1652572800, 'a': 0, 'd': 0, 'c': 0},\n",
       "   {'w': 1653177600, 'a': 0, 'd': 0, 'c': 0},\n",
       "   {'w': 1653782400, 'a': 0, 'd': 0, 'c': 0},\n",
       "   {'w': 1654387200, 'a': 0, 'd': 0, 'c': 0},\n",
       "   {'w': 1654992000, 'a': 0, 'd': 0, 'c': 0},\n",
       "   {'w': 1655596800, 'a': 0, 'd': 0, 'c': 0},\n",
       "   {'w': 1656201600, 'a': 0, 'd': 0, 'c': 0},\n",
       "   {'w': 1656806400, 'a': 0, 'd': 0, 'c': 0},\n",
       "   {'w': 1657411200, 'a': 0, 'd': 0, 'c': 0},\n",
       "   {'w': 1658016000, 'a': 0, 'd': 0, 'c': 0},\n",
       "   {'w': 1658620800, 'a': 0, 'd': 0, 'c': 0},\n",
       "   {'w': 1659225600, 'a': 0, 'd': 0, 'c': 0},\n",
       "   {'w': 1659830400, 'a': 0, 'd': 0, 'c': 0},\n",
       "   {'w': 1660435200, 'a': 0, 'd': 0, 'c': 0},\n",
       "   {'w': 1661040000, 'a': 0, 'd': 0, 'c': 0},\n",
       "   {'w': 1661644800, 'a': 0, 'd': 0, 'c': 0},\n",
       "   {'w': 1662249600, 'a': 0, 'd': 0, 'c': 0},\n",
       "   {'w': 1662854400, 'a': 0, 'd': 0, 'c': 0},\n",
       "   {'w': 1663459200, 'a': 0, 'd': 0, 'c': 0},\n",
       "   {'w': 1664064000, 'a': 0, 'd': 0, 'c': 0},\n",
       "   {'w': 1664668800, 'a': 0, 'd': 0, 'c': 0},\n",
       "   {'w': 1665273600, 'a': 0, 'd': 0, 'c': 0},\n",
       "   {'w': 1665878400, 'a': 2, 'd': 2, 'c': 2},\n",
       "   {'w': 1666483200, 'a': 0, 'd': 0, 'c': 0},\n",
       "   {'w': 1667088000, 'a': 0, 'd': 0, 'c': 0},\n",
       "   {'w': 1667692800, 'a': 0, 'd': 0, 'c': 0},\n",
       "   {'w': 1668297600, 'a': 0, 'd': 0, 'c': 0},\n",
       "   {'w': 1668902400, 'a': 0, 'd': 0, 'c': 0}],\n",
       "  'author': {'login': 'PavelPetukhov',\n",
       "   'id': 2112085,\n",
       "   'node_id': 'MDQ6VXNlcjIxMTIwODU=',\n",
       "   'avatar_url': 'https://avatars.githubusercontent.com/u/2112085?v=4',\n",
       "   'gravatar_id': '',\n",
       "   'url': 'https://api.github.com/users/PavelPetukhov',\n",
       "   'html_url': 'https://github.com/PavelPetukhov',\n",
       "   'followers_url': 'https://api.github.com/users/PavelPetukhov/followers',\n",
       "   'following_url': 'https://api.github.com/users/PavelPetukhov/following{/other_user}',\n",
       "   'gists_url': 'https://api.github.com/users/PavelPetukhov/gists{/gist_id}',\n",
       "   'starred_url': 'https://api.github.com/users/PavelPetukhov/starred{/owner}{/repo}',\n",
       "   'subscriptions_url': 'https://api.github.com/users/PavelPetukhov/subscriptions',\n",
       "   'organizations_url': 'https://api.github.com/users/PavelPetukhov/orgs',\n",
       "   'repos_url': 'https://api.github.com/users/PavelPetukhov/repos',\n",
       "   'events_url': 'https://api.github.com/users/PavelPetukhov/events{/privacy}',\n",
       "   'received_events_url': 'https://api.github.com/users/PavelPetukhov/received_events',\n",
       "   'type': 'User',\n",
       "   'site_admin': False}},\n",
       " {'total': 440,\n",
       "  'weeks': [{'w': 1616889600, 'a': 0, 'd': 0, 'c': 0},\n",
       "   {'w': 1617494400, 'a': 0, 'd': 0, 'c': 0},\n",
       "   {'w': 1618099200, 'a': 0, 'd': 0, 'c': 0},\n",
       "   {'w': 1618704000, 'a': 1097, 'd': 604, 'c': 2},\n",
       "   {'w': 1619308800, 'a': 0, 'd': 0, 'c': 0},\n",
       "   {'w': 1619913600, 'a': 0, 'd': 0, 'c': 0},\n",
       "   {'w': 1620518400, 'a': 0, 'd': 0, 'c': 0},\n",
       "   {'w': 1621123200, 'a': 0, 'd': 0, 'c': 0},\n",
       "   {'w': 1621728000, 'a': 0, 'd': 0, 'c': 0},\n",
       "   {'w': 1622332800, 'a': 0, 'd': 0, 'c': 0},\n",
       "   {'w': 1622937600, 'a': 0, 'd': 0, 'c': 0},\n",
       "   {'w': 1623542400, 'a': 0, 'd': 0, 'c': 0},\n",
       "   {'w': 1624147200, 'a': 0, 'd': 0, 'c': 0},\n",
       "   {'w': 1624752000, 'a': 0, 'd': 0, 'c': 0},\n",
       "   {'w': 1625356800, 'a': 0, 'd': 0, 'c': 0},\n",
       "   {'w': 1625961600, 'a': 9, 'd': 12, 'c': 1},\n",
       "   {'w': 1626566400, 'a': 0, 'd': 0, 'c': 0},\n",
       "   {'w': 1627171200, 'a': 0, 'd': 0, 'c': 0},\n",
       "   {'w': 1627776000, 'a': 0, 'd': 0, 'c': 0},\n",
       "   {'w': 1628380800, 'a': 0, 'd': 0, 'c': 0},\n",
       "   {'w': 1628985600, 'a': 0, 'd': 0, 'c': 0},\n",
       "   {'w': 1629590400, 'a': 0, 'd': 0, 'c': 0},\n",
       "   {'w': 1630195200, 'a': 10777, 'd': 6390, 'c': 6},\n",
       "   {'w': 1630800000, 'a': 400423, 'd': 206756, 'c': 8},\n",
       "   {'w': 1631404800, 'a': 0, 'd': 0, 'c': 0},\n",
       "   {'w': 1632009600, 'a': 1128, 'd': 742, 'c': 3},\n",
       "   {'w': 1632614400, 'a': 1370, 'd': 1244, 'c': 9},\n",
       "   {'w': 1633219200, 'a': 2047, 'd': 715, 'c': 4},\n",
       "   {'w': 1633824000, 'a': 2705, 'd': 2357, 'c': 14},\n",
       "   {'w': 1634428800, 'a': 37, 'd': 62, 'c': 5},\n",
       "   {'w': 1635033600, 'a': 207, 'd': 161, 'c': 3},\n",
       "   {'w': 1635638400, 'a': 0, 'd': 0, 'c': 0},\n",
       "   {'w': 1636243200, 'a': 0, 'd': 0, 'c': 0},\n",
       "   {'w': 1636848000, 'a': 0, 'd': 0, 'c': 0},\n",
       "   {'w': 1637452800, 'a': 134, 'd': 139, 'c': 1},\n",
       "   {'w': 1638057600, 'a': 3731, 'd': 3358, 'c': 5},\n",
       "   {'w': 1638662400, 'a': 287, 'd': 296, 'c': 3},\n",
       "   {'w': 1639267200, 'a': 0, 'd': 0, 'c': 0},\n",
       "   {'w': 1639872000, 'a': 0, 'd': 0, 'c': 0},\n",
       "   {'w': 1640476800, 'a': 0, 'd': 0, 'c': 0},\n",
       "   {'w': 1641081600, 'a': 839, 'd': 973, 'c': 22},\n",
       "   {'w': 1641686400, 'a': 0, 'd': 0, 'c': 0},\n",
       "   {'w': 1642291200, 'a': 0, 'd': 0, 'c': 0},\n",
       "   {'w': 1642896000, 'a': 922, 'd': 391, 'c': 4},\n",
       "   {'w': 1643500800, 'a': 360, 'd': 259, 'c': 3},\n",
       "   {'w': 1644105600, 'a': 3111, 'd': 3186, 'c': 12},\n",
       "   {'w': 1644710400, 'a': 1816, 'd': 431, 'c': 5},\n",
       "   {'w': 1645315200, 'a': 1485, 'd': 354, 'c': 2},\n",
       "   {'w': 1645920000, 'a': 0, 'd': 0, 'c': 0},\n",
       "   {'w': 1646524800, 'a': 227785, 'd': 204152, 'c': 10},\n",
       "   {'w': 1647129600, 'a': 23017, 'd': 2144, 'c': 14},\n",
       "   {'w': 1647734400, 'a': 2431, 'd': 1477, 'c': 5},\n",
       "   {'w': 1648339200, 'a': 0, 'd': 0, 'c': 0},\n",
       "   {'w': 1648944000, 'a': 0, 'd': 0, 'c': 0},\n",
       "   {'w': 1649548800, 'a': 0, 'd': 0, 'c': 0},\n",
       "   {'w': 1650153600, 'a': 0, 'd': 0, 'c': 0},\n",
       "   {'w': 1650758400, 'a': 0, 'd': 0, 'c': 0},\n",
       "   {'w': 1651363200, 'a': 0, 'd': 0, 'c': 0},\n",
       "   {'w': 1651968000, 'a': 0, 'd': 0, 'c': 0},\n",
       "   {'w': 1652572800, 'a': 0, 'd': 0, 'c': 0},\n",
       "   {'w': 1653177600, 'a': 2604, 'd': 0, 'c': 1},\n",
       "   {'w': 1653782400, 'a': 0, 'd': 0, 'c': 0},\n",
       "   {'w': 1654387200, 'a': 0, 'd': 0, 'c': 0},\n",
       "   {'w': 1654992000, 'a': 0, 'd': 0, 'c': 0},\n",
       "   {'w': 1655596800, 'a': 715, 'd': 508, 'c': 2},\n",
       "   {'w': 1656201600, 'a': 1017, 'd': 1059, 'c': 3},\n",
       "   {'w': 1656806400, 'a': 1220, 'd': 1139, 'c': 3},\n",
       "   {'w': 1657411200, 'a': 0, 'd': 0, 'c': 0},\n",
       "   {'w': 1658016000, 'a': 0, 'd': 0, 'c': 0},\n",
       "   {'w': 1658620800, 'a': 15401, 'd': 6211, 'c': 11},\n",
       "   {'w': 1659225600, 'a': 13729, 'd': 7770, 'c': 10},\n",
       "   {'w': 1659830400, 'a': 4109, 'd': 3276, 'c': 14},\n",
       "   {'w': 1660435200, 'a': 13539, 'd': 8089, 'c': 10},\n",
       "   {'w': 1661040000, 'a': 164027, 'd': 143876, 'c': 17},\n",
       "   {'w': 1661644800, 'a': 159169, 'd': 266, 'c': 2},\n",
       "   {'w': 1662249600, 'a': 49163, 'd': 32089, 'c': 5},\n",
       "   {'w': 1662854400, 'a': 67894, 'd': 65551, 'c': 27},\n",
       "   {'w': 1663459200, 'a': 13432, 'd': 4092, 'c': 34},\n",
       "   {'w': 1664064000, 'a': 33216, 'd': 29621, 'c': 23},\n",
       "   {'w': 1664668800, 'a': 405573, 'd': 389656, 'c': 29},\n",
       "   {'w': 1665273600, 'a': 35192, 'd': 15185, 'c': 46},\n",
       "   {'w': 1665878400, 'a': 2933, 'd': 1082, 'c': 12},\n",
       "   {'w': 1666483200, 'a': 14284, 'd': 14608, 'c': 13},\n",
       "   {'w': 1667088000, 'a': 8105, 'd': 3299, 'c': 10},\n",
       "   {'w': 1667692800, 'a': 14575, 'd': 2658, 'c': 12},\n",
       "   {'w': 1668297600, 'a': 4048, 'd': 1256, 'c': 6},\n",
       "   {'w': 1668902400, 'a': 3521, 'd': 347, 'c': 9}],\n",
       "  'author': {'login': 'statmike',\n",
       "   'id': 17235991,\n",
       "   'node_id': 'MDQ6VXNlcjE3MjM1OTkx',\n",
       "   'avatar_url': 'https://avatars.githubusercontent.com/u/17235991?v=4',\n",
       "   'gravatar_id': '',\n",
       "   'url': 'https://api.github.com/users/statmike',\n",
       "   'html_url': 'https://github.com/statmike',\n",
       "   'followers_url': 'https://api.github.com/users/statmike/followers',\n",
       "   'following_url': 'https://api.github.com/users/statmike/following{/other_user}',\n",
       "   'gists_url': 'https://api.github.com/users/statmike/gists{/gist_id}',\n",
       "   'starred_url': 'https://api.github.com/users/statmike/starred{/owner}{/repo}',\n",
       "   'subscriptions_url': 'https://api.github.com/users/statmike/subscriptions',\n",
       "   'organizations_url': 'https://api.github.com/users/statmike/orgs',\n",
       "   'repos_url': 'https://api.github.com/users/statmike/repos',\n",
       "   'events_url': 'https://api.github.com/users/statmike/events{/privacy}',\n",
       "   'received_events_url': 'https://api.github.com/users/statmike/received_events',\n",
       "   'type': 'User',\n",
       "   'site_admin': False}}]"
      ]
     },
     "execution_count": 39,
     "metadata": {},
     "output_type": "execute_result"
    }
   ],
   "source": [
    "# list of dict for each author with 52 week data: total alltime, week list [week timestamp, additions, deletions, commits], author info\n",
    "response = requests.get(f'{github_api_url}/stats/contributors', headers = {'Authorization': f'Bearer {pat}', 'Accept': 'application/vnd.github+json'})\n",
    "\n",
    "while response.status_code == 202:\n",
    "    time.sleep(30)\n",
    "    response = requests.get(f'{github_api_url}/stats/contributors', headers = {'Authorization': f'Bearer {pat}', 'Accept': 'application/vnd.github+json'})\n",
    "    \n",
    "json.loads(response.text)"
   ]
  },
  {
   "cell_type": "markdown",
   "id": "e79a859d-f469-4867-8150-6c1f4f65b693",
   "metadata": {},
   "source": [
    "---\n",
    "### Review metrics: Statistics - Weekly Contributor Commit Activity \n",
    "- a very summarized view of the above the looks at just commit counts by two contributor groups: owner, all.  Non-owner commits can be calculated by subtraction."
   ]
  },
  {
   "cell_type": "code",
   "execution_count": 40,
   "id": "dd9eff6d-a863-4e4a-b757-ec5a93e9b1f8",
   "metadata": {},
   "outputs": [
    {
     "data": {
      "text/plain": [
       "{'all': [5,\n",
       "  3,\n",
       "  0,\n",
       "  0,\n",
       "  0,\n",
       "  21,\n",
       "  1,\n",
       "  0,\n",
       "  2,\n",
       "  6,\n",
       "  11,\n",
       "  6,\n",
       "  2,\n",
       "  0,\n",
       "  9,\n",
       "  14,\n",
       "  9,\n",
       "  0,\n",
       "  13,\n",
       "  4,\n",
       "  2,\n",
       "  0,\n",
       "  1,\n",
       "  0,\n",
       "  1,\n",
       "  12,\n",
       "  3,\n",
       "  0,\n",
       "  0,\n",
       "  2,\n",
       "  3,\n",
       "  3,\n",
       "  0,\n",
       "  0,\n",
       "  10,\n",
       "  9,\n",
       "  15,\n",
       "  10,\n",
       "  9,\n",
       "  12,\n",
       "  2,\n",
       "  22,\n",
       "  34,\n",
       "  30,\n",
       "  29,\n",
       "  45,\n",
       "  17,\n",
       "  11,\n",
       "  13,\n",
       "  13,\n",
       "  7,\n",
       "  6],\n",
       " 'owner': [5,\n",
       "  3,\n",
       "  0,\n",
       "  0,\n",
       "  0,\n",
       "  21,\n",
       "  1,\n",
       "  0,\n",
       "  2,\n",
       "  6,\n",
       "  11,\n",
       "  6,\n",
       "  2,\n",
       "  0,\n",
       "  9,\n",
       "  14,\n",
       "  8,\n",
       "  0,\n",
       "  0,\n",
       "  0,\n",
       "  0,\n",
       "  0,\n",
       "  0,\n",
       "  0,\n",
       "  0,\n",
       "  1,\n",
       "  1,\n",
       "  0,\n",
       "  0,\n",
       "  2,\n",
       "  3,\n",
       "  3,\n",
       "  0,\n",
       "  0,\n",
       "  10,\n",
       "  9,\n",
       "  15,\n",
       "  10,\n",
       "  9,\n",
       "  12,\n",
       "  2,\n",
       "  22,\n",
       "  34,\n",
       "  30,\n",
       "  29,\n",
       "  45,\n",
       "  15,\n",
       "  10,\n",
       "  13,\n",
       "  12,\n",
       "  6,\n",
       "  6]}"
      ]
     },
     "execution_count": 40,
     "metadata": {},
     "output_type": "execute_result"
    }
   ],
   "source": [
    "# total commit counts for all and owner as list for last 52 weeks (index=0 is oldest week, to most recent)\n",
    "response = requests.get(f'{github_api_url}/stats/participation', headers = {'Authorization': f'Bearer {pat}', 'Accept': 'application/vnd.github+json'})\n",
    "\n",
    "#while response.status_code == 202:\n",
    "#    time.sleep(30)\n",
    "#    response = requests.get(f'{github_api_url}/stats/participation', headers = {'Authorization': f'Bearer {pat}', 'Accept': 'application/vnd.github+json'})\n",
    "    \n",
    "json.loads(response.text)"
   ]
  },
  {
   "cell_type": "markdown",
   "id": "07f8e422-a70d-4073-8328-50d6f7d20d19",
   "metadata": {},
   "source": [
    "---\n",
    "### Review metrics: Traffic - Clones"
   ]
  },
  {
   "cell_type": "code",
   "execution_count": 41,
   "id": "c05fe328-91d0-486f-96cc-8669872fd945",
   "metadata": {},
   "outputs": [
    {
     "data": {
      "text/plain": [
       "{'count': 49,\n",
       " 'uniques': 39,\n",
       " 'clones': [{'timestamp': '2022-11-12T00:00:00Z', 'count': 2, 'uniques': 2},\n",
       "  {'timestamp': '2022-11-13T00:00:00Z', 'count': 2, 'uniques': 1},\n",
       "  {'timestamp': '2022-11-14T00:00:00Z', 'count': 15, 'uniques': 11},\n",
       "  {'timestamp': '2022-11-15T00:00:00Z', 'count': 3, 'uniques': 3},\n",
       "  {'timestamp': '2022-11-16T00:00:00Z', 'count': 2, 'uniques': 2},\n",
       "  {'timestamp': '2022-11-17T00:00:00Z', 'count': 2, 'uniques': 2},\n",
       "  {'timestamp': '2022-11-18T00:00:00Z', 'count': 3, 'uniques': 3},\n",
       "  {'timestamp': '2022-11-19T00:00:00Z', 'count': 3, 'uniques': 3},\n",
       "  {'timestamp': '2022-11-20T00:00:00Z', 'count': 2, 'uniques': 2},\n",
       "  {'timestamp': '2022-11-21T00:00:00Z', 'count': 7, 'uniques': 5},\n",
       "  {'timestamp': '2022-11-22T00:00:00Z', 'count': 2, 'uniques': 1},\n",
       "  {'timestamp': '2022-11-23T00:00:00Z', 'count': 1, 'uniques': 1},\n",
       "  {'timestamp': '2022-11-24T00:00:00Z', 'count': 1, 'uniques': 1},\n",
       "  {'timestamp': '2022-11-25T00:00:00Z', 'count': 4, 'uniques': 3}]}"
      ]
     },
     "execution_count": 41,
     "metadata": {},
     "output_type": "execute_result"
    }
   ],
   "source": [
    "# clone stats for last 14 days\n",
    "response = requests.get(f'{github_api_url}/traffic/clones', headers = {'Authorization': f'Bearer {pat}', 'Accept': 'application/vnd.github+json'})\n",
    "json.loads(response.text)"
   ]
  },
  {
   "cell_type": "markdown",
   "id": "e2a59bb1-0e51-4478-a104-6dd61b1b954a",
   "metadata": {},
   "source": [
    "---\n",
    "### Review metrics: Traffic - Top 10 Content"
   ]
  },
  {
   "cell_type": "code",
   "execution_count": 42,
   "id": "82e10c8b-1ec0-4861-95cd-fe4b1ed7b16a",
   "metadata": {},
   "outputs": [
    {
     "data": {
      "text/plain": [
       "[{'path': '/statmike/vertex-ai-mlops',\n",
       "  'title': 'statmike/vertex-ai-mlops: Google Cloud Platform Vertex AI end-to-end workflow...',\n",
       "  'count': 435,\n",
       "  'uniques': 185},\n",
       " {'path': '/statmike/vertex-ai-mlops/tree/main/02%20-%20Vertex%20AI%20AutoML',\n",
       "  'title': 'vertex-ai-mlops/02 - Vertex AI AutoML at main · statmike/vertex-ai-mlops · Gi...',\n",
       "  'count': 74,\n",
       "  'uniques': 38},\n",
       " {'path': '/statmike/vertex-ai-mlops/tree/main/00%20-%20Setup',\n",
       "  'title': 'vertex-ai-mlops/00 - Setup at main · statmike/vertex-ai-mlops · GitHub',\n",
       "  'count': 57,\n",
       "  'uniques': 33},\n",
       " {'path': '/statmike/vertex-ai-mlops/tree/main/05%20-%20TensorFlow',\n",
       "  'title': 'vertex-ai-mlops/05 - TensorFlow at main · statmike/vertex-ai-mlops · GitHub',\n",
       "  'count': 55,\n",
       "  'uniques': 32},\n",
       " {'path': '/statmike/vertex-ai-mlops/blob/main/00%20-%20Setup/00%20-%20Environment%20Setup.ipynb',\n",
       "  'title': 'vertex-ai-mlops/00 - Environment Setup.ipynb at main · statmike/vertex-ai-mlops',\n",
       "  'count': 46,\n",
       "  'uniques': 28},\n",
       " {'path': '/statmike/vertex-ai-mlops/tree/main/01%20-%20Data%20Sources',\n",
       "  'title': 'vertex-ai-mlops/01 - Data Sources at main · statmike/vertex-ai-mlops · GitHub',\n",
       "  'count': 44,\n",
       "  'uniques': 27},\n",
       " {'path': '/statmike/vertex-ai-mlops/blob/main/02%20-%20Vertex%20AI%20AutoML/02a%20-%20Vertex%20AI%20-%20AutoML%20in%20GCP%20Console%20(no%20code).ipynb',\n",
       "  'title': 'vertex-ai-mlops/02a - Vertex AI - AutoML in GCP Console (no code).ipynb at ma...',\n",
       "  'count': 43,\n",
       "  'uniques': 27},\n",
       " {'path': '/statmike/vertex-ai-mlops/tree/main/03%20-%20BigQuery%20ML%20(BQML)',\n",
       "  'title': 'vertex-ai-mlops/03 - BigQuery ML (BQML) at main · statmike/vertex-ai-mlops · ...',\n",
       "  'count': 42,\n",
       "  'uniques': 23},\n",
       " {'path': '/statmike/vertex-ai-mlops/blob/main/02%20-%20Vertex%20AI%20AutoML/02c%20-%20Vertex%20AI%20%3E%20Pipelines%20-%20AutoML%20with%20clients%20(code)%20In%20automated%20pipeline.ipynb',\n",
       "  'title': 'vertex-ai-mlops/02c - Vertex AI > Pipelines - AutoML with clients (code) In a...',\n",
       "  'count': 40,\n",
       "  'uniques': 13},\n",
       " {'path': '/statmike/vertex-ai-mlops/tree/main/04%20-%20scikit-learn',\n",
       "  'title': 'vertex-ai-mlops/04 - scikit-learn at main · statmike/vertex-ai-mlops · GitHub',\n",
       "  'count': 38,\n",
       "  'uniques': 23}]"
      ]
     },
     "execution_count": 42,
     "metadata": {},
     "output_type": "execute_result"
    }
   ],
   "source": [
    "# top 10 popular content for previous 14 days\n",
    "response = requests.get(f'{github_api_url}/traffic/popular/paths', headers = {'Authorization': f'Bearer {pat}', 'Accept': 'application/vnd.github+json'})\n",
    "json.loads(response.text)"
   ]
  },
  {
   "cell_type": "markdown",
   "id": "ab599d3e-3714-425f-b9f8-4f8cdac5e89f",
   "metadata": {},
   "source": [
    "---\n",
    "### Review metrics: Traffic - Top 10 Referral Sources"
   ]
  },
  {
   "cell_type": "code",
   "execution_count": 43,
   "id": "f0c4567a-c759-41ba-b903-bf5f4f045d53",
   "metadata": {},
   "outputs": [
    {
     "data": {
      "text/plain": [
       "[{'referrer': 'youtube.com', 'count': 325, 'uniques': 75},\n",
       " {'referrer': 'github.com', 'count': 221, 'uniques': 38},\n",
       " {'referrer': 'Google', 'count': 146, 'uniques': 54},\n",
       " {'referrer': 'notebooks.githubusercontent.com', 'count': 25, 'uniques': 13},\n",
       " {'referrer': 'art-analytics.appspot.com', 'count': 7, 'uniques': 2},\n",
       " {'referrer': 'statics.teams.cdn.office.net', 'count': 4, 'uniques': 2},\n",
       " {'referrer': 'm.facebook.com', 'count': 3, 'uniques': 1}]"
      ]
     },
     "execution_count": 43,
     "metadata": {},
     "output_type": "execute_result"
    }
   ],
   "source": [
    "# top 10 referral sources for last 14 days\n",
    "response = requests.get(f'{github_api_url}/traffic/popular/referrers', headers = {'Authorization': f'Bearer {pat}', 'Accept': 'application/vnd.github+json'})\n",
    "json.loads(response.text)"
   ]
  },
  {
   "cell_type": "markdown",
   "id": "64d4064d-233e-4794-bc87-6bfd21b72899",
   "metadata": {},
   "source": [
    "---\n",
    "### Review metrics: Traffic - Page Views"
   ]
  },
  {
   "cell_type": "code",
   "execution_count": 153,
   "id": "cb5bcdcc-3d2c-464a-b4d5-2bc6cdd3f77d",
   "metadata": {},
   "outputs": [
    {
     "data": {
      "text/plain": [
       "{'count': 1524,\n",
       " 'uniques': 253,\n",
       " 'views': [{'timestamp': '2022-11-13T00:00:00Z', 'count': 44, 'uniques': 12},\n",
       "  {'timestamp': '2022-11-14T00:00:00Z', 'count': 123, 'uniques': 35},\n",
       "  {'timestamp': '2022-11-15T00:00:00Z', 'count': 150, 'uniques': 33},\n",
       "  {'timestamp': '2022-11-16T00:00:00Z', 'count': 128, 'uniques': 32},\n",
       "  {'timestamp': '2022-11-17T00:00:00Z', 'count': 166, 'uniques': 41},\n",
       "  {'timestamp': '2022-11-18T00:00:00Z', 'count': 74, 'uniques': 31},\n",
       "  {'timestamp': '2022-11-19T00:00:00Z', 'count': 89, 'uniques': 13},\n",
       "  {'timestamp': '2022-11-20T00:00:00Z', 'count': 147, 'uniques': 20},\n",
       "  {'timestamp': '2022-11-21T00:00:00Z', 'count': 141, 'uniques': 29},\n",
       "  {'timestamp': '2022-11-22T00:00:00Z', 'count': 78, 'uniques': 20},\n",
       "  {'timestamp': '2022-11-23T00:00:00Z', 'count': 74, 'uniques': 21},\n",
       "  {'timestamp': '2022-11-24T00:00:00Z', 'count': 156, 'uniques': 34},\n",
       "  {'timestamp': '2022-11-25T00:00:00Z', 'count': 108, 'uniques': 19},\n",
       "  {'timestamp': '2022-11-26T00:00:00Z', 'count': 29, 'uniques': 10},\n",
       "  {'timestamp': '2022-11-27T00:00:00Z', 'count': 17, 'uniques': 2}]}"
      ]
     },
     "execution_count": 153,
     "metadata": {},
     "output_type": "execute_result"
    }
   ],
   "source": [
    "# number of views for last 14 days\n",
    "response = requests.get(f'{github_api_url}/traffic/views', headers = {'Authorization': f'Bearer {pat}', 'Accept': 'application/vnd.github+json'})\n",
    "json.loads(response.text)"
   ]
  },
  {
   "cell_type": "markdown",
   "id": "5155bdcb-f51d-42b9-917c-a2e07ffacb31",
   "metadata": {},
   "source": [
    "---\n",
    "### Review metrics: Activity - List Repository Events"
   ]
  },
  {
   "cell_type": "code",
   "execution_count": 366,
   "id": "200759ab-9283-43e8-9f08-923710d007e8",
   "metadata": {},
   "outputs": [],
   "source": [
    "# a list of dicts that represent event on the repository like commit, star, watch, fork, .. \n",
    "response = requests.get(f'{github_api_url}/events', headers = {'Authorization': f'Bearer {pat}', 'Accept': 'application/vnd.github+json'})\n",
    "#json.loads(response.text)"
   ]
  },
  {
   "cell_type": "markdown",
   "id": "8f37f0c2-927b-407e-8c9f-7c2f685775c3",
   "metadata": {},
   "source": [
    "---\n",
    "## IDEA\n",
    "\n",
    "- Raw Data To BigQuery\n",
    "    - collect metrics first time\n",
    "    - write to json file\n",
    "        - avoid nested array's which looks like list of list\n",
    "        - include timestamp `collect_time`\n",
    "    - store file in GCS\n",
    "    - Create a BigQuery Dataset\n",
    "    - Create/Replace a BigQuery Table from the file\n",
    "        - partition by `collect_time`\n",
    "    - collect metrics again, save to file, store in GCS\n",
    "    - append new metrics to BigQuery Table\n",
    "\n",
    "\n",
    "- Automate Data To BigQuery (Daily)\n",
    "    - Cloud Scheduler > PubSub > Cloud Function\n",
    "        - Get Secret for PAT\n",
    "        - Fetch from GitHub API\n",
    "        - Store in BigQuery\n",
    "        - Create Pub/Sub Topic\n",
    "        - Create Cloud Schedular for each night 4AM to trigger Pub/Sub Topic\n",
    "        - Write Cloud Function subscribed to Pub/Sub Topic that updates tables each night: insert, append\n",
    "        - Trigger DataForm ELT process"
   ]
  },
  {
   "cell_type": "markdown",
   "id": "8a4ef48d-2c18-4424-972d-118bde1b9e91",
   "metadata": {},
   "source": [
    "---\n",
    "## Raw Data To BigQuery"
   ]
  },
  {
   "cell_type": "markdown",
   "id": "0894a5cb-2891-40a7-95cc-05106a0c889f",
   "metadata": {},
   "source": [
    "---\n",
    "### Collect Metrics\n",
    "\n",
    "Create a json object that stores the returns from the api calls:"
   ]
  },
  {
   "cell_type": "code",
   "execution_count": 222,
   "id": "2efee8ab-b569-47c9-8045-56b01170b89d",
   "metadata": {},
   "outputs": [],
   "source": [
    "current_datetime = datetime.now()\n",
    "\n",
    "paths = ['community/profile', 'stats/code_frequency', 'stats/commit_activity', 'stats/contributors', 'stats/participation', 'traffic/clones', 'traffic/popular/paths', 'traffic/popular/referrers', 'traffic/views']\n",
    "\n",
    "responses = {\n",
    "    'collect_time': current_datetime.strftime(\"%Y-%m-%dT%H:%M:%SZ\"),\n",
    "    'github_user': github_user,\n",
    "    'github_repo': github_repo\n",
    "}"
   ]
  },
  {
   "cell_type": "code",
   "execution_count": 223,
   "id": "b1343e30-3811-4806-bda7-138e23f87e64",
   "metadata": {},
   "outputs": [],
   "source": [
    "for path in paths:\n",
    "    response = requests.get(f'{github_api_url}/{path}', headers = {'Authorization': f'Bearer {pat}', 'Accept': 'application/vnd.github+json'})\n",
    "\n",
    "    while response.status_code == 202:\n",
    "        time.sleep(30)\n",
    "        response = requests.get(f'{github_api_url}/{path}', headers = {'Authorization': f'Bearer {pat}', 'Accept': 'application/vnd.github+json'})\n",
    "\n",
    "    if path == 'stats/code_frequency':\n",
    "        responses[path.replace('/', '_')] = {'response': [{'week': v[0], 'additions': v[1], 'deletions': v[2]} for v in json.loads(response.text)]}\n",
    "    else:\n",
    "        responses[path.replace('/', '_')] = {'response': json.loads(response.text)}"
   ]
  },
  {
   "cell_type": "markdown",
   "id": "d784a7f9-9439-46c0-9497-a91c1c32f1ed",
   "metadata": {
    "tags": []
   },
   "source": [
    "---\n",
    "### Write to File"
   ]
  },
  {
   "cell_type": "code",
   "execution_count": 224,
   "id": "73467745-9fc7-4e98-a8ce-43654d2d00b1",
   "metadata": {},
   "outputs": [],
   "source": [
    "with open(f\"{DIR}/responses_{current_datetime.strftime('%Y%m%d%H%M%S')}.json\",'w') as file:\n",
    "    json.dump(responses, file)"
   ]
  },
  {
   "cell_type": "markdown",
   "id": "a95b00d2-3802-4028-9920-fb87812594ed",
   "metadata": {},
   "source": [
    "---\n",
    "### Store in GCS"
   ]
  },
  {
   "cell_type": "code",
   "execution_count": 225,
   "id": "ec66a834-a660-4a48-9bf8-f176d9b8ae5e",
   "metadata": {},
   "outputs": [],
   "source": [
    "bucket = gcs.bucket(PROJECT_ID)\n",
    "blob = bucket.blob(f\"architectures/tracking/responses_{current_datetime.strftime('%Y%m%d%H%M%S')}.json\")\n",
    "blob.upload_from_filename(f\"{DIR}/responses_{current_datetime.strftime('%Y%m%d%H%M%S')}.json\")"
   ]
  },
  {
   "cell_type": "code",
   "execution_count": 226,
   "id": "e9484eaa-fe4e-4a73-a904-3245819ed177",
   "metadata": {},
   "outputs": [
    {
     "data": {
      "text/plain": [
       "[<Blob: statmike-mlops-349915, architectures/tracking/responses_20221127032906.json, 1669519749193090>]"
      ]
     },
     "execution_count": 226,
     "metadata": {},
     "output_type": "execute_result"
    }
   ],
   "source": [
    "list(bucket.list_blobs(prefix = 'architectures/tracking'))"
   ]
  },
  {
   "cell_type": "code",
   "execution_count": 227,
   "id": "59d617a7-93e8-482c-8e88-71c87d4d6658",
   "metadata": {},
   "outputs": [
    {
     "data": {
      "text/plain": [
       "'statmike-mlops-349915'"
      ]
     },
     "execution_count": 227,
     "metadata": {},
     "output_type": "execute_result"
    }
   ],
   "source": [
    "bucket.name"
   ]
  },
  {
   "cell_type": "code",
   "execution_count": 228,
   "id": "ef01a29e-bb7a-4368-890a-8c40958dcb75",
   "metadata": {},
   "outputs": [
    {
     "data": {
      "text/plain": [
       "'architectures/tracking/responses_20221127032906.json'"
      ]
     },
     "execution_count": 228,
     "metadata": {},
     "output_type": "execute_result"
    }
   ],
   "source": [
    "blob.name"
   ]
  },
  {
   "cell_type": "markdown",
   "id": "a34c028c-3ff2-45d4-96fc-f04d015c7196",
   "metadata": {},
   "source": [
    "---\n",
    "### Create BigQuery Dataset"
   ]
  },
  {
   "cell_type": "code",
   "execution_count": 229,
   "id": "bfedf21e-0ce0-4309-a349-97eae972ad80",
   "metadata": {},
   "outputs": [],
   "source": [
    "ds = bigquery.Dataset(f\"{PROJECT_ID}.github_api\")\n",
    "ds.location = 'us' #REGION\n",
    "ds = bq.create_dataset(dataset = ds, exists_ok = True)"
   ]
  },
  {
   "cell_type": "code",
   "execution_count": 230,
   "id": "1d9e6413-0402-4bca-86d8-fdc30f8582b0",
   "metadata": {},
   "outputs": [
    {
     "data": {
      "text/plain": [
       "'github_api'"
      ]
     },
     "execution_count": 230,
     "metadata": {},
     "output_type": "execute_result"
    }
   ],
   "source": [
    "ds.dataset_id"
   ]
  },
  {
   "cell_type": "code",
   "execution_count": 231,
   "id": "c704ec7a-a0ac-4369-b92c-19877daecb2b",
   "metadata": {},
   "outputs": [
    {
     "data": {
      "text/plain": [
       "'statmike-mlops-349915:github_api'"
      ]
     },
     "execution_count": 231,
     "metadata": {},
     "output_type": "execute_result"
    }
   ],
   "source": [
    "ds.full_dataset_id"
   ]
  },
  {
   "cell_type": "code",
   "execution_count": 259,
   "id": "d31b0ba5-3ae1-405e-91d5-013fd6940862",
   "metadata": {},
   "outputs": [],
   "source": [
    "ds_fetch = bq.get_dataset(f\"{PROJECT_ID}.github_api\")"
   ]
  },
  {
   "cell_type": "code",
   "execution_count": 262,
   "id": "9855a884-1426-45ca-9768-72915f86e8a3",
   "metadata": {},
   "outputs": [
    {
     "data": {
      "text/plain": [
       "'statmike-mlops-349915:github_api'"
      ]
     },
     "execution_count": 262,
     "metadata": {},
     "output_type": "execute_result"
    }
   ],
   "source": [
    "ds_fetch.full_dataset_id"
   ]
  },
  {
   "cell_type": "markdown",
   "id": "699c13ab-7ac0-4b0b-b2c8-c02c14095780",
   "metadata": {},
   "source": [
    "---\n",
    "### Create/Replace BigQuery Table\n",
    "\n",
    "With time partition on collect_time"
   ]
  },
  {
   "cell_type": "code",
   "execution_count": 237,
   "id": "ce0a5e26-ba37-4d60-8b8f-0eb78d93b2b2",
   "metadata": {},
   "outputs": [
    {
     "data": {
      "text/plain": [
       "LoadJob<project=statmike-mlops-349915, location=US, id=22e62465-4065-45d5-b81d-af638eab1d68>"
      ]
     },
     "execution_count": 237,
     "metadata": {},
     "output_type": "execute_result"
    }
   ],
   "source": [
    "destination = bigquery.TableReference.from_string(f\"{PROJECT_ID}.{ds.dataset_id}.raw\")\n",
    "job_config = bigquery.LoadJobConfig(\n",
    "    write_disposition = 'WRITE_TRUNCATE', # WRITE_EMPTY, WRITE_APPEND\n",
    "    source_format = bigquery.SourceFormat.NEWLINE_DELIMITED_JSON,\n",
    "    autodetect = True,\n",
    "    time_partitioning = bigquery.table.TimePartitioning(field='collect_time')\n",
    ")\n",
    "job = bq.load_table_from_uri(f\"gs://{bucket.name}/{blob.name}\", destination, job_config = job_config)\n",
    "job.result()"
   ]
  },
  {
   "cell_type": "code",
   "execution_count": 238,
   "id": "76c849ff-731d-4a01-833b-58eaa22d4be5",
   "metadata": {},
   "outputs": [],
   "source": [
    "job.errors"
   ]
  },
  {
   "cell_type": "markdown",
   "id": "2ebfdfab-4c1e-4a32-baf5-f786a05c7159",
   "metadata": {},
   "source": [
    "---\n",
    "### Collect Metrics Again + Store in GCS (directly)"
   ]
  },
  {
   "cell_type": "code",
   "execution_count": 367,
   "id": "16b96b80-549b-4b1e-a234-1baaf4a8b507",
   "metadata": {},
   "outputs": [],
   "source": [
    "current_datetime = datetime.now()\n",
    "\n",
    "paths = ['community/profile', 'stats/code_frequency', 'stats/commit_activity', 'stats/contributors', 'stats/participation', 'traffic/clones', 'traffic/popular/paths', 'traffic/popular/referrers', 'traffic/views', 'events']\n",
    "\n",
    "responses = {\n",
    "    'collect_time': current_datetime.strftime(\"%Y-%m-%dT%H:%M:%SZ\"),\n",
    "    'github_user': github_user,\n",
    "    'github_repo': github_repo\n",
    "}"
   ]
  },
  {
   "cell_type": "code",
   "execution_count": 368,
   "id": "c5cfb69b-206d-4402-9897-490e07becb02",
   "metadata": {},
   "outputs": [],
   "source": [
    "for path in paths:\n",
    "    response = requests.get(f'{github_api_url}/{path}', headers = {'Authorization': f'Bearer {pat}', 'Accept': 'application/vnd.github+json'})\n",
    "\n",
    "    while response.status_code == 202:\n",
    "        time.sleep(30)\n",
    "        response = requests.get(f'{github_api_url}/{path}', headers = {'Authorization': f'Bearer {pat}', 'Accept': 'application/vnd.github+json'})\n",
    "\n",
    "    if path == 'stats/code_frequency':\n",
    "        responses[path.replace('/', '_')] = {'response': [{'week': v[0], 'additions': v[1], 'deletions': v[2]} for v in json.loads(response.text)]}\n",
    "    else:\n",
    "        responses[path.replace('/', '_')] = {'response': json.loads(response.text)}"
   ]
  },
  {
   "cell_type": "code",
   "execution_count": 369,
   "id": "ecc71e51-5227-447a-bd8c-bfe4917e674b",
   "metadata": {},
   "outputs": [],
   "source": [
    "bucket = gcs.bucket(PROJECT_ID)\n",
    "blob = bucket.blob(f\"architectures/tracking/responses_{current_datetime.strftime('%Y%m%d%H%M%S')}.json\")\n",
    "blob.upload_from_string(json.dumps(responses))"
   ]
  },
  {
   "cell_type": "markdown",
   "id": "21ed4a01-e1d4-410b-9290-88a2bd5f9bef",
   "metadata": {},
   "source": [
    "---\n",
    "### Append Metrics to BigQuery Table"
   ]
  },
  {
   "cell_type": "code",
   "execution_count": 371,
   "id": "e3b91083-bfcb-4fd3-9988-61cbc8cb30cc",
   "metadata": {},
   "outputs": [
    {
     "data": {
      "text/plain": [
       "LoadJob<project=statmike-mlops-349915, location=US, id=a09d992a-b9c8-4e1c-98ac-7afe38a210cd>"
      ]
     },
     "execution_count": 371,
     "metadata": {},
     "output_type": "execute_result"
    }
   ],
   "source": [
    "destination = bigquery.TableReference.from_string(f\"{PROJECT_ID}.{ds.dataset_id}.raw\")\n",
    "job_config = bigquery.LoadJobConfig(\n",
    "    write_disposition = 'WRITE_APPEND', # WRITE_EMPTY, WRITE_APPEND\n",
    "    source_format = bigquery.SourceFormat.NEWLINE_DELIMITED_JSON,\n",
    "    autodetect = True,\n",
    "    schema_update_options = [bigquery.SchemaUpdateOption.ALLOW_FIELD_ADDITION]\n",
    ")\n",
    "job = bq.load_table_from_uri(f\"gs://{bucket.name}/{blob.name}\", destination, job_config = job_config)\n",
    "job.result()"
   ]
  },
  {
   "cell_type": "markdown",
   "id": "02569811-aa53-49f2-b79c-268c9439c1d4",
   "metadata": {},
   "source": [
    "---\n",
    "## Automate Data Collection: Daily"
   ]
  },
  {
   "cell_type": "markdown",
   "id": "7de392b2-2e08-4c87-8311-33b75d007619",
   "metadata": {},
   "source": [
    "### Package Installs (if needed)\n",
    "\n",
    "This notebook uses the Python Clients for\n",
    "- Google Service Usage\n",
    "    - to enable APIs\n",
    "- Cloud Pub/Sub\n",
    "- Cloud Functions\n",
    "- Cloud Scheduler\n",
    "\n",
    "The cells below check to see if the required Python libraries are installed.  If any are not it will print a message to do the install with the associated pip command to use.  These installs must be completed before continuing this notebook."
   ]
  },
  {
   "cell_type": "code",
   "execution_count": 244,
   "id": "2d33d0e3-5087-4390-bac3-37cb86322725",
   "metadata": {},
   "outputs": [],
   "source": [
    "try:\n",
    "    import google.cloud.service_usage_v1\n",
    "except ImportError:\n",
    "    print('You need to pip install google-cloud-service-usage')\n",
    "    !pip install google-cloud-service-usage -q"
   ]
  },
  {
   "cell_type": "code",
   "execution_count": 245,
   "id": "b0912cc9-83c1-47be-ba26-dc5a4bfc9662",
   "metadata": {},
   "outputs": [],
   "source": [
    "try:\n",
    "    import google.cloud.pubsub\n",
    "except ImportError:\n",
    "    print('You need to pip install google-cloud-pubsub')\n",
    "    !pip install google-cloud-pubsub -q"
   ]
  },
  {
   "cell_type": "code",
   "execution_count": 246,
   "id": "4b7f54ff-a276-4e42-b5e4-4a9438b325fe",
   "metadata": {},
   "outputs": [],
   "source": [
    "try:\n",
    "    import google.cloud.functions\n",
    "except ImportError:\n",
    "    print('You need to pip install google-cloud-functions')\n",
    "    !pip install google-cloud-functions -q"
   ]
  },
  {
   "cell_type": "code",
   "execution_count": 247,
   "id": "b6161f09-7dc4-4d58-88ba-1122e141c23c",
   "metadata": {},
   "outputs": [],
   "source": [
    "try:\n",
    "    import google.cloud.scheduler\n",
    "except ImportError:\n",
    "    print('You need to pip install google-cloud-scheduler')\n",
    "    !pip install google-cloud-scheduler -q"
   ]
  },
  {
   "cell_type": "code",
   "execution_count": 251,
   "id": "c3bd94af-2b8b-4756-862b-e1a65823f845",
   "metadata": {},
   "outputs": [],
   "source": [
    "from google.cloud import service_usage_v1\n",
    "from google.cloud import pubsub_v1\n",
    "from google.cloud import functions_v1\n",
    "from google.cloud import scheduler_v1"
   ]
  },
  {
   "cell_type": "code",
   "execution_count": 252,
   "id": "4e28f4f8-f6fe-4f6d-b2df-725f01652a2a",
   "metadata": {},
   "outputs": [],
   "source": [
    "su_client = service_usage_v1.ServiceUsageClient()\n",
    "pubsub_pubclient = pubsub_v1.PublisherClient() \n",
    "functions_client = functions_v1.CloudFunctionsServiceClient()\n",
    "scheduler_client = scheduler_v1.CloudSchedulerClient()"
   ]
  },
  {
   "cell_type": "markdown",
   "id": "f863bace-8e4a-4b19-9fce-db2bc64ab891",
   "metadata": {
    "tags": []
   },
   "source": [
    "---\n",
    "### Pub/Sub\n",
    "\n",
    "Use a Pub/Sub topic to trigger a Cloud Function to run.  The topic will be able to receive message manually or on a schedule from Cloud Scheduler.\n",
    "\n",
    "The main concepts:\n",
    "- Topic - a feed of messages\n",
    "     - Publish - send a new message to a topic\n",
    "     - Subscription - receive messages that arrive on topic\n",
    "          - Push - the subscriber has new messages pushed to it\n",
    "          - Pull - the subscriber request new messages by pulling them\n",
    "          \n",
    "In this example, a topic will be set up for daily runs of metric functions.  Publishing a new message to this topic will trigger one or more Cloud Functions to run like the one setup below.  The Cloud Funtion will have a push subscription to the topic."
   ]
  },
  {
   "cell_type": "code",
   "execution_count": 253,
   "id": "2b7019e9-7ece-43a1-ae11-cc4a2c0e5357",
   "metadata": {},
   "outputs": [],
   "source": [
    "PUBSUB_TOPIC = 'github_api'"
   ]
  },
  {
   "cell_type": "code",
   "execution_count": 254,
   "id": "9f1ac938-7499-4d21-bfb2-e7962b8c622b",
   "metadata": {},
   "outputs": [],
   "source": [
    "for topic in pubsub_pubclient.list_topics(project = f'projects/{PROJECT_ID}'):\n",
    "    if topic.name.endswith(PUBSUB_TOPIC):\n",
    "        break\n",
    "    else: topic = ''"
   ]
  },
  {
   "cell_type": "code",
   "execution_count": 255,
   "id": "be07425e-5ecd-42ed-b485-bac00fc87923",
   "metadata": {},
   "outputs": [
    {
     "name": "stdout",
     "output_type": "stream",
     "text": [
      "name: \"projects/statmike-mlops-349915/topics/github_api\"\n",
      "\n"
     ]
    }
   ],
   "source": [
    "topic = ''\n",
    "if topic:\n",
    "    print(topic)\n",
    "else:\n",
    "    topic = pubsub_pubclient.create_topic(\n",
    "        name = pubsub_pubclient.topic_path(PROJECT_ID, PUBSUB_TOPIC)\n",
    "    )\n",
    "    print(topic)"
   ]
  },
  {
   "cell_type": "markdown",
   "id": "0265a8d8-a727-497c-89d5-38db8904682d",
   "metadata": {},
   "source": [
    "---\n",
    "### Cloud Functions"
   ]
  },
  {
   "cell_type": "markdown",
   "id": "88445616-e3fa-4e19-a868-37cdf8b7be7c",
   "metadata": {},
   "source": [
    "#### Create Files for Function"
   ]
  },
  {
   "cell_type": "code",
   "execution_count": 257,
   "id": "689897b9-1403-4881-8a31-d2beb7a6cc8c",
   "metadata": {},
   "outputs": [],
   "source": [
    "if os.path.exists(f'{DIR}/function'): shutil.rmtree(f'{DIR}/function')\n",
    "os.makedirs(f'{DIR}/function')"
   ]
  },
  {
   "cell_type": "code",
   "execution_count": 258,
   "id": "00c94a4e-aaa5-4397-99b3-f1359e6dc8d2",
   "metadata": {},
   "outputs": [
    {
     "name": "stdout",
     "output_type": "stream",
     "text": [
      "Writing temp/function/requirements.txt\n"
     ]
    }
   ],
   "source": [
    "%%writefile {DIR}/function/requirements.txt\n",
    "pandas\n",
    "google-cloud-bigquery\n",
    "google-cloud-storage"
   ]
  },
  {
   "cell_type": "code",
   "execution_count": 372,
   "id": "8ca33573-9468-4157-beeb-dbb264e3c17f",
   "metadata": {},
   "outputs": [
    {
     "name": "stdout",
     "output_type": "stream",
     "text": [
      "Overwriting temp/function/main.py\n"
     ]
    }
   ],
   "source": [
    "%%writefile {DIR}/function/main.py\n",
    "\n",
    "# packages\n",
    "import base64\n",
    "import requests\n",
    "import json\n",
    "import time\n",
    "from datetime import datetime\n",
    "import pandas as pd\n",
    "from io import StringIO\n",
    "import os\n",
    "from google.cloud import bigquery\n",
    "from google.cloud import storage\n",
    "\n",
    "\n",
    "\n",
    "# clients\n",
    "bq = bigquery.Client()\n",
    "gcs = storage.Client()\n",
    "\n",
    "\n",
    "\n",
    "# parameters and defined objects\n",
    "github_user = 'statmike'\n",
    "github_repo = 'vertex-ai-mlops'\n",
    "github_api_url = f'https://api.github.com/repos/{github_user}/{github_repo}'\n",
    "pat = os.getenv('GITHUB_PAT')\n",
    "current_datetime = datetime.now()\n",
    "paths = ['community/profile', 'stats/code_frequency', 'stats/commit_activity', 'stats/contributors', 'stats/participation', 'traffic/clones', 'traffic/popular/paths', 'traffic/popular/referrers', 'traffic/views', '/events']\n",
    "responses = {\n",
    "    'collect_time': current_datetime.strftime(\"%Y-%m-%dT%H:%M:%SZ\"),\n",
    "    'github_user': github_user,\n",
    "    'github_repo': github_repo\n",
    "}\n",
    "\n",
    "\n",
    "\n",
    "def collect(event, context):\n",
    "    # print inputs to Cloud Function\n",
    "    function_inputs = json.loads(base64.b64decode(event['data']).decode('utf-8'))\n",
    "    print(function_inputs)\n",
    "    PROJECT_ID = function_inputs['PROJECT_ID']\n",
    "    \n",
    "    # collect responses from GitHub API:\n",
    "    for path in paths:\n",
    "        response = requests.get(f'{github_api_url}/{path}', headers = {'Authorization': f'Bearer {pat}', 'Accept': 'application/vnd.github+json'})\n",
    "\n",
    "        while response.status_code == 202:\n",
    "            time.sleep(30)\n",
    "            response = requests.get(f'{github_api_url}/{path}', headers = {'Authorization': f'Bearer {pat}', 'Accept': 'application/vnd.github+json'})\n",
    "\n",
    "        if path == 'stats/code_frequency':\n",
    "            responses[path.replace('/', '_')] = {'response': [{'week': v[0], 'additions': v[1], 'deletions': v[2]} for v in json.loads(response.text)]}\n",
    "        else:\n",
    "            responses[path.replace('/', '_')] = {'response': json.loads(response.text)}\n",
    "\n",
    "    # save to GCS Bucket\n",
    "    bucket = gcs.bucket(PROJECT_ID)\n",
    "    blob = bucket.blob(f\"architectures/tracking/data/responses_{current_datetime.strftime('%Y%m%d%H%M%S')}.json\")\n",
    "    blob.upload_from_string(json.dumps(responses))\n",
    "    \n",
    "    # append to BigQuery Table\n",
    "    ds = bq.get_dataset(f\"{PROJECT_ID}.github_api\")\n",
    "    destination = bigquery.TableReference.from_string(f\"{PROJECT_ID}.{ds.dataset_id}.raw\")\n",
    "    job_config = bigquery.LoadJobConfig(\n",
    "        write_disposition = 'WRITE_APPEND', # WRITE_EMPTY, WRITE_APPEND\n",
    "        source_format = bigquery.SourceFormat.NEWLINE_DELIMITED_JSON,\n",
    "        autodetect = True,\n",
    "        schema_update_options = [bigquery.SchemaUpdateOption.ALLOW_FIELD_ADDITION]\n",
    "    )\n",
    "    job = bq.load_table_from_uri(f\"gs://{bucket.name}/{blob.name}\", destination, job_config = job_config)\n",
    "    job.result()"
   ]
  },
  {
   "cell_type": "markdown",
   "id": "d0690163-1698-4274-9de1-fe6b3354a6a0",
   "metadata": {},
   "source": [
    "#### Store Files in Cloud Storage\n",
    "\n",
    "Copy from local folder (`DIR/function`) to GCS at the path `architectures/tracking/function`:"
   ]
  },
  {
   "cell_type": "code",
   "execution_count": 373,
   "id": "25a93ddf-adb9-4f9f-b6c0-4cc7faa9f822",
   "metadata": {},
   "outputs": [
    {
     "name": "stdout",
     "output_type": "stream",
     "text": [
      "function.zip  main.py  requirements.txt\n"
     ]
    }
   ],
   "source": [
    "!ls {DIR}/function"
   ]
  },
  {
   "cell_type": "code",
   "execution_count": 374,
   "id": "4ef013f2-eb74-4648-b77e-064ac28b2cd2",
   "metadata": {},
   "outputs": [],
   "source": [
    "import zipfile\n",
    "with zipfile.ZipFile(f'{DIR}/function/function.zip', mode = 'w') as archive:\n",
    "    archive.write(f'{DIR}/function/main.py', 'main.py')\n",
    "    archive.write(f'{DIR}/function/requirements.txt', 'requirements.txt')"
   ]
  },
  {
   "cell_type": "code",
   "execution_count": 375,
   "id": "b5730588-87a2-469f-b94d-79840250b0e0",
   "metadata": {},
   "outputs": [
    {
     "name": "stdout",
     "output_type": "stream",
     "text": [
      "function.zip  main.py  requirements.txt\n"
     ]
    }
   ],
   "source": [
    "!ls {DIR}/function"
   ]
  },
  {
   "cell_type": "code",
   "execution_count": 376,
   "id": "5e325410-b2d3-4057-9776-d3967a940ed0",
   "metadata": {},
   "outputs": [
    {
     "name": "stdout",
     "output_type": "stream",
     "text": [
      "File Name                                             Modified             Size\n",
      "main.py                                        2022-11-28 01:52:38         2671\n",
      "requirements.txt                               2022-11-27 15:31:40           78\n"
     ]
    }
   ],
   "source": [
    "with zipfile.ZipFile(f'{DIR}/function/function.zip', mode = 'r') as zip:\n",
    "    zip.printdir()"
   ]
  },
  {
   "cell_type": "code",
   "execution_count": 377,
   "id": "f6521b22-1ad1-4b40-9310-bc5530a31f04",
   "metadata": {},
   "outputs": [],
   "source": [
    "SOURCEPATH = f'architectures/tracking/function'"
   ]
  },
  {
   "cell_type": "code",
   "execution_count": 378,
   "id": "fedac056-7f51-45a1-99f3-f4505e8c1e72",
   "metadata": {},
   "outputs": [],
   "source": [
    "blob = bucket.blob(f'{SOURCEPATH}/function.zip')\n",
    "blob.upload_from_filename(f'{DIR}/function/function.zip')"
   ]
  },
  {
   "cell_type": "code",
   "execution_count": 379,
   "id": "bb660c52-dabd-40ce-9b48-a428c62fb4bc",
   "metadata": {},
   "outputs": [
    {
     "data": {
      "text/plain": [
       "[<Blob: statmike-mlops-349915, architectures/tracking/function/function.zip, 1669600363956588>]"
      ]
     },
     "execution_count": 379,
     "metadata": {},
     "output_type": "execute_result"
    }
   ],
   "source": [
    "list(bucket.list_blobs(prefix = f'{SOURCEPATH}'))"
   ]
  },
  {
   "cell_type": "code",
   "execution_count": 380,
   "id": "7c682d2e-5c6d-45da-9e5e-1e7de0bab73d",
   "metadata": {},
   "outputs": [
    {
     "name": "stdout",
     "output_type": "stream",
     "text": [
      "View the bucket directly here:\n",
      "https://console.cloud.google.com/storage/browser/statmike-mlops-349915/architectures/tracking/function;tab=objects&project=statmike-mlops-349915\n"
     ]
    }
   ],
   "source": [
    "print(f\"View the bucket directly here:\\nhttps://console.cloud.google.com/storage/browser/{PROJECT_ID}/{SOURCEPATH};tab=objects&project={PROJECT_ID}\")"
   ]
  },
  {
   "cell_type": "markdown",
   "id": "35ab7834-90fc-4ef5-a762-ecb638ba0ede",
   "metadata": {},
   "source": [
    "#### Create (or Update) Cloud Function"
   ]
  },
  {
   "cell_type": "code",
   "execution_count": 381,
   "id": "b5e1c418-32d6-4415-bc26-0b58125faf7b",
   "metadata": {},
   "outputs": [
    {
     "data": {
      "text/plain": [
       "'1026793852137-compute@developer.gserviceaccount.com'"
      ]
     },
     "execution_count": 381,
     "metadata": {},
     "output_type": "execute_result"
    }
   ],
   "source": [
    "SERVICE_ACCOUNT = !gcloud config list --format='value(core.account)' \n",
    "SERVICE_ACCOUNT = SERVICE_ACCOUNT[0]\n",
    "SERVICE_ACCOUNT"
   ]
  },
  {
   "cell_type": "code",
   "execution_count": 382,
   "id": "5bfb0f31-688a-4534-a6f6-8346f28eb819",
   "metadata": {},
   "outputs": [],
   "source": [
    "function_name = 'github_api'"
   ]
  },
  {
   "cell_type": "code",
   "execution_count": 383,
   "id": "dac894dd-f38d-43df-a726-c3760cf36707",
   "metadata": {},
   "outputs": [],
   "source": [
    "function = ''\n",
    "for function in functions_client.list_functions(request = functions_v1.ListFunctionsRequest(parent = f'projects/{PROJECT_ID}/locations/{REGION}')):\n",
    "    if function.name.endswith(function_name):\n",
    "        break\n",
    "    else: function = ''"
   ]
  },
  {
   "cell_type": "code",
   "execution_count": 384,
   "id": "cf749bb4-8094-4240-a5c6-75b8bdf43972",
   "metadata": {},
   "outputs": [
    {
     "data": {
      "text/plain": [
       "name: \"projects/statmike-mlops-349915/locations/us-central1/functions/github_api\"\n",
       "source_archive_url: \"gs://statmike-mlops-349915/architectures/tracking/function/function.zip\"\n",
       "event_trigger {\n",
       "  event_type: \"providers/cloud.pubsub/eventTypes/topic.publish\"\n",
       "  resource: \"projects/statmike-mlops-349915/topics/github_api\"\n",
       "  service: \"pubsub.googleapis.com\"\n",
       "  failure_policy {\n",
       "  }\n",
       "}\n",
       "status: ACTIVE\n",
       "entry_point: \"collect\"\n",
       "timeout {\n",
       "  seconds: 360\n",
       "}\n",
       "available_memory_mb: 256\n",
       "service_account_email: \"1026793852137-compute@developer.gserviceaccount.com\"\n",
       "update_time {\n",
       "  seconds: 1669572349\n",
       "  nanos: 679000000\n",
       "}\n",
       "version_id: 3\n",
       "runtime: \"python310\"\n",
       "ingress_settings: ALLOW_ALL\n",
       "build_id: \"9e4f7407-8109-4796-a0ed-caa75d499793\"\n",
       "secret_environment_variables {\n",
       "  key: \"GITHUB_PAT\"\n",
       "  project_id: \"1026793852137\"\n",
       "  secret: \"github_api\"\n",
       "  version: \"latest\"\n",
       "}\n",
       "build_name: \"projects/1026793852137/locations/us-central1/builds/9e4f7407-8109-4796-a0ed-caa75d499793\"\n",
       "docker_registry: CONTAINER_REGISTRY"
      ]
     },
     "execution_count": 384,
     "metadata": {},
     "output_type": "execute_result"
    }
   ],
   "source": [
    "function"
   ]
  },
  {
   "cell_type": "code",
   "execution_count": 385,
   "id": "d7112e32-3988-4610-a3ac-c75642c98ebb",
   "metadata": {},
   "outputs": [],
   "source": [
    "from google.protobuf.duration_pb2 import Duration\n",
    "\n",
    "functionDef = functions_v1.CloudFunction()\n",
    "functionDef.name = f'projects/{PROJECT_ID}/locations/{REGION}/functions/{function_name}'\n",
    "functionDef.source_archive_url = f\"gs://{PROJECT_ID}/{SOURCEPATH}/function.zip\"\n",
    "functionDef.event_trigger = functions_v1.EventTrigger()\n",
    "functionDef.event_trigger.event_type = 'providers/cloud.pubsub/eventTypes/topic.publish'\n",
    "functionDef.event_trigger.resource = topic.name\n",
    "functionDef.runtime = 'python310'\n",
    "functionDef.entry_point = 'collect'\n",
    "functionDef.timeout = Duration(seconds = 360)\n",
    "functionDef.service_account_email = SERVICE_ACCOUNT\n",
    "\n",
    "functionDef.secret_environment_variables = [functions_v1.SecretEnvVar(\n",
    "    key = 'GITHUB_PAT',\n",
    "    secret = 'github_api'\n",
    ")]"
   ]
  },
  {
   "cell_type": "code",
   "execution_count": 386,
   "id": "1f838c1a-72fb-462e-8178-90ea694c0aed",
   "metadata": {},
   "outputs": [
    {
     "data": {
      "text/plain": [
       "name: \"projects/statmike-mlops-349915/locations/us-central1/functions/github_api\"\n",
       "source_archive_url: \"gs://statmike-mlops-349915/architectures/tracking/function/function.zip\"\n",
       "event_trigger {\n",
       "  event_type: \"providers/cloud.pubsub/eventTypes/topic.publish\"\n",
       "  resource: \"projects/statmike-mlops-349915/topics/github_api\"\n",
       "}\n",
       "entry_point: \"collect\"\n",
       "timeout {\n",
       "  seconds: 360\n",
       "}\n",
       "service_account_email: \"1026793852137-compute@developer.gserviceaccount.com\"\n",
       "runtime: \"python310\"\n",
       "secret_environment_variables {\n",
       "  key: \"GITHUB_PAT\"\n",
       "  secret: \"github_api\"\n",
       "}"
      ]
     },
     "execution_count": 386,
     "metadata": {},
     "output_type": "execute_result"
    }
   ],
   "source": [
    "functionDef"
   ]
  },
  {
   "cell_type": "code",
   "execution_count": 387,
   "id": "8bc78600-9d8b-472d-80fe-f50408e8950f",
   "metadata": {},
   "outputs": [
    {
     "data": {
      "text/plain": [
       "name: \"projects/statmike-mlops-349915/locations/us-central1/functions/github_api\"\n",
       "source_archive_url: \"gs://statmike-mlops-349915/architectures/tracking/function/function.zip\"\n",
       "event_trigger {\n",
       "  event_type: \"providers/cloud.pubsub/eventTypes/topic.publish\"\n",
       "  resource: \"projects/statmike-mlops-349915/topics/github_api\"\n",
       "  service: \"pubsub.googleapis.com\"\n",
       "  failure_policy {\n",
       "  }\n",
       "}\n",
       "status: ACTIVE\n",
       "entry_point: \"collect\"\n",
       "timeout {\n",
       "  seconds: 360\n",
       "}\n",
       "available_memory_mb: 256\n",
       "service_account_email: \"1026793852137-compute@developer.gserviceaccount.com\"\n",
       "update_time {\n",
       "  seconds: 1669572349\n",
       "  nanos: 679000000\n",
       "}\n",
       "version_id: 3\n",
       "runtime: \"python310\"\n",
       "ingress_settings: ALLOW_ALL\n",
       "build_id: \"9e4f7407-8109-4796-a0ed-caa75d499793\"\n",
       "secret_environment_variables {\n",
       "  key: \"GITHUB_PAT\"\n",
       "  project_id: \"1026793852137\"\n",
       "  secret: \"github_api\"\n",
       "  version: \"latest\"\n",
       "}\n",
       "build_name: \"projects/1026793852137/locations/us-central1/builds/9e4f7407-8109-4796-a0ed-caa75d499793\"\n",
       "docker_registry: CONTAINER_REGISTRY"
      ]
     },
     "execution_count": 387,
     "metadata": {},
     "output_type": "execute_result"
    }
   ],
   "source": [
    "function"
   ]
  },
  {
   "cell_type": "code",
   "execution_count": 388,
   "id": "0d7d9c07-7b47-463c-b613-949ed8a6bcee",
   "metadata": {},
   "outputs": [],
   "source": [
    "if function:\n",
    "    request = functions_v1.UpdateFunctionRequest(\n",
    "        function = functionDef\n",
    "    )\n",
    "    operation = functions_client.update_function(request = request)\n",
    "else:\n",
    "    request = functions_v1.CreateFunctionRequest(\n",
    "        location = f\"projects/{PROJECT_ID}/locations/{REGION}\",\n",
    "        function = functionDef\n",
    "    )\n",
    "    operation = functions_client.create_function(request = request)"
   ]
  },
  {
   "cell_type": "code",
   "execution_count": 389,
   "id": "bb04b527-d252-456e-81c8-c1ff07188011",
   "metadata": {},
   "outputs": [
    {
     "name": "stdout",
     "output_type": "stream",
     "text": [
      "name: \"projects/statmike-mlops-349915/locations/us-central1/functions/github_api\"\n",
      "source_archive_url: \"gs://statmike-mlops-349915/architectures/tracking/function/function.zip\"\n",
      "event_trigger {\n",
      "  event_type: \"providers/cloud.pubsub/eventTypes/topic.publish\"\n",
      "  resource: \"projects/statmike-mlops-349915/topics/github_api\"\n",
      "  service: \"pubsub.googleapis.com\"\n",
      "  failure_policy {\n",
      "  }\n",
      "}\n",
      "status: ACTIVE\n",
      "entry_point: \"collect\"\n",
      "timeout {\n",
      "  seconds: 360\n",
      "}\n",
      "available_memory_mb: 256\n",
      "service_account_email: \"1026793852137-compute@developer.gserviceaccount.com\"\n",
      "update_time {\n",
      "  seconds: 1669600531\n",
      "  nanos: 4000000\n",
      "}\n",
      "version_id: 4\n",
      "runtime: \"python310\"\n",
      "ingress_settings: ALLOW_ALL\n",
      "build_id: \"f724ceba-a914-498c-b473-43f671448e73\"\n",
      "secret_environment_variables {\n",
      "  key: \"GITHUB_PAT\"\n",
      "  project_id: \"1026793852137\"\n",
      "  secret: \"github_api\"\n",
      "  version: \"latest\"\n",
      "}\n",
      "build_name: \"projects/1026793852137/locations/us-central1/builds/f724ceba-a914-498c-b473-43f671448e73\"\n",
      "docker_registry: CONTAINER_REGISTRY\n",
      "\n"
     ]
    }
   ],
   "source": [
    "response = operation.result()\n",
    "print(response)"
   ]
  },
  {
   "cell_type": "code",
   "execution_count": 390,
   "id": "5d43d6a9-054c-436b-afd4-ef9cb98175c1",
   "metadata": {},
   "outputs": [
    {
     "name": "stdout",
     "output_type": "stream",
     "text": [
      "Review the Cloud Function in the console here:\n",
      "https://console.cloud.google.com/functions/list?env=gen1&project=statmike-mlops-349915\n"
     ]
    }
   ],
   "source": [
    "print(f'Review the Cloud Function in the console here:\\nhttps://console.cloud.google.com/functions/list?env=gen1&project={PROJECT_ID}')"
   ]
  },
  {
   "cell_type": "markdown",
   "id": "38df7d88-e22c-4a18-b505-769a4f1b327a",
   "metadata": {},
   "source": [
    "---\n",
    "### Manual Run of Cloud Function\n",
    "\n",
    "Publish a message to the Pub/Sub topic that will cause the Cloud Function to initiate training.  The code below could be anywhere you want to trigger training!\n",
    "\n",
    "The function will receive the message as `event` in the format:\n",
    "```\n",
    "{\n",
    "    '@type': 'type.googleapis.com/google.pubsub.v1.PubsubMessage',\n",
    "    'attributes': {'key' : 'value', ...},\n",
    "    'data': <base64 encoded string>\n",
    "}\n",
    "```\n",
    "\n",
    "To handle the `event` and retrieve the inputs of the message three things need to happen:\n",
    "1. reference the 'data' value as `event['data']`\n",
    "2. decode the 'data' value with `base64.b64decode(<1>).decode('utf-8')`\n",
    "3. convert the decoded string into a Python dictionary with `json.loads(<2>)`\n",
    "\n",
    "This looks like:\n",
    "```\n",
    "funtion_inputs = json.loads(base64.b64decode(event['data']).decode('utf-8'))\n",
    "```"
   ]
  },
  {
   "cell_type": "code",
   "execution_count": 361,
   "id": "6ebaef20-6e01-4eaa-83f7-cb2717121684",
   "metadata": {},
   "outputs": [],
   "source": [
    "function_input = {\n",
    "    'PROJECT_ID': PROJECT_ID\n",
    "}"
   ]
  },
  {
   "cell_type": "code",
   "execution_count": 362,
   "id": "c09e6854-2d33-48a9-9a0b-3ccb3af4ef86",
   "metadata": {},
   "outputs": [],
   "source": [
    "message = json.dumps(function_input)\n",
    "message = message.encode('utf-8')"
   ]
  },
  {
   "cell_type": "code",
   "execution_count": 363,
   "id": "448b5eba-2581-4a39-8057-ab2741f4151a",
   "metadata": {},
   "outputs": [],
   "source": [
    "future = pubsub_pubclient.publish(topic.name, message, trigger = 'manual')"
   ]
  },
  {
   "cell_type": "code",
   "execution_count": 364,
   "id": "007bb1a8-d77d-492d-973f-5f2d2cbba0ae",
   "metadata": {},
   "outputs": [
    {
     "data": {
      "text/plain": [
       "'6335322892776834'"
      ]
     },
     "execution_count": 364,
     "metadata": {},
     "output_type": "execute_result"
    }
   ],
   "source": [
    "future.result()"
   ]
  },
  {
   "cell_type": "markdown",
   "id": "918f728d-a537-45db-a3a0-3f5810a61aee",
   "metadata": {},
   "source": [
    "---\n",
    "### Scheduled Run with Cloud Scheduler\n",
    "\n",
    "Use Cloud Scheduler to publish a message to the topic at any defined interval which will cause the Cloud Function to initiate training.\n",
    "\n",
    "Resources:\n",
    "- List of Time zones - [TZ Database Names](https://en.wikipedia.org/wiki/List_of_tz_database_time_zones)\n",
    "- Job Frequency - [unix-cron format guide](https://man7.org/linux/man-pages/man5/crontab.5.html)\n",
    "    - minute hour day_of_month month day_of_week\n",
    "    - 0 23 * * tue = 11PM every Tuesday\n",
    "\n"
   ]
  },
  {
   "cell_type": "code",
   "execution_count": 331,
   "id": "98fe9066-86fd-470c-baf4-c01df1993205",
   "metadata": {},
   "outputs": [],
   "source": [
    "schedule_name = 'github_api'"
   ]
  },
  {
   "cell_type": "code",
   "execution_count": 332,
   "id": "a477a787-467a-4e60-9eca-5e5500d0b0e9",
   "metadata": {},
   "outputs": [],
   "source": [
    "schedule = ''\n",
    "for schedule in scheduler_client.list_jobs(parent = f'projects/{PROJECT_ID}/locations/{REGION}'):\n",
    "    if schedule.name.endswith(schedule_name):\n",
    "        break\n",
    "    else: schedule = ''"
   ]
  },
  {
   "cell_type": "code",
   "execution_count": 333,
   "id": "bf167d0c-4e9d-40e9-84da-d7c1b873ffc2",
   "metadata": {},
   "outputs": [
    {
     "name": "stdout",
     "output_type": "stream",
     "text": [
      "name: \"projects/statmike-mlops-349915/locations/us-central1/jobs/github_api\"\n",
      "pubsub_target {\n",
      "  topic_name: \"projects/statmike-mlops-349915/topics/github_api\"\n",
      "  data: \"{\\\"PROJECT_ID\\\": \\\"statmike-mlops-349915\\\"}\"\n",
      "  attributes {\n",
      "    key: \"trigger\"\n",
      "    value: \"scheduled\"\n",
      "  }\n",
      "}\n",
      "user_update_time {\n",
      "  seconds: 1669567409\n",
      "}\n",
      "state: ENABLED\n",
      "schedule: \"0 6 * * *\"\n",
      "time_zone: \"America/New_York\"\n",
      "\n"
     ]
    }
   ],
   "source": [
    "if schedule:\n",
    "    print(schedule)\n",
    "else:\n",
    "    request = scheduler_v1.CreateJobRequest(\n",
    "        parent = f'projects/{PROJECT_ID}/locations/{REGION}',\n",
    "        job = scheduler_v1.Job(\n",
    "            name = f'projects/{PROJECT_ID}/locations/{REGION}/jobs/{schedule_name}',\n",
    "            pubsub_target = scheduler_v1.PubsubTarget(\n",
    "                topic_name = topic.name,\n",
    "                data = message,\n",
    "                attributes = {'trigger': 'scheduled'}\n",
    "            ),\n",
    "            schedule = '0 6 * * *',\n",
    "            time_zone = 'America/New_York'\n",
    "        )\n",
    "    )\n",
    "    schedule = scheduler_client.create_job(request = request)\n",
    "    print(schedule)"
   ]
  },
  {
   "cell_type": "code",
   "execution_count": 334,
   "id": "2348f21d-3337-4abe-8a6c-292324622318",
   "metadata": {},
   "outputs": [
    {
     "name": "stdout",
     "output_type": "stream",
     "text": [
      "Review the Cloud Scheduler in the console here:\n",
      "https://console.cloud.google.com/cloudscheduler?&project=statmike-mlops-349915\n"
     ]
    }
   ],
   "source": [
    "print(f'Review the Cloud Scheduler in the console here:\\nhttps://console.cloud.google.com/cloudscheduler?&project={PROJECT_ID}')"
   ]
  },
  {
   "cell_type": "markdown",
   "id": "8902d1ad-a100-4571-9a27-c4ac1cfda0d2",
   "metadata": {},
   "source": [
    "---\n",
    "## ELT\n",
    "\n",
    "Two phases\n",
    "- initial build\n",
    "- incremental build"
   ]
  },
  {
   "cell_type": "code",
   "execution_count": 397,
   "id": "4846bd3b-c199-479d-8723-2a38a815ed9d",
   "metadata": {},
   "outputs": [
    {
     "data": {
      "text/html": [
       "<div>\n",
       "<style scoped>\n",
       "    .dataframe tbody tr th:only-of-type {\n",
       "        vertical-align: middle;\n",
       "    }\n",
       "\n",
       "    .dataframe tbody tr th {\n",
       "        vertical-align: top;\n",
       "    }\n",
       "\n",
       "    .dataframe thead th {\n",
       "        text-align: right;\n",
       "    }\n",
       "</style>\n",
       "<table border=\"1\" class=\"dataframe\">\n",
       "  <thead>\n",
       "    <tr style=\"text-align: right;\">\n",
       "      <th></th>\n",
       "      <th>github_user</th>\n",
       "      <th>github_repo</th>\n",
       "      <th>collect_time</th>\n",
       "      <th>traffic_views_unique_14day</th>\n",
       "      <th>traffic_views_count_14day</th>\n",
       "      <th>traffic_views_unique_1day</th>\n",
       "      <th>traffic_views_count_1day</th>\n",
       "      <th>traffic_clones_unique_14day</th>\n",
       "      <th>traffic_clones_count_14day</th>\n",
       "      <th>traffic_clones_unique_1day</th>\n",
       "      <th>traffic_clones_count_1day</th>\n",
       "    </tr>\n",
       "  </thead>\n",
       "  <tbody>\n",
       "    <tr>\n",
       "      <th>0</th>\n",
       "      <td>statmike</td>\n",
       "      <td>vertex-ai-mlops</td>\n",
       "      <td>2022-11-27 03:29:06+00:00</td>\n",
       "      <td>253</td>\n",
       "      <td>1524</td>\n",
       "      <td>10</td>\n",
       "      <td>29</td>\n",
       "      <td>43</td>\n",
       "      <td>57</td>\n",
       "      <td>6</td>\n",
       "      <td>10</td>\n",
       "    </tr>\n",
       "    <tr>\n",
       "      <th>1</th>\n",
       "      <td>statmike</td>\n",
       "      <td>vertex-ai-mlops</td>\n",
       "      <td>2022-11-27 03:38:03+00:00</td>\n",
       "      <td>253</td>\n",
       "      <td>1524</td>\n",
       "      <td>10</td>\n",
       "      <td>29</td>\n",
       "      <td>43</td>\n",
       "      <td>57</td>\n",
       "      <td>6</td>\n",
       "      <td>10</td>\n",
       "    </tr>\n",
       "    <tr>\n",
       "      <th>2</th>\n",
       "      <td>statmike</td>\n",
       "      <td>vertex-ai-mlops</td>\n",
       "      <td>2022-11-27 17:57:41+00:00</td>\n",
       "      <td>246</td>\n",
       "      <td>1686</td>\n",
       "      <td>10</td>\n",
       "      <td>29</td>\n",
       "      <td>42</td>\n",
       "      <td>59</td>\n",
       "      <td>6</td>\n",
       "      <td>10</td>\n",
       "    </tr>\n",
       "    <tr>\n",
       "      <th>3</th>\n",
       "      <td>statmike</td>\n",
       "      <td>vertex-ai-mlops</td>\n",
       "      <td>2022-11-27 18:05:16+00:00</td>\n",
       "      <td>248</td>\n",
       "      <td>1689</td>\n",
       "      <td>10</td>\n",
       "      <td>29</td>\n",
       "      <td>42</td>\n",
       "      <td>59</td>\n",
       "      <td>6</td>\n",
       "      <td>10</td>\n",
       "    </tr>\n",
       "    <tr>\n",
       "      <th>4</th>\n",
       "      <td>statmike</td>\n",
       "      <td>vertex-ai-mlops</td>\n",
       "      <td>2022-11-28 01:43:35+00:00</td>\n",
       "      <td>249</td>\n",
       "      <td>1703</td>\n",
       "      <td>13</td>\n",
       "      <td>241</td>\n",
       "      <td>43</td>\n",
       "      <td>61</td>\n",
       "      <td>3</td>\n",
       "      <td>6</td>\n",
       "    </tr>\n",
       "    <tr>\n",
       "      <th>5</th>\n",
       "      <td>statmike</td>\n",
       "      <td>vertex-ai-mlops</td>\n",
       "      <td>2022-11-28 11:00:13+00:00</td>\n",
       "      <td>242</td>\n",
       "      <td>1693</td>\n",
       "      <td>13</td>\n",
       "      <td>241</td>\n",
       "      <td>41</td>\n",
       "      <td>61</td>\n",
       "      <td>3</td>\n",
       "      <td>6</td>\n",
       "    </tr>\n",
       "    <tr>\n",
       "      <th>6</th>\n",
       "      <td>statmike</td>\n",
       "      <td>vertex-ai-mlops</td>\n",
       "      <td>2022-11-29 11:00:11+00:00</td>\n",
       "      <td>239</td>\n",
       "      <td>1713</td>\n",
       "      <td>25</td>\n",
       "      <td>114</td>\n",
       "      <td>44</td>\n",
       "      <td>66</td>\n",
       "      <td>10</td>\n",
       "      <td>16</td>\n",
       "    </tr>\n",
       "    <tr>\n",
       "      <th>7</th>\n",
       "      <td>statmike</td>\n",
       "      <td>vertex-ai-mlops</td>\n",
       "      <td>2022-11-30 11:00:11+00:00</td>\n",
       "      <td>236</td>\n",
       "      <td>1708</td>\n",
       "      <td>36</td>\n",
       "      <td>222</td>\n",
       "      <td>43</td>\n",
       "      <td>67</td>\n",
       "      <td>5</td>\n",
       "      <td>8</td>\n",
       "    </tr>\n",
       "    <tr>\n",
       "      <th>8</th>\n",
       "      <td>statmike</td>\n",
       "      <td>vertex-ai-mlops</td>\n",
       "      <td>2022-12-02 11:00:10+00:00</td>\n",
       "      <td>239</td>\n",
       "      <td>1770</td>\n",
       "      <td>31</td>\n",
       "      <td>142</td>\n",
       "      <td>46</td>\n",
       "      <td>79</td>\n",
       "      <td>4</td>\n",
       "      <td>5</td>\n",
       "    </tr>\n",
       "    <tr>\n",
       "      <th>9</th>\n",
       "      <td>statmike</td>\n",
       "      <td>vertex-ai-mlops</td>\n",
       "      <td>2022-12-03 11:00:09+00:00</td>\n",
       "      <td>224</td>\n",
       "      <td>1726</td>\n",
       "      <td>24</td>\n",
       "      <td>80</td>\n",
       "      <td>41</td>\n",
       "      <td>75</td>\n",
       "      <td>2</td>\n",
       "      <td>2</td>\n",
       "    </tr>\n",
       "    <tr>\n",
       "      <th>10</th>\n",
       "      <td>statmike</td>\n",
       "      <td>vertex-ai-mlops</td>\n",
       "      <td>2022-12-06 11:00:08+00:00</td>\n",
       "      <td>226</td>\n",
       "      <td>1702</td>\n",
       "      <td>40</td>\n",
       "      <td>162</td>\n",
       "      <td>39</td>\n",
       "      <td>77</td>\n",
       "      <td>4</td>\n",
       "      <td>7</td>\n",
       "    </tr>\n",
       "  </tbody>\n",
       "</table>\n",
       "</div>"
      ],
      "text/plain": [
       "   github_user      github_repo              collect_time  \\\n",
       "0     statmike  vertex-ai-mlops 2022-11-27 03:29:06+00:00   \n",
       "1     statmike  vertex-ai-mlops 2022-11-27 03:38:03+00:00   \n",
       "2     statmike  vertex-ai-mlops 2022-11-27 17:57:41+00:00   \n",
       "3     statmike  vertex-ai-mlops 2022-11-27 18:05:16+00:00   \n",
       "4     statmike  vertex-ai-mlops 2022-11-28 01:43:35+00:00   \n",
       "5     statmike  vertex-ai-mlops 2022-11-28 11:00:13+00:00   \n",
       "6     statmike  vertex-ai-mlops 2022-11-29 11:00:11+00:00   \n",
       "7     statmike  vertex-ai-mlops 2022-11-30 11:00:11+00:00   \n",
       "8     statmike  vertex-ai-mlops 2022-12-02 11:00:10+00:00   \n",
       "9     statmike  vertex-ai-mlops 2022-12-03 11:00:09+00:00   \n",
       "10    statmike  vertex-ai-mlops 2022-12-06 11:00:08+00:00   \n",
       "\n",
       "    traffic_views_unique_14day  traffic_views_count_14day  \\\n",
       "0                          253                       1524   \n",
       "1                          253                       1524   \n",
       "2                          246                       1686   \n",
       "3                          248                       1689   \n",
       "4                          249                       1703   \n",
       "5                          242                       1693   \n",
       "6                          239                       1713   \n",
       "7                          236                       1708   \n",
       "8                          239                       1770   \n",
       "9                          224                       1726   \n",
       "10                         226                       1702   \n",
       "\n",
       "    traffic_views_unique_1day  traffic_views_count_1day  \\\n",
       "0                          10                        29   \n",
       "1                          10                        29   \n",
       "2                          10                        29   \n",
       "3                          10                        29   \n",
       "4                          13                       241   \n",
       "5                          13                       241   \n",
       "6                          25                       114   \n",
       "7                          36                       222   \n",
       "8                          31                       142   \n",
       "9                          24                        80   \n",
       "10                         40                       162   \n",
       "\n",
       "    traffic_clones_unique_14day  traffic_clones_count_14day  \\\n",
       "0                            43                          57   \n",
       "1                            43                          57   \n",
       "2                            42                          59   \n",
       "3                            42                          59   \n",
       "4                            43                          61   \n",
       "5                            41                          61   \n",
       "6                            44                          66   \n",
       "7                            43                          67   \n",
       "8                            46                          79   \n",
       "9                            41                          75   \n",
       "10                           39                          77   \n",
       "\n",
       "    traffic_clones_unique_1day  traffic_clones_count_1day  \n",
       "0                            6                         10  \n",
       "1                            6                         10  \n",
       "2                            6                         10  \n",
       "3                            6                         10  \n",
       "4                            3                          6  \n",
       "5                            3                          6  \n",
       "6                           10                         16  \n",
       "7                            5                          8  \n",
       "8                            4                          5  \n",
       "9                            2                          2  \n",
       "10                           4                          7  "
      ]
     },
     "execution_count": 397,
     "metadata": {},
     "output_type": "execute_result"
    }
   ],
   "source": [
    "query = f\"\"\"\n",
    "SELECT\n",
    "    # repo info\n",
    "    github_user, github_repo, collect_time, \n",
    "    \n",
    "    # traffic views info: rolling 2 weeks, yesterday\n",
    "    traffic_views.response.uniques as traffic_views_unique_14day,\n",
    "    traffic_views.response.count as traffic_views_count_14day,\n",
    "    traffic_views_un.uniques as traffic_views_unique_1day,\n",
    "    traffic_views_un.count as traffic_views_count_1day,\n",
    "    \n",
    "    # traffic clones info: rolling 2 weeks, yesterday\n",
    "    traffic_clones.response.uniques as traffic_clones_unique_14day,\n",
    "    traffic_clones.response.count as traffic_clones_count_14day,\n",
    "    traffic_clones_un.uniques as traffic_clones_unique_1day,\n",
    "    traffic_clones_un.count as traffic_clones_count_1day\n",
    "    \n",
    "FROM `statmike-mlops-349915.github_api.raw`, \n",
    "    UNNEST(traffic_views.response.views) AS traffic_views_un, \n",
    "    UNNEST(traffic_clones.response.clones) AS traffic_clones_un\n",
    "WHERE \n",
    "    DATE_DIFF(DATE(collect_time), DATE(traffic_views_un.timestamp), DAY) = 1 \n",
    "    AND\n",
    "    DATE_DIFF(DATE(collect_time), DATE(traffic_clones_un.timestamp), DAY) = 1\n",
    "ORDER BY collect_time\n",
    "\"\"\"\n",
    "results = bq.query(query = query).to_dataframe()\n",
    "results"
   ]
  },
  {
   "cell_type": "markdown",
   "id": "d2a06781-7eed-46a3-a02c-0c66d57ba4fe",
   "metadata": {},
   "source": [
    "---\n",
    "# END OF LIFE STEPS\n",
    "\n",
    "Now that the full ETL proceess for this data is setup this data can be used to create an initial history since it has been running for several month logging raw daily data. \n",
    "\n",
    "The section below will use the logic developed in the official setup to create initial tables for `github_metrics`. \n",
    "\n",
    "Then:\n",
    " - [ ] Remove Cloud Function\n",
    " - [ ] Remove Cloud Scheduler\n",
    " - [ ] Remove Pub/Sub\n",
    " - [ ] Delete Bucket Folder path\n",
    " - [ ] Delete BQ Dataset/Tables\n",
    " \n",
    " \n",
    " \n"
   ]
  },
  {
   "cell_type": "code",
   "execution_count": 24,
   "id": "70c17e6b-a354-4f27-b0ea-cc3a0b7483b0",
   "metadata": {},
   "outputs": [],
   "source": [
    "BQ_PROJECT = PROJECT_ID\n",
    "BQ_DATASET = 'github_api'"
   ]
  },
  {
   "cell_type": "markdown",
   "id": "65ef14ca-cecd-4a61-9ca5-ada5a7f69ab8",
   "metadata": {},
   "source": [
    "### RAW Get Last Collection Per Day\n",
    "\n",
    "Sometimes the script ran multiple time per day, get that last retrieval (collect_time)"
   ]
  },
  {
   "cell_type": "code",
   "execution_count": 77,
   "id": "2422586e-b6da-4c46-aaa5-224f005ef522",
   "metadata": {},
   "outputs": [
    {
     "data": {
      "text/plain": [
       "<google.cloud.bigquery.table._EmptyRowIterator at 0x7f55df6bf190>"
      ]
     },
     "execution_count": 77,
     "metadata": {},
     "output_type": "execute_result"
    }
   ],
   "source": [
    "query = f\"\"\"\n",
    "CREATE OR REPLACE TABLE `{BQ_PROJECT}.{BQ_DATASET}.raw_last` AS\n",
    "    WITH\n",
    "        ADDDATE AS (SELECT *, DATE(collect_time) as collect_date FROM `{BQ_PROJECT}.{BQ_DATASET}.raw`),\n",
    "        REDUCER AS (\n",
    "            SELECT AS VALUE ARRAY_AGG(t ORDER BY collect_time DESC LIMIT 1)[OFFSET(0)]\n",
    "            FROM ADDDATE t\n",
    "            GROUP BY collect_date)\n",
    "    SELECT *\n",
    "    FROM REDUCER\n",
    "    ORDER BY collect_date, collect_time\n",
    "\"\"\"\n",
    "job = bq.query(query = query)#.to_dataframe()\n",
    "job.result()"
   ]
  },
  {
   "cell_type": "markdown",
   "id": "c1e304af-aee7-4e35-bed7-dfe377a24e3f",
   "metadata": {},
   "source": [
    "## Traffic/Clones"
   ]
  },
  {
   "cell_type": "code",
   "execution_count": 97,
   "id": "ea543d9a-649d-4d40-a915-ab6e1bafdd60",
   "metadata": {},
   "outputs": [],
   "source": [
    "BQ_TABLE_PREFIX = 'traffic_clones'"
   ]
  },
  {
   "cell_type": "code",
   "execution_count": 98,
   "id": "d3546988-cdd9-4e48-9d92-2f01d01f579c",
   "metadata": {},
   "outputs": [
    {
     "data": {
      "text/plain": [
       "<google.cloud.bigquery.table._EmptyRowIterator at 0x7f55df4d4250>"
      ]
     },
     "execution_count": 98,
     "metadata": {},
     "output_type": "execute_result"
    }
   ],
   "source": [
    "query = f\"\"\"\n",
    "CREATE OR REPLACE TABLE `{BQ_PROJECT}.{BQ_DATASET}.{BQ_TABLE_PREFIX}_raw` AS\n",
    "SELECT\n",
    "    collect_date,\n",
    "    FORMAT_TIMESTAMP('%Y-%m-%dT%H:%M:%SZ', traffic_clones_un.timestamp) as timestamp,\n",
    "    traffic_clones_un.count as count,\n",
    "    traffic_clones_un.uniques as uniques,\n",
    "    traffic_clones.response.uniques as uniques_last14days,\n",
    "    CONCAT(github_user, '/', github_repo) as repo\n",
    "FROM `{BQ_PROJECT}.{BQ_DATASET}.raw_last`, \n",
    "    UNNEST(traffic_clones.response.clones) AS traffic_clones_un\n",
    "ORDER BY collect_date, timestamp\n",
    "\"\"\"\n",
    "job = bq.query(query = query)#.to_dataframe()\n",
    "job.result()"
   ]
  },
  {
   "cell_type": "code",
   "execution_count": 106,
   "id": "75438fa5-b304-43d2-b08d-3cc2c8a976e2",
   "metadata": {},
   "outputs": [
    {
     "data": {
      "text/plain": [
       "<google.cloud.bigquery.table._EmptyRowIterator at 0x7f55ca978290>"
      ]
     },
     "execution_count": 106,
     "metadata": {},
     "output_type": "execute_result"
    }
   ],
   "source": [
    "query = f\"\"\"\n",
    "CREATE OR REPLACE TABLE `{BQ_PROJECT}.{BQ_DATASET}.{BQ_TABLE_PREFIX}_prep` AS\n",
    "WITH\n",
    "    COL_U14 AS (\n",
    "        SELECT\n",
    "            FORMAT_TIMESTAMP('%Y-%m-%dT%H:%M:%SZ', TIMESTAMP(collect_date)) as timestamp,\n",
    "            repo, MAX(uniques_last14days) as uniques_last14days\n",
    "        FROM `{BQ_PROJECT}.{BQ_DATASET}.{BQ_TABLE_PREFIX}_raw`\n",
    "        GROUP BY collect_date, repo\n",
    "    ),\n",
    "    COL_COUNT AS (\n",
    "        SELECT timestamp, repo, MAX(count) as count\n",
    "        FROM `{BQ_PROJECT}.{BQ_DATASET}.{BQ_TABLE_PREFIX}_raw`\n",
    "        GROUP BY timestamp, repo\n",
    "    ),\n",
    "    COL_UNIQUES AS (\n",
    "        SELECT timestamp, repo, MAX(uniques) as uniques\n",
    "        FROM `{BQ_PROJECT}.{BQ_DATASET}.{BQ_TABLE_PREFIX}_raw`\n",
    "        GROUP BY timestamp, repo\n",
    "    )\n",
    "SELECT *\n",
    "FROM COL_U14\n",
    "LEFT OUTER JOIN COL_UNIQUES USING(timestamp, repo)\n",
    "LEFT OUTER JOIN COL_COUNT USING(timestamp, repo)\n",
    "ORDER BY timestamp\n",
    "\"\"\"\n",
    "job = bq.query(query = query)#.to_dataframe()\n",
    "job.result()"
   ]
  },
  {
   "cell_type": "markdown",
   "id": "ace17dd1-c07f-4bab-929a-70ee75ecebb2",
   "metadata": {},
   "source": [
    "## Traffic/popular/paths"
   ]
  },
  {
   "cell_type": "code",
   "execution_count": 113,
   "id": "77ea7975-97f5-4500-9f2b-6673a5f529e5",
   "metadata": {},
   "outputs": [],
   "source": [
    "BQ_TABLE_PREFIX = 'traffic_popular_paths'"
   ]
  },
  {
   "cell_type": "code",
   "execution_count": 114,
   "id": "82a37a3d-b629-4da6-a398-d7e7919b2800",
   "metadata": {},
   "outputs": [
    {
     "data": {
      "text/plain": [
       "<google.cloud.bigquery.table._EmptyRowIterator at 0x7f55df4df9d0>"
      ]
     },
     "execution_count": 114,
     "metadata": {},
     "output_type": "execute_result"
    }
   ],
   "source": [
    "query = f\"\"\"\n",
    "CREATE OR REPLACE TABLE `{BQ_PROJECT}.{BQ_DATASET}.{BQ_TABLE_PREFIX}_raw` AS\n",
    "SELECT\n",
    "    traffic_un.count as count,\n",
    "    traffic_un.uniques as uniques,\n",
    "    traffic_un.title as title,\n",
    "    traffic_un.path as path,\n",
    "    FORMAT_TIMESTAMP('%Y-%m-%dT00:00:00Z', collect_time) as timestamp,\n",
    "    CONCAT(github_user, '/', github_repo) as repo\n",
    "FROM `{BQ_PROJECT}.{BQ_DATASET}.raw_last`, \n",
    "    UNNEST(traffic_popular_paths.response) AS traffic_un\n",
    "ORDER BY collect_time, count DESC\n",
    "\"\"\"\n",
    "job = bq.query(query = query)#.to_dataframe()\n",
    "job.result()"
   ]
  },
  {
   "cell_type": "markdown",
   "id": "4e8c3e6e-8937-43e9-8f74-47ed4f90539e",
   "metadata": {},
   "source": [
    "not a best practice to extract (BQ -> Pandas), then transform, then Load (Pandas -> BQ).  Since this is a one time operation it is less syntax to parse the `path` and `title` columns using Pandas."
   ]
  },
  {
   "cell_type": "code",
   "execution_count": 115,
   "id": "444a653a-016e-43fd-9ee9-06452e3a3926",
   "metadata": {},
   "outputs": [
    {
     "data": {
      "text/html": [
       "<div>\n",
       "<style scoped>\n",
       "    .dataframe tbody tr th:only-of-type {\n",
       "        vertical-align: middle;\n",
       "    }\n",
       "\n",
       "    .dataframe tbody tr th {\n",
       "        vertical-align: top;\n",
       "    }\n",
       "\n",
       "    .dataframe thead th {\n",
       "        text-align: right;\n",
       "    }\n",
       "</style>\n",
       "<table border=\"1\" class=\"dataframe\">\n",
       "  <thead>\n",
       "    <tr style=\"text-align: right;\">\n",
       "      <th></th>\n",
       "      <th>count</th>\n",
       "      <th>uniques</th>\n",
       "      <th>title</th>\n",
       "      <th>path</th>\n",
       "      <th>timestamp</th>\n",
       "      <th>repo</th>\n",
       "    </tr>\n",
       "  </thead>\n",
       "  <tbody>\n",
       "    <tr>\n",
       "      <th>0</th>\n",
       "      <td>429</td>\n",
       "      <td>179</td>\n",
       "      <td>statmike/vertex-ai-mlops: Google Cloud Platfor...</td>\n",
       "      <td>/statmike/vertex-ai-mlops</td>\n",
       "      <td>2022-11-27T00:00:00Z</td>\n",
       "      <td>statmike/vertex-ai-mlops</td>\n",
       "    </tr>\n",
       "    <tr>\n",
       "      <th>1</th>\n",
       "      <td>73</td>\n",
       "      <td>37</td>\n",
       "      <td>vertex-ai-mlops/02 - Vertex AI AutoML at main ...</td>\n",
       "      <td>/statmike/vertex-ai-mlops/tree/main/02%20-%20V...</td>\n",
       "      <td>2022-11-27T00:00:00Z</td>\n",
       "      <td>statmike/vertex-ai-mlops</td>\n",
       "    </tr>\n",
       "    <tr>\n",
       "      <th>2</th>\n",
       "      <td>55</td>\n",
       "      <td>31</td>\n",
       "      <td>vertex-ai-mlops/00 - Setup at main · statmike/...</td>\n",
       "      <td>/statmike/vertex-ai-mlops/tree/main/00%20-%20S...</td>\n",
       "      <td>2022-11-27T00:00:00Z</td>\n",
       "      <td>statmike/vertex-ai-mlops</td>\n",
       "    </tr>\n",
       "    <tr>\n",
       "      <th>3</th>\n",
       "      <td>55</td>\n",
       "      <td>31</td>\n",
       "      <td>vertex-ai-mlops/05 - TensorFlow at main · stat...</td>\n",
       "      <td>/statmike/vertex-ai-mlops/tree/main/05%20-%20T...</td>\n",
       "      <td>2022-11-27T00:00:00Z</td>\n",
       "      <td>statmike/vertex-ai-mlops</td>\n",
       "    </tr>\n",
       "    <tr>\n",
       "      <th>4</th>\n",
       "      <td>47</td>\n",
       "      <td>28</td>\n",
       "      <td>vertex-ai-mlops/00 - Environment Setup.ipynb a...</td>\n",
       "      <td>/statmike/vertex-ai-mlops/blob/main/00%20-%20S...</td>\n",
       "      <td>2022-11-27T00:00:00Z</td>\n",
       "      <td>statmike/vertex-ai-mlops</td>\n",
       "    </tr>\n",
       "  </tbody>\n",
       "</table>\n",
       "</div>"
      ],
      "text/plain": [
       "   count  uniques                                              title  \\\n",
       "0    429      179  statmike/vertex-ai-mlops: Google Cloud Platfor...   \n",
       "1     73       37  vertex-ai-mlops/02 - Vertex AI AutoML at main ...   \n",
       "2     55       31  vertex-ai-mlops/00 - Setup at main · statmike/...   \n",
       "3     55       31  vertex-ai-mlops/05 - TensorFlow at main · stat...   \n",
       "4     47       28  vertex-ai-mlops/00 - Environment Setup.ipynb a...   \n",
       "\n",
       "                                                path             timestamp  \\\n",
       "0                          /statmike/vertex-ai-mlops  2022-11-27T00:00:00Z   \n",
       "1  /statmike/vertex-ai-mlops/tree/main/02%20-%20V...  2022-11-27T00:00:00Z   \n",
       "2  /statmike/vertex-ai-mlops/tree/main/00%20-%20S...  2022-11-27T00:00:00Z   \n",
       "3  /statmike/vertex-ai-mlops/tree/main/05%20-%20T...  2022-11-27T00:00:00Z   \n",
       "4  /statmike/vertex-ai-mlops/blob/main/00%20-%20S...  2022-11-27T00:00:00Z   \n",
       "\n",
       "                       repo  \n",
       "0  statmike/vertex-ai-mlops  \n",
       "1  statmike/vertex-ai-mlops  \n",
       "2  statmike/vertex-ai-mlops  \n",
       "3  statmike/vertex-ai-mlops  \n",
       "4  statmike/vertex-ai-mlops  "
      ]
     },
     "execution_count": 115,
     "metadata": {},
     "output_type": "execute_result"
    }
   ],
   "source": [
    "query = f\"\"\"\n",
    "SELECT\n",
    "    traffic_un.count as count,\n",
    "    traffic_un.uniques as uniques,\n",
    "    traffic_un.title as title,\n",
    "    traffic_un.path as path,\n",
    "    FORMAT_TIMESTAMP('%Y-%m-%dT00:00:00Z', collect_time) as timestamp,\n",
    "    CONCAT(github_user, '/', github_repo) as repo\n",
    "FROM `{BQ_PROJECT}.{BQ_DATASET}.raw_last`, \n",
    "    UNNEST(traffic_popular_paths.response) AS traffic_un\n",
    "ORDER BY collect_time, count DESC\n",
    "\"\"\"\n",
    "extract = bq.query(query = query).to_dataframe()\n",
    "extract.head()"
   ]
  },
  {
   "cell_type": "code",
   "execution_count": 116,
   "id": "f591834b-7eb1-496d-8688-47f31e884b79",
   "metadata": {},
   "outputs": [
    {
     "data": {
      "text/html": [
       "<div>\n",
       "<style scoped>\n",
       "    .dataframe tbody tr th:only-of-type {\n",
       "        vertical-align: middle;\n",
       "    }\n",
       "\n",
       "    .dataframe tbody tr th {\n",
       "        vertical-align: top;\n",
       "    }\n",
       "\n",
       "    .dataframe thead th {\n",
       "        text-align: right;\n",
       "    }\n",
       "</style>\n",
       "<table border=\"1\" class=\"dataframe\">\n",
       "  <thead>\n",
       "    <tr style=\"text-align: right;\">\n",
       "      <th></th>\n",
       "      <th>count</th>\n",
       "      <th>uniques</th>\n",
       "      <th>timestamp</th>\n",
       "      <th>repo</th>\n",
       "      <th>file</th>\n",
       "    </tr>\n",
       "  </thead>\n",
       "  <tbody>\n",
       "    <tr>\n",
       "      <th>0</th>\n",
       "      <td>429</td>\n",
       "      <td>179</td>\n",
       "      <td>2022-11-27T00:00:00Z</td>\n",
       "      <td>statmike/vertex-ai-mlops</td>\n",
       "      <td>/statmike/vertex-ai-mlops/readme.md</td>\n",
       "    </tr>\n",
       "    <tr>\n",
       "      <th>1</th>\n",
       "      <td>73</td>\n",
       "      <td>37</td>\n",
       "      <td>2022-11-27T00:00:00Z</td>\n",
       "      <td>statmike/vertex-ai-mlops</td>\n",
       "      <td>/statmike/vertex-ai-mlops/02 - Vertex AI AutoM...</td>\n",
       "    </tr>\n",
       "    <tr>\n",
       "      <th>2</th>\n",
       "      <td>55</td>\n",
       "      <td>31</td>\n",
       "      <td>2022-11-27T00:00:00Z</td>\n",
       "      <td>statmike/vertex-ai-mlops</td>\n",
       "      <td>/statmike/vertex-ai-mlops/00 - Setup/readme.md</td>\n",
       "    </tr>\n",
       "    <tr>\n",
       "      <th>3</th>\n",
       "      <td>55</td>\n",
       "      <td>31</td>\n",
       "      <td>2022-11-27T00:00:00Z</td>\n",
       "      <td>statmike/vertex-ai-mlops</td>\n",
       "      <td>/statmike/vertex-ai-mlops/05 - TensorFlow/read...</td>\n",
       "    </tr>\n",
       "    <tr>\n",
       "      <th>4</th>\n",
       "      <td>47</td>\n",
       "      <td>28</td>\n",
       "      <td>2022-11-27T00:00:00Z</td>\n",
       "      <td>statmike/vertex-ai-mlops</td>\n",
       "      <td>/statmike/vertex-ai-mlops/00 - Setup/00 - Envi...</td>\n",
       "    </tr>\n",
       "  </tbody>\n",
       "</table>\n",
       "</div>"
      ],
      "text/plain": [
       "   count  uniques             timestamp                      repo  \\\n",
       "0    429      179  2022-11-27T00:00:00Z  statmike/vertex-ai-mlops   \n",
       "1     73       37  2022-11-27T00:00:00Z  statmike/vertex-ai-mlops   \n",
       "2     55       31  2022-11-27T00:00:00Z  statmike/vertex-ai-mlops   \n",
       "3     55       31  2022-11-27T00:00:00Z  statmike/vertex-ai-mlops   \n",
       "4     47       28  2022-11-27T00:00:00Z  statmike/vertex-ai-mlops   \n",
       "\n",
       "                                                file  \n",
       "0                /statmike/vertex-ai-mlops/readme.md  \n",
       "1  /statmike/vertex-ai-mlops/02 - Vertex AI AutoM...  \n",
       "2     /statmike/vertex-ai-mlops/00 - Setup/readme.md  \n",
       "3  /statmike/vertex-ai-mlops/05 - TensorFlow/read...  \n",
       "4  /statmike/vertex-ai-mlops/00 - Setup/00 - Envi...  "
      ]
     },
     "execution_count": 116,
     "metadata": {},
     "output_type": "execute_result"
    }
   ],
   "source": [
    "import urllib\n",
    "def parse_path(p):\n",
    "    p = urllib.parse.unquote(p).replace('blob/main/', '')\n",
    "    p = p.replace('tree/main/', '')\n",
    "    if p.rfind('.') == -1 or (p.rfind('.') < p.rfind('/')):\n",
    "        p += '/readme.md'\n",
    "    return p\n",
    "\n",
    "extract['file'] = extract.apply(lambda x: parse_path(x['path']), axis = 1)\n",
    "extract = extract.drop(['title', 'path'], axis = 1)\n",
    "extract.head()"
   ]
  },
  {
   "cell_type": "code",
   "execution_count": 117,
   "id": "ff28ff02-559c-4f09-9791-b46fb907e4ec",
   "metadata": {},
   "outputs": [
    {
     "data": {
      "text/plain": [
       "LoadJob<project=statmike-mlops-349915, location=US, id=1323f4fd-0b61-40c6-930e-249e65153db5>"
      ]
     },
     "execution_count": 117,
     "metadata": {},
     "output_type": "execute_result"
    }
   ],
   "source": [
    "load_job = bq.load_table_from_dataframe(\n",
    "    dataframe = extract,\n",
    "    destination = bigquery.TableReference.from_string(f\"{BQ_PROJECT}.{BQ_DATASET}.{BQ_TABLE_PREFIX}_raw\"),\n",
    "    job_config = bigquery.LoadJobConfig(\n",
    "        write_disposition = 'WRITE_TRUNCATE', # WRITE_TRUNCATE = replace if exists, WRITE_APPEND = append if exists, WRITE_EMPTY = write new but dont overwrite\n",
    "        autodetect = True, # detect schema\n",
    "    )\n",
    ")\n",
    "load_job.result()"
   ]
  },
  {
   "cell_type": "code",
   "execution_count": 118,
   "id": "64fbcd25-3343-4436-a450-775976c5ff34",
   "metadata": {},
   "outputs": [
    {
     "data": {
      "text/plain": [
       "<google.cloud.bigquery.table._EmptyRowIterator at 0x7f55c9d8edd0>"
      ]
     },
     "execution_count": 118,
     "metadata": {},
     "output_type": "execute_result"
    }
   ],
   "source": [
    "query = f\"\"\"\n",
    "CREATE OR REPLACE TABLE `{BQ_PROJECT}.{BQ_DATASET}.{BQ_TABLE_PREFIX}_prep` AS\n",
    "SELECT *\n",
    "FROM `{BQ_PROJECT}.{BQ_DATASET}.{BQ_TABLE_PREFIX}_raw`\n",
    "ORDER BY timestamp, count DESC \n",
    "\"\"\"\n",
    "job = bq.query(query = query)#.to_dataframe()\n",
    "job.result()"
   ]
  },
  {
   "cell_type": "markdown",
   "id": "ce1f11c6-8432-48c5-b990-8986732ecb91",
   "metadata": {},
   "source": [
    "## Traffic/popular/referrers"
   ]
  },
  {
   "cell_type": "code",
   "execution_count": 110,
   "id": "d3754a16-c0f5-47f3-869f-76c1e339f171",
   "metadata": {},
   "outputs": [],
   "source": [
    "BQ_TABLE_PREFIX = 'traffic_popular_referrers'"
   ]
  },
  {
   "cell_type": "code",
   "execution_count": 111,
   "id": "4d435318-2566-438a-8bc6-75525ed54822",
   "metadata": {},
   "outputs": [
    {
     "data": {
      "text/plain": [
       "<google.cloud.bigquery.table._EmptyRowIterator at 0x7f55df4c22d0>"
      ]
     },
     "execution_count": 111,
     "metadata": {},
     "output_type": "execute_result"
    }
   ],
   "source": [
    "query = f\"\"\"\n",
    "CREATE OR REPLACE TABLE `{BQ_PROJECT}.{BQ_DATASET}.{BQ_TABLE_PREFIX}_raw` AS\n",
    "SELECT\n",
    "    traffic_un.referrer as referrer,\n",
    "    traffic_un.count as count,\n",
    "    traffic_un.uniques as uniques,\n",
    "    FORMAT_TIMESTAMP('%Y-%m-%dT00:00:00Z', collect_time) as timestamp,\n",
    "    CONCAT(github_user, '/', github_repo) as repo\n",
    "FROM `{BQ_PROJECT}.{BQ_DATASET}.raw_last`, \n",
    "    UNNEST(traffic_popular_referrers.response) AS traffic_un\n",
    "ORDER BY collect_time, count DESC\n",
    "\"\"\"\n",
    "job = bq.query(query = query)#.to_dataframe()\n",
    "job.result()"
   ]
  },
  {
   "cell_type": "code",
   "execution_count": 112,
   "id": "f5a86d26-05be-430c-ba0e-ee4585ba0361",
   "metadata": {},
   "outputs": [
    {
     "data": {
      "text/plain": [
       "<google.cloud.bigquery.table._EmptyRowIterator at 0x7f55f4317550>"
      ]
     },
     "execution_count": 112,
     "metadata": {},
     "output_type": "execute_result"
    }
   ],
   "source": [
    "query = f\"\"\"\n",
    "CREATE OR REPLACE TABLE `{BQ_PROJECT}.{BQ_DATASET}.{BQ_TABLE_PREFIX}_prep` AS\n",
    "SELECT *\n",
    "FROM `{BQ_PROJECT}.{BQ_DATASET}.{BQ_TABLE_PREFIX}_raw`\n",
    "ORDER BY timestamp, count DESC\n",
    "\"\"\"\n",
    "job = bq.query(query = query)#.to_dataframe()\n",
    "job.result()"
   ]
  },
  {
   "cell_type": "markdown",
   "id": "3e6c8624-c5c2-48e3-b76e-879edd00f43e",
   "metadata": {},
   "source": [
    "## Traffic/Views"
   ]
  },
  {
   "cell_type": "code",
   "execution_count": 107,
   "id": "eeb1ac6b-c40b-4e70-8772-26966abbfb67",
   "metadata": {},
   "outputs": [],
   "source": [
    "BQ_TABLE_PREFIX = 'traffic_views'"
   ]
  },
  {
   "cell_type": "code",
   "execution_count": 108,
   "id": "cb8bbf0c-d3c3-4288-8ae8-7a3ed407063e",
   "metadata": {},
   "outputs": [
    {
     "data": {
      "text/plain": [
       "<google.cloud.bigquery.table._EmptyRowIterator at 0x7f55c9d64e50>"
      ]
     },
     "execution_count": 108,
     "metadata": {},
     "output_type": "execute_result"
    }
   ],
   "source": [
    "query = f\"\"\"\n",
    "CREATE OR REPLACE TABLE `{BQ_PROJECT}.{BQ_DATASET}.{BQ_TABLE_PREFIX}_raw` AS\n",
    "SELECT\n",
    "    collect_date,\n",
    "    FORMAT_TIMESTAMP('%Y-%m-%dT%H:%M:%SZ', traffic_views_un.timestamp) as timestamp,\n",
    "    traffic_views_un.count as count,\n",
    "    traffic_views_un.uniques as uniques,\n",
    "    traffic_views.response.uniques as uniques_last14days,\n",
    "    CONCAT(github_user, '/', github_repo) as repo\n",
    "FROM `{BQ_PROJECT}.{BQ_DATASET}.raw_last`, \n",
    "    UNNEST(traffic_views.response.views) AS traffic_views_un\n",
    "ORDER BY collect_date, timestamp\n",
    "\"\"\"\n",
    "job = bq.query(query = query)#.to_dataframe()\n",
    "job.result()"
   ]
  },
  {
   "cell_type": "code",
   "execution_count": 109,
   "id": "607bd7e2-9942-4ef7-92e5-ab30b60e01b5",
   "metadata": {},
   "outputs": [
    {
     "data": {
      "text/plain": [
       "<google.cloud.bigquery.table._EmptyRowIterator at 0x7f55df556890>"
      ]
     },
     "execution_count": 109,
     "metadata": {},
     "output_type": "execute_result"
    }
   ],
   "source": [
    "query = f\"\"\"\n",
    "CREATE OR REPLACE TABLE `{BQ_PROJECT}.{BQ_DATASET}.{BQ_TABLE_PREFIX}_prep` AS\n",
    "WITH\n",
    "    COL_U14 AS (\n",
    "        SELECT\n",
    "            FORMAT_TIMESTAMP('%Y-%m-%dT%H:%M:%SZ', TIMESTAMP(collect_date)) as timestamp,\n",
    "            repo, MAX(uniques_last14days) as uniques_last14days\n",
    "        FROM `{BQ_PROJECT}.{BQ_DATASET}.{BQ_TABLE_PREFIX}_raw`\n",
    "        GROUP BY collect_date, repo\n",
    "    ),\n",
    "    COL_COUNT AS (\n",
    "        SELECT timestamp, repo, MAX(count) as count\n",
    "        FROM `{BQ_PROJECT}.{BQ_DATASET}.{BQ_TABLE_PREFIX}_raw`\n",
    "        GROUP BY timestamp, repo\n",
    "    ),\n",
    "    COL_UNIQUES AS (\n",
    "        SELECT timestamp, repo, MAX(uniques) as uniques\n",
    "        FROM `{BQ_PROJECT}.{BQ_DATASET}.{BQ_TABLE_PREFIX}_raw`\n",
    "        GROUP BY timestamp, repo\n",
    "    )\n",
    "SELECT *\n",
    "FROM COL_U14\n",
    "LEFT OUTER JOIN COL_UNIQUES USING(timestamp, repo)\n",
    "LEFT OUTER JOIN COL_COUNT USING(timestamp, repo)\n",
    "ORDER BY timestamp\n",
    "\"\"\"\n",
    "job = bq.query(query = query)#.to_dataframe()\n",
    "job.result()"
   ]
  },
  {
   "cell_type": "markdown",
   "id": "38339e14-3b3c-4c72-930e-d086d89c0c30",
   "metadata": {},
   "source": [
    "## REMOVE RESOURCES"
   ]
  },
  {
   "cell_type": "code",
   "execution_count": null,
   "id": "84161774-3f11-403f-9b3c-b06da59271f3",
   "metadata": {},
   "outputs": [],
   "source": []
  }
 ],
 "metadata": {
  "environment": {
   "kernel": "python3",
   "name": "tf2-gpu.2-3.m94",
   "type": "gcloud",
   "uri": "gcr.io/deeplearning-platform-release/tf2-gpu.2-3:m94"
  },
  "kernelspec": {
   "display_name": "Python 3",
   "language": "python",
   "name": "python3"
  },
  "language_info": {
   "codemirror_mode": {
    "name": "ipython",
    "version": 3
   },
   "file_extension": ".py",
   "mimetype": "text/x-python",
   "name": "python",
   "nbconvert_exporter": "python",
   "pygments_lexer": "ipython3",
   "version": "3.7.12"
  }
 },
 "nbformat": 4,
 "nbformat_minor": 5
}
